{
 "cells": [
  {
   "cell_type": "code",
   "execution_count": 8,
   "id": "4b9f1cd3",
   "metadata": {},
   "outputs": [],
   "source": [
    "math_scores = {\n",
    "    'student1': {\n",
    "        'math': 85,\n",
    "        'science': 90\n",
    "    },\n",
    "    'student2': {\n",
    "        'math': 75,\n",
    "        'science': 80\n",
    "    },\n",
    "    'student3': {\n",
    "        'math': 65,\n",
    "        'science': 70\n",
    "    }\n",
    "}"
   ]
  },
  {
   "cell_type": "code",
   "execution_count": 13,
   "id": "6ea9d087",
   "metadata": {},
   "outputs": [
    {
     "name": "stdout",
     "output_type": "stream",
     "text": [
      "75.0\n"
     ]
    }
   ],
   "source": [
    "T=0\n",
    "for k,v in math_scores.items():\n",
    "    T+=v[\"math\"]\n",
    "average=T/len(math_scores)\n",
    "print(average)"
   ]
  },
  {
   "cell_type": "code",
   "execution_count": 34,
   "id": "fc39227b",
   "metadata": {},
   "outputs": [
    {
     "name": "stdout",
     "output_type": "stream",
     "text": [
      "{85}\n",
      "{75}\n",
      "{65}\n"
     ]
    }
   ],
   "source": [
    "highest=0\n",
    "highest={}\n",
    "for k,v in math_scores.items():\n",
    "    if v[\"math\"]<100:\n",
    "        highest={v[\"math\"]}\n",
    "        print(highest)"
   ]
  },
  {
   "cell_type": "code",
   "execution_count": 29,
   "id": "5d2aa57d",
   "metadata": {},
   "outputs": [
    {
     "data": {
      "text/plain": [
       "int"
      ]
     },
     "execution_count": 29,
     "metadata": {},
     "output_type": "execute_result"
    }
   ],
   "source": [
    "type(highest)"
   ]
  },
  {
   "cell_type": "code",
   "execution_count": 35,
   "id": "def18ed7",
   "metadata": {},
   "outputs": [
    {
     "ename": "NameError",
     "evalue": "name 'student' is not defined",
     "output_type": "error",
     "traceback": [
      "\u001b[1;31m---------------------------------------------------------------------------\u001b[0m",
      "\u001b[1;31mNameError\u001b[0m                                 Traceback (most recent call last)",
      "\u001b[1;32m~\\AppData\\Local\\Temp\\ipykernel_17592\\351912446.py\u001b[0m in \u001b[0;36m<module>\u001b[1;34m\u001b[0m\n\u001b[1;32m----> 1\u001b[1;33m \u001b[1;32mif\u001b[0m \u001b[0mmath_scores\u001b[0m\u001b[1;33m[\u001b[0m\u001b[0mstudent\u001b[0m\u001b[1;33m]\u001b[0m\u001b[1;33m[\u001b[0m\u001b[1;34m'math'\u001b[0m\u001b[1;33m]\u001b[0m \u001b[1;33m>\u001b[0m \u001b[0mhighest_math_score\u001b[0m\u001b[1;33m:\u001b[0m\u001b[1;33m\u001b[0m\u001b[1;33m\u001b[0m\u001b[0m\n\u001b[0m\u001b[0;32m      2\u001b[0m     \u001b[0mhighest_math_score\u001b[0m \u001b[1;33m=\u001b[0m \u001b[0mmath_scores\u001b[0m\u001b[1;33m[\u001b[0m\u001b[0mstudent\u001b[0m\u001b[1;33m]\u001b[0m\u001b[1;33m[\u001b[0m\u001b[1;34m'math'\u001b[0m\u001b[1;33m]\u001b[0m\u001b[1;33m\u001b[0m\u001b[1;33m\u001b[0m\u001b[0m\n\u001b[0;32m      3\u001b[0m     \u001b[0mhighest_math_student\u001b[0m \u001b[1;33m=\u001b[0m \u001b[0mstudent\u001b[0m\u001b[1;33m\u001b[0m\u001b[1;33m\u001b[0m\u001b[0m\n",
      "\u001b[1;31mNameError\u001b[0m: name 'student' is not defined"
     ]
    }
   ],
   "source": [
    "if math_scores[student]['math'] > highest_math_score:\n",
    "    highest_math_score = math_scores[student]['math']\n",
    "    highest_math_student = student"
   ]
  },
  {
   "cell_type": "code",
   "execution_count": null,
   "id": "8e007236",
   "metadata": {},
   "outputs": [],
   "source": []
  }
 ],
 "metadata": {
  "kernelspec": {
   "display_name": "Python 3 (ipykernel)",
   "language": "python",
   "name": "python3"
  },
  "language_info": {
   "codemirror_mode": {
    "name": "ipython",
    "version": 3
   },
   "file_extension": ".py",
   "mimetype": "text/x-python",
   "name": "python",
   "nbconvert_exporter": "python",
   "pygments_lexer": "ipython3",
   "version": "3.9.13"
  }
 },
 "nbformat": 4,
 "nbformat_minor": 5
}

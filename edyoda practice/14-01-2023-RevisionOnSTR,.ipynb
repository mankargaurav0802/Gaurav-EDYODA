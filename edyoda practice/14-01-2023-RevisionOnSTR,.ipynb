{
 "cells": [
  {
   "cell_type": "markdown",
   "id": "a8845a5a",
   "metadata": {},
   "source": [
    "Concatenating strings:\n",
    "string1 = \"Hello\"\n",
    "string2 = \"World\"\n",
    "print(string1 + \" \" + string2)\n",
    "Replacing a substring:\n",
    "string = \"Hello World\"\n",
    "print(string.replace(\"World\", \"Universe\"))\n",
    "Splitting a string:\n",
    "string = \"Hello World\"\n",
    "print(string.split(\" \"))\n",
    "Stripping whitespaces:\n",
    "string = \" Hello World \"\n",
    "print(string.strip())\n",
    "Finding the length of a string:\n",
    "string = \"Hello World\"\n",
    "print(len(string))"
   ]
  },
  {
   "cell_type": "code",
   "execution_count": 30,
   "id": "1c3da8e1",
   "metadata": {},
   "outputs": [],
   "source": [
    "string1 = \"Hello\"\n",
    "string2 = \"run\""
   ]
  },
  {
   "cell_type": "code",
   "execution_count": 44,
   "id": "94487722",
   "metadata": {},
   "outputs": [
    {
     "data": {
      "text/plain": [
       "'Hello run'"
      ]
     },
     "execution_count": 44,
     "metadata": {},
     "output_type": "execute_result"
    }
   ],
   "source": [
    "str=string1+\" \"+string2\n",
    "str"
   ]
  },
  {
   "cell_type": "code",
   "execution_count": 45,
   "id": "148269a4",
   "metadata": {},
   "outputs": [
    {
     "data": {
      "text/plain": [
       "('Hello world', ['Hello', 'run'], 'Hello run', 'Hello Run', 'HELLO RUN')"
      ]
     },
     "execution_count": 45,
     "metadata": {},
     "output_type": "execute_result"
    }
   ],
   "source": [
    "str.replace(\"run\",\"world\")"
   ]
  },
  {
   "cell_type": "code",
   "execution_count": 46,
   "id": "d6ad3381",
   "metadata": {},
   "outputs": [
    {
     "data": {
      "text/plain": [
       "(['Hello', 'run'], 'Hello run', 'Hello Run', 'HELLO RUN')"
      ]
     },
     "execution_count": 46,
     "metadata": {},
     "output_type": "execute_result"
    }
   ],
   "source": [
    "str.split(\" \"),str.capitalize(),str.title(),str.upper()"
   ]
  },
  {
   "cell_type": "code",
   "execution_count": 55,
   "id": "f5ac8e97",
   "metadata": {},
   "outputs": [
    {
     "data": {
      "text/plain": [
       "'s0t0r0i0n0g01'"
      ]
     },
     "execution_count": 55,
     "metadata": {},
     "output_type": "execute_result"
    }
   ],
   "source": [
    "\"0\".join(\"string1\")"
   ]
  },
  {
   "cell_type": "code",
   "execution_count": 64,
   "id": "71c797a5",
   "metadata": {},
   "outputs": [],
   "source": [
    "m=\"==\".join([\"Hello\",\"world\",\"run\"])"
   ]
  },
  {
   "cell_type": "code",
   "execution_count": 69,
   "id": "62a90014",
   "metadata": {},
   "outputs": [
    {
     "data": {
      "text/plain": [
       "'Hello run'"
      ]
     },
     "execution_count": 69,
     "metadata": {},
     "output_type": "execute_result"
    }
   ],
   "source": [
    "str"
   ]
  },
  {
   "cell_type": "code",
   "execution_count": 78,
   "id": "1775e81b",
   "metadata": {},
   "outputs": [
    {
     "data": {
      "text/plain": [
       "('hello run', 'hello run')"
      ]
     },
     "execution_count": 78,
     "metadata": {},
     "output_type": "execute_result"
    }
   ],
   "source": [
    "str.casefold(),str.lower()"
   ]
  },
  {
   "cell_type": "code",
   "execution_count": 73,
   "id": "836e9d7d",
   "metadata": {},
   "outputs": [
    {
     "name": "stdout",
     "output_type": "stream",
     "text": [
      "Help on built-in function center:\n",
      "\n",
      "center(width, fillchar=' ', /) method of builtins.str instance\n",
      "    Return a centered string of length width.\n",
      "    \n",
      "    Padding is done using the specified fill character (default is a space).\n",
      "\n"
     ]
    }
   ],
   "source": [
    "help(str.center)"
   ]
  },
  {
   "cell_type": "code",
   "execution_count": null,
   "id": "1038ede0",
   "metadata": {},
   "outputs": [],
   "source": [
    ".center"
   ]
  },
  {
   "cell_type": "code",
   "execution_count": 147,
   "id": "51b0dfee",
   "metadata": {},
   "outputs": [
    {
     "name": "stdout",
     "output_type": "stream",
     "text": [
      "4\n",
      "Not Weird\n"
     ]
    }
   ],
   "source": [
    "n=eval(input())\n",
    "if n%2==0 and n in range(2,6):\n",
    "    print(\"Not Weird\")\n",
    "    if n%2==0 and n in range(6,20):\n",
    "        print(\"Weired\")\n",
    "    if n%2==0 and n>20:\n",
    "        print(\"Not Weird\")\n",
    "else:\n",
    "    print(\"Weird\")"
   ]
  },
  {
   "cell_type": "code",
   "execution_count": 149,
   "id": "6813239d",
   "metadata": {},
   "outputs": [
    {
     "name": "stdout",
     "output_type": "stream",
     "text": [
      "100\n",
      "Not Weird\n"
     ]
    }
   ],
   "source": [
    "n=eval(input())\n",
    "if n%2==0 and n in range(2,6):\n",
    "    print(\"Not Weird\")\n",
    "    if n%2==0 and n in range(6,20):\n",
    "        print(\"Weired\")\n",
    "if n%2==0 and n>20:\n",
    "    print(\"Not Weird\")\n",
    "else:\n",
    "    print(\"Weird\")"
   ]
  },
  {
   "cell_type": "code",
   "execution_count": 164,
   "id": "18051b0f",
   "metadata": {},
   "outputs": [
    {
     "name": "stdout",
     "output_type": "stream",
     "text": [
      "5\n",
      "0\n",
      "1\n",
      "4\n",
      "9\n",
      "16\n"
     ]
    }
   ],
   "source": [
    "n=eval(input())\n",
    "c=0\n",
    "for b in range (0,n):\n",
    "    if n>0:\n",
    "        c=b*b\n",
    "        print(c)"
   ]
  },
  {
   "cell_type": "code",
   "execution_count": 169,
   "id": "48757afc",
   "metadata": {},
   "outputs": [
    {
     "name": "stdout",
     "output_type": "stream",
     "text": [
      "2000\n",
      "False\n"
     ]
    }
   ],
   "source": [
    "year=eval(input())\n",
    "if year%4==0 and year%100!=0:\n",
    "    print(False)\n",
    "else:\n",
    "    print(True)"
   ]
  },
  {
   "cell_type": "markdown",
   "id": "c8cf9595",
   "metadata": {},
   "source": [
    "Extracting a substring:\n",
    "string = \"Hello World\"\n",
    "print(string[0:5]) # prints \"Hello\"\n",
    "Changing the case of a string:\n",
    "string = \"Hello World\"\n",
    "print(string.upper()) # prints \"HELLO WORLD\"\n",
    "print(string.lower()) # prints \"hello world\"\n",
    "Counting the occurrence of a substring:\n",
    "string = \"Hello World, Hello World\"\n",
    "print(string.count(\"Hello\")) # prints 2\n",
    "Checking if a string starts or ends with a certain substring:\n",
    "string = \"Hello World\"\n",
    "print(string.startswith(\"Hello\")) # prints True\n",
    "print(string.endswith(\"World\")) # prints True\n",
    "Joining a list of strings into a single string:\n",
    "list_of_strings = [\"Hello\", \"World\"]\n",
    "print(\" \".join(list_of_strings)) # prints \"Hello World\""
   ]
  },
  {
   "cell_type": "code",
   "execution_count": 80,
   "id": "915898b4",
   "metadata": {},
   "outputs": [],
   "source": [
    "string = \"Hello World\""
   ]
  },
  {
   "cell_type": "code",
   "execution_count": 87,
   "id": "95bed03d",
   "metadata": {},
   "outputs": [
    {
     "data": {
      "text/plain": [
       "'Hello'"
      ]
     },
     "execution_count": 87,
     "metadata": {},
     "output_type": "execute_result"
    }
   ],
   "source": [
    "string[0:5]"
   ]
  },
  {
   "cell_type": "code",
   "execution_count": 95,
   "id": "76355a67",
   "metadata": {},
   "outputs": [
    {
     "data": {
      "text/plain": [
       "('HELLO WORLD',\n",
       " 'hello world',\n",
       " 'Hello world',\n",
       " 'hello world',\n",
       " 'hELLO wORLD',\n",
       " 'Hello World')"
      ]
     },
     "execution_count": 95,
     "metadata": {},
     "output_type": "execute_result"
    }
   ],
   "source": [
    "string.upper(),string.lower(),string.capitalize(),string.casefold(),string.swapcase(),string.title()"
   ]
  },
  {
   "cell_type": "code",
   "execution_count": 96,
   "id": "2812416e",
   "metadata": {},
   "outputs": [],
   "source": [
    "string = \"Hello World, Hello World\""
   ]
  },
  {
   "cell_type": "code",
   "execution_count": 100,
   "id": "09e76548",
   "metadata": {},
   "outputs": [
    {
     "data": {
      "text/plain": [
       "(2, 10)"
      ]
     },
     "execution_count": 100,
     "metadata": {},
     "output_type": "execute_result"
    }
   ],
   "source": [
    "string.count(\"Hello\"),string.index(\"d\")"
   ]
  },
  {
   "cell_type": "code",
   "execution_count": 114,
   "id": "03067849",
   "metadata": {},
   "outputs": [
    {
     "data": {
      "text/plain": [
       "(True, True)"
      ]
     },
     "execution_count": 114,
     "metadata": {},
     "output_type": "execute_result"
    }
   ],
   "source": [
    "string.startswith(\"H\"),string.endswith(\"d\")"
   ]
  },
  {
   "cell_type": "code",
   "execution_count": 118,
   "id": "fad647cc",
   "metadata": {},
   "outputs": [
    {
     "data": {
      "text/plain": [
       "'Hello--World'"
      ]
     },
     "execution_count": 118,
     "metadata": {},
     "output_type": "execute_result"
    }
   ],
   "source": [
    "list_of_strings = [\"Hello\", \"World\"]\n",
    "string_conversion=\"--\".join(list_of_strings)\n",
    "string_conversion"
   ]
  },
  {
   "cell_type": "markdown",
   "id": "591432e1",
   "metadata": {},
   "source": [
    "import string\n",
    "\n",
    "def remove_punctuation(input_string):\n",
    "    # Make a translator object to remove punctuation\n",
    "    translator = str.maketrans('', '', string.punctuation)\n",
    "\n",
    "    # Use this object to remove all punctuation from the input_string\n",
    "    no_punct = input_string.translate(translator)\n",
    "    return no_punct\n",
    "\n",
    "example_string = \"Hello, World! How are you today?\"\n",
    "print(remove_punctuation(example_string))"
   ]
  },
  {
   "cell_type": "code",
   "execution_count": 119,
   "id": "5af19118",
   "metadata": {},
   "outputs": [
    {
     "data": {
      "text/plain": [
       "'Hello World, Hello World'"
      ]
     },
     "execution_count": 119,
     "metadata": {},
     "output_type": "execute_result"
    }
   ],
   "source": [
    "string"
   ]
  },
  {
   "cell_type": "code",
   "execution_count": 133,
   "id": "d3901c21",
   "metadata": {},
   "outputs": [
    {
     "ename": "ValueError",
     "evalue": "the first two maketrans arguments must have equal length",
     "output_type": "error",
     "traceback": [
      "\u001b[1;31m---------------------------------------------------------------------------\u001b[0m",
      "\u001b[1;31mValueError\u001b[0m                                Traceback (most recent call last)",
      "\u001b[1;32m~\\AppData\\Local\\Temp\\ipykernel_8488\\1263690589.py\u001b[0m in \u001b[0;36m<module>\u001b[1;34m\u001b[0m\n\u001b[1;32m----> 1\u001b[1;33m \u001b[0mstring\u001b[0m\u001b[1;33m.\u001b[0m\u001b[0mmaketrans\u001b[0m\u001b[1;33m(\u001b[0m\u001b[1;34m\",\"\u001b[0m\u001b[1;33m,\u001b[0m\u001b[1;34m\"0000\"\u001b[0m\u001b[1;33m)\u001b[0m\u001b[1;33m\u001b[0m\u001b[1;33m\u001b[0m\u001b[0m\n\u001b[0m",
      "\u001b[1;31mValueError\u001b[0m: the first two maketrans arguments must have equal length"
     ]
    }
   ],
   "source": []
  },
  {
   "cell_type": "code",
   "execution_count": null,
   "id": "1d41bf02",
   "metadata": {},
   "outputs": [],
   "source": []
  },
  {
   "cell_type": "code",
   "execution_count": null,
   "id": "05f2979b",
   "metadata": {},
   "outputs": [],
   "source": []
  },
  {
   "cell_type": "markdown",
   "id": "0b3cad2b",
   "metadata": {},
   "source": [
    "# import re\n",
    "\n",
    "def extract_numbers_from_text(string):\n",
    "    # Find all of the digits\n",
    "    digits = re.findall(r\"\\d+\", string)\n",
    "    return digits\n",
    "\n",
    "example_string = \"There are 12 monkeys in the zoo, and 4 lions.\"\n",
    "print(extract_numbers_from_text(example_string))"
   ]
  },
  {
   "cell_type": "code",
   "execution_count": null,
   "id": "2eacf88c",
   "metadata": {},
   "outputs": [],
   "source": []
  },
  {
   "cell_type": "markdown",
   "id": "5b9ab15c",
   "metadata": {},
   "source": [
    "import re\n",
    "\n",
    "def extract_email_addresses(string):\n",
    "    # Find all email addresses\n",
    "    email_addresses = re.findall(r\"[a-zA-Z0-9_.+-]+@[a-zA-Z0-9-]+\\.[a-zA-Z0-9-.]+\", string)\n",
    "    return email_addresses\n",
    "\n",
    "example_string = \"Please contact us at contact@example.com or support@example.com for assistance.\"\n",
    "print(extract_email_addresses(example_string))"
   ]
  },
  {
   "cell_type": "code",
   "execution_count": null,
   "id": "ef8de301",
   "metadata": {},
   "outputs": [],
   "source": []
  },
  {
   "cell_type": "markdown",
   "id": "83af4506",
   "metadata": {},
   "source": [
    "from nltk.corpus import stopwords\n",
    "from nltk.tokenize import word_tokenize\n",
    "\n",
    "def remove_stop_words(text):\n",
    "    stop_words = set(stopwords.words('english'))\n",
    "    words = word_tokenize(text)\n",
    "    filtered_sentence = [w for w in words if not w in stop_words]\n",
    "    return filtered_sentence\n",
    "\n",
    "example_string = \"This is an example sentence showing how to remove stop words.\"\n",
    "print(remove_stop_words(example_string))"
   ]
  },
  {
   "cell_type": "code",
   "execution_count": null,
   "id": "0890fa24",
   "metadata": {},
   "outputs": [],
   "source": []
  },
  {
   "cell_type": "code",
   "execution_count": null,
   "id": "7fbccaa5",
   "metadata": {},
   "outputs": [],
   "source": []
  }
 ],
 "metadata": {
  "kernelspec": {
   "display_name": "Python 3 (ipykernel)",
   "language": "python",
   "name": "python3"
  },
  "language_info": {
   "codemirror_mode": {
    "name": "ipython",
    "version": 3
   },
   "file_extension": ".py",
   "mimetype": "text/x-python",
   "name": "python",
   "nbconvert_exporter": "python",
   "pygments_lexer": "ipython3",
   "version": "3.9.13"
  }
 },
 "nbformat": 4,
 "nbformat_minor": 5
}

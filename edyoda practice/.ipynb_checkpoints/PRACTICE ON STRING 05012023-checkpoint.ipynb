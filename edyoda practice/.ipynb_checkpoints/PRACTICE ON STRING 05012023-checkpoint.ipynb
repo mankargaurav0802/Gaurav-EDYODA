{
 "cells": [
  {
   "cell_type": "markdown",
   "id": "0b0fd7b8",
   "metadata": {},
   "source": [
    "# PRACTICE ON STRING"
   ]
  },
  {
   "cell_type": "code",
   "execution_count": 5,
   "id": "0f8eab9c",
   "metadata": {},
   "outputs": [],
   "source": [
    "a =\"name the animals that can be omenivarus, total counts for animal will be 82 reptile,34 mamal,\"\n",
    "z = (\"lucifer is the dewil of his word\" ,\"       GO GREEN\" ,\"   TIGER IS WILD ANIMAL\")"
   ]
  },
  {
   "cell_type": "code",
   "execution_count": 6,
   "id": "a764763c",
   "metadata": {},
   "outputs": [
    {
     "data": {
      "text/plain": [
       "'lucifer is the dewil of his word +        GO GREEN +    TIGER IS WILD ANIMAL'"
      ]
     },
     "execution_count": 6,
     "metadata": {},
     "output_type": "execute_result"
    }
   ],
   "source": [
    "b=\" + \".join(z)\n",
    "b"
   ]
  },
  {
   "cell_type": "code",
   "execution_count": 7,
   "id": "55d01b3e",
   "metadata": {},
   "outputs": [
    {
     "data": {
      "text/plain": [
       "('name the animals that can be omenivarus',\n",
       " ',',\n",
       " ' total counts for animal will be 82 reptile,34 mamal,')"
      ]
     },
     "execution_count": 7,
     "metadata": {},
     "output_type": "execute_result"
    }
   ],
   "source": [
    "a.partition(\",\")\n",
    "#a.partition(\"can\")"
   ]
  },
  {
   "cell_type": "code",
   "execution_count": 8,
   "id": "2ea29386",
   "metadata": {},
   "outputs": [
    {
     "name": "stdout",
     "output_type": "stream",
     "text": [
      "name the animals new can be omenivarus, total counts for animal will be 82 reptile,34 mamal,\n"
     ]
    }
   ],
   "source": [
    "d=a.replace(\"that\",\"new\")\n",
    "print(d)"
   ]
  },
  {
   "cell_type": "code",
   "execution_count": 9,
   "id": "acc4ef20",
   "metadata": {},
   "outputs": [
    {
     "data": {
      "text/plain": [
       "'Name The Animals That Can Be Omenivarus, Total Counts For Animal Will Be 82 Reptile,34 Mamal,'"
      ]
     },
     "execution_count": 9,
     "metadata": {},
     "output_type": "execute_result"
    }
   ],
   "source": [
    "a.title()"
   ]
  },
  {
   "cell_type": "code",
   "execution_count": 10,
   "id": "b465e2f9",
   "metadata": {},
   "outputs": [
    {
     "data": {
      "text/plain": [
       "('name the animals that ',\n",
       " 'can',\n",
       " ' be omenivarus, total counts for animal will be 82 reptile,34 mamal,')"
      ]
     },
     "execution_count": 10,
     "metadata": {},
     "output_type": "execute_result"
    }
   ],
   "source": [
    "a.partition(\"can\")"
   ]
  },
  {
   "cell_type": "code",
   "execution_count": 11,
   "id": "68332fc6",
   "metadata": {},
   "outputs": [
    {
     "data": {
      "text/plain": [
       "'name the animals that can be omenivarus, total counts for animal will be 82 reptile,34 mamal,'"
      ]
     },
     "execution_count": 11,
     "metadata": {},
     "output_type": "execute_result"
    }
   ],
   "source": [
    "a"
   ]
  },
  {
   "cell_type": "code",
   "execution_count": 12,
   "id": "df17e36e",
   "metadata": {},
   "outputs": [
    {
     "name": "stdout",
     "output_type": "stream",
     "text": [
      "name the animals that can be omenivarus, total counts for animal will be 82 reptile,34 mamal,\n"
     ]
    }
   ],
   "source": [
    "b=a.lstrip()\n",
    "print(b)"
   ]
  },
  {
   "cell_type": "code",
   "execution_count": 13,
   "id": "b9f45682",
   "metadata": {},
   "outputs": [
    {
     "data": {
      "text/plain": [
       "'Name the animals that can be omenivarus, total counts for animal will be 82 reptile,34 mamal,'"
      ]
     },
     "execution_count": 13,
     "metadata": {},
     "output_type": "execute_result"
    }
   ],
   "source": [
    "a.capitalize()"
   ]
  },
  {
   "cell_type": "code",
   "execution_count": 14,
   "id": "b5435fbe",
   "metadata": {},
   "outputs": [
    {
     "data": {
      "text/plain": [
       "'name the animals that can be omenivarus, total counts for animal will be 82 reptile,34 mamal,'"
      ]
     },
     "execution_count": 14,
     "metadata": {},
     "output_type": "execute_result"
    }
   ],
   "source": [
    "a.lower()"
   ]
  },
  {
   "cell_type": "code",
   "execution_count": 15,
   "id": "28b58a92",
   "metadata": {},
   "outputs": [
    {
     "data": {
      "text/plain": [
       "'NAME THE ANIMALS THAT CAN BE OMENIVARUS, TOTAL COUNTS FOR ANIMAL WILL BE 82 REPTILE,34 MAMAL,'"
      ]
     },
     "execution_count": 15,
     "metadata": {},
     "output_type": "execute_result"
    }
   ],
   "source": [
    "a.upper()"
   ]
  },
  {
   "cell_type": "code",
   "execution_count": null,
   "id": "beb1941b",
   "metadata": {},
   "outputs": [],
   "source": []
  },
  {
   "cell_type": "code",
   "execution_count": null,
   "id": "9f0ec1ca",
   "metadata": {},
   "outputs": [],
   "source": []
  },
  {
   "cell_type": "code",
   "execution_count": 16,
   "id": "431c7dad",
   "metadata": {},
   "outputs": [
    {
     "data": {
      "text/plain": [
       "True"
      ]
     },
     "execution_count": 16,
     "metadata": {},
     "output_type": "execute_result"
    }
   ],
   "source": [
    "a.islower()"
   ]
  },
  {
   "cell_type": "code",
   "execution_count": 17,
   "id": "4fe16554",
   "metadata": {},
   "outputs": [
    {
     "data": {
      "text/plain": [
       "False"
      ]
     },
     "execution_count": 17,
     "metadata": {},
     "output_type": "execute_result"
    }
   ],
   "source": [
    "a.isspace()"
   ]
  },
  {
   "cell_type": "code",
   "execution_count": 18,
   "id": "4be5d567",
   "metadata": {},
   "outputs": [
    {
     "data": {
      "text/plain": [
       "'Name The Animals That Can Be Omenivarus, Total Counts For Animal Will Be 82 Reptile,34 Mamal,'"
      ]
     },
     "execution_count": 18,
     "metadata": {},
     "output_type": "execute_result"
    }
   ],
   "source": [
    "a.title()"
   ]
  },
  {
   "cell_type": "code",
   "execution_count": 19,
   "id": "edfc0035",
   "metadata": {},
   "outputs": [
    {
     "data": {
      "text/plain": [
       "True"
      ]
     },
     "execution_count": 19,
     "metadata": {},
     "output_type": "execute_result"
    }
   ],
   "source": [
    "a.startswith(\"n\")"
   ]
  },
  {
   "cell_type": "code",
   "execution_count": 20,
   "id": "17ca40c6",
   "metadata": {},
   "outputs": [
    {
     "data": {
      "text/plain": [
       "True"
      ]
     },
     "execution_count": 20,
     "metadata": {},
     "output_type": "execute_result"
    }
   ],
   "source": [
    "a.endswith(\",\")"
   ]
  },
  {
   "cell_type": "code",
   "execution_count": 21,
   "id": "1199d0f1",
   "metadata": {},
   "outputs": [
    {
     "data": {
      "text/plain": [
       "'Name the animals that can be omenivarus, total counts for animal will be 82 reptile,34 mamal,'"
      ]
     },
     "execution_count": 21,
     "metadata": {},
     "output_type": "execute_result"
    }
   ],
   "source": [
    "a.capitalize()"
   ]
  },
  {
   "cell_type": "code",
   "execution_count": 22,
   "id": "2b15993c",
   "metadata": {},
   "outputs": [
    {
     "data": {
      "text/plain": [
       "24"
      ]
     },
     "execution_count": 22,
     "metadata": {},
     "output_type": "execute_result"
    }
   ],
   "source": [
    "a.find(\"n\",22,30)"
   ]
  },
  {
   "cell_type": "code",
   "execution_count": 23,
   "id": "ab5e66f8",
   "metadata": {},
   "outputs": [
    {
     "data": {
      "text/plain": [
       "24"
      ]
     },
     "execution_count": 23,
     "metadata": {},
     "output_type": "execute_result"
    }
   ],
   "source": [
    "a.index(\"n\",22,30)"
   ]
  },
  {
   "cell_type": "code",
   "execution_count": 24,
   "id": "b90b2f24",
   "metadata": {},
   "outputs": [
    {
     "data": {
      "text/plain": [
       "['name',\n",
       " 'the',\n",
       " 'animals',\n",
       " 'that',\n",
       " 'can',\n",
       " 'be',\n",
       " 'omenivarus,',\n",
       " 'total',\n",
       " 'counts',\n",
       " 'for',\n",
       " 'animal',\n",
       " 'will',\n",
       " 'be',\n",
       " '82',\n",
       " 'reptile,34',\n",
       " 'mamal,']"
      ]
     },
     "execution_count": 24,
     "metadata": {},
     "output_type": "execute_result"
    }
   ],
   "source": [
    "b=a.split(\" \")\n",
    "b"
   ]
  },
  {
   "cell_type": "code",
   "execution_count": 25,
   "id": "3c42c35e",
   "metadata": {},
   "outputs": [
    {
     "data": {
      "text/plain": [
       "'name+the+animals+that+can+be+omenivarus,+total+counts+for+animal+will+be+82+reptile,34+mamal,'"
      ]
     },
     "execution_count": 25,
     "metadata": {},
     "output_type": "execute_result"
    }
   ],
   "source": [
    "c=\"+\".join(b)\n",
    "c"
   ]
  },
  {
   "cell_type": "code",
   "execution_count": 26,
   "id": "3b5416c7",
   "metadata": {},
   "outputs": [
    {
     "data": {
      "text/plain": [
       "'name the animals that can be omenivarus, total counts for animal will be 82 reptile,34 mamal,'"
      ]
     },
     "execution_count": 26,
     "metadata": {},
     "output_type": "execute_result"
    }
   ],
   "source": [
    "len(a)\n",
    "a"
   ]
  },
  {
   "cell_type": "code",
   "execution_count": 27,
   "id": "fc4cfa29",
   "metadata": {},
   "outputs": [
    {
     "ename": "SyntaxError",
     "evalue": "invalid syntax (80071840.py, line 1)",
     "output_type": "error",
     "traceback": [
      "\u001b[1;36m  File \u001b[1;32m\"C:\\Users\\Gaurav\\AppData\\Local\\Temp\\ipykernel_8268\\80071840.py\"\u001b[1;36m, line \u001b[1;32m1\u001b[0m\n\u001b[1;33m    .count(b,0,40)\u001b[0m\n\u001b[1;37m    ^\u001b[0m\n\u001b[1;31mSyntaxError\u001b[0m\u001b[1;31m:\u001b[0m invalid syntax\n"
     ]
    }
   ],
   "source": [
    ".count(b,0,40)"
   ]
  },
  {
   "cell_type": "markdown",
   "id": "8e689677",
   "metadata": {},
   "source": [
    "# next is joint w3\n",
    "partation w3\n",
    "well study w3"
   ]
  },
  {
   "cell_type": "code",
   "execution_count": 28,
   "id": "819c25de",
   "metadata": {},
   "outputs": [
    {
     "ename": "SyntaxError",
     "evalue": "invalid character '“' (U+201C) (4027256973.py, line 1)",
     "output_type": "error",
     "traceback": [
      "\u001b[1;36m  File \u001b[1;32m\"C:\\Users\\Gaurav\\AppData\\Local\\Temp\\ipykernel_8268\\4027256973.py\"\u001b[1;36m, line \u001b[1;32m1\u001b[0m\n\u001b[1;33m    print(“Hello {0} and {1}”.format((‘tom’, ‘jerry’)))\u001b[0m\n\u001b[1;37m          ^\u001b[0m\n\u001b[1;31mSyntaxError\u001b[0m\u001b[1;31m:\u001b[0m invalid character '“' (U+201C)\n"
     ]
    }
   ],
   "source": [
    "print(“Hello {0} and {1}”.format((‘tom’, ‘jerry’)))"
   ]
  },
  {
   "cell_type": "code",
   "execution_count": 29,
   "id": "b8c2ea54",
   "metadata": {},
   "outputs": [
    {
     "ename": "SyntaxError",
     "evalue": "invalid character '“' (U+201C) (439655808.py, line 1)",
     "output_type": "error",
     "traceback": [
      "\u001b[1;36m  File \u001b[1;32m\"C:\\Users\\Gaurav\\AppData\\Local\\Temp\\ipykernel_8268\\439655808.py\"\u001b[1;36m, line \u001b[1;32m1\u001b[0m\n\u001b[1;33m    print(“abcdef”.center(10, ‘12’))\u001b[0m\n\u001b[1;37m          ^\u001b[0m\n\u001b[1;31mSyntaxError\u001b[0m\u001b[1;31m:\u001b[0m invalid character '“' (U+201C)\n"
     ]
    }
   ],
   "source": [
    "print(“abcdef”.center(10, ‘12’))"
   ]
  },
  {
   "cell_type": "code",
   "execution_count": null,
   "id": "a75ad295",
   "metadata": {},
   "outputs": [],
   "source": [
    "y=eval(input())"
   ]
  },
  {
   "cell_type": "code",
   "execution_count": null,
   "id": "c6c5dbdc",
   "metadata": {},
   "outputs": [],
   "source": []
  }
 ],
 "metadata": {
  "kernelspec": {
   "display_name": "Python 3 (ipykernel)",
   "language": "python",
   "name": "python3"
  },
  "language_info": {
   "codemirror_mode": {
    "name": "ipython",
    "version": 3
   },
   "file_extension": ".py",
   "mimetype": "text/x-python",
   "name": "python",
   "nbconvert_exporter": "python",
   "pygments_lexer": "ipython3",
   "version": "3.9.13"
  }
 },
 "nbformat": 4,
 "nbformat_minor": 5
}

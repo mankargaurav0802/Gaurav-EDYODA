{
 "cells": [
  {
   "cell_type": "code",
   "execution_count": 3,
   "id": "4b9f1cd3",
   "metadata": {},
   "outputs": [],
   "source": [
    "math_scores = {\n",
    "    'student1': {\n",
    "        'math': 85,\n",
    "        'science': 90\n",
    "    },\n",
    "    'student2': {\n",
    "        'math': 75,\n",
    "        'science': 80\n",
    "    },\n",
    "    'student3': {\n",
    "        'math': 65,\n",
    "        'science': 70\n",
    "    }\n",
    "}"
   ]
  },
  {
   "cell_type": "code",
   "execution_count": 22,
   "id": "6ea9d087",
   "metadata": {},
   "outputs": [],
   "source": [
    "T=0\n",
    "for k,v in math_scores.items():\n",
    "    T+=v[\"math\"]\n",
    "average=T/len(math_scores)\n",
    "min_marks=min()"
   ]
  },
  {
   "cell_type": "code",
   "execution_count": 23,
   "id": "fc39227b",
   "metadata": {},
   "outputs": [
    {
     "data": {
      "text/plain": [
       "75.0"
      ]
     },
     "execution_count": 23,
     "metadata": {},
     "output_type": "execute_result"
    }
   ],
   "source": [
    "average"
   ]
  },
  {
   "cell_type": "code",
   "execution_count": null,
   "id": "5d2aa57d",
   "metadata": {},
   "outputs": [],
   "source": []
  }
 ],
 "metadata": {
  "kernelspec": {
   "display_name": "Python 3 (ipykernel)",
   "language": "python",
   "name": "python3"
  },
  "language_info": {
   "codemirror_mode": {
    "name": "ipython",
    "version": 3
   },
   "file_extension": ".py",
   "mimetype": "text/x-python",
   "name": "python",
   "nbconvert_exporter": "python",
   "pygments_lexer": "ipython3",
   "version": "3.9.13"
  }
 },
 "nbformat": 4,
 "nbformat_minor": 5
}

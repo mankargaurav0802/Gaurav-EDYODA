{
 "cells": [
  {
   "cell_type": "markdown",
   "id": "aa9f0cf6",
   "metadata": {},
   "source": [
    "# dictonary"
   ]
  },
  {
   "cell_type": "markdown",
   "id": "b5f3ddfd",
   "metadata": {},
   "source": [
    "create a dictonary \n",
    "studebt name and their subjects 5 \n",
    "their marks out of 100"
   ]
  },
  {
   "cell_type": "code",
   "execution_count": 3,
   "id": "01033705",
   "metadata": {},
   "outputs": [],
   "source": [
    "classroom_report = {\"gaurav\":{\"sci\":88,\"math\":66,\"hist\":78,\"bio\":99,\"agri\":75,\"extra\":99},\"ram\":{\"sci\":55,\"math\":66,\"hist\":88,\"bio\":45,\"agri\":98},\"sai\":{\"sci\":83,\"math\":66,\"hist\":78,\"bio\":99,\"agri\":75}}"
   ]
  },
  {
   "cell_type": "code",
   "execution_count": 4,
   "id": "e4f13f74",
   "metadata": {},
   "outputs": [
    {
     "name": "stdout",
     "output_type": "stream",
     "text": [
      "{'gaurav': {'sci': 88, 'math': 66, 'hist': 78, 'bio': 99, 'agri': 75, 'extra': 99}, 'ram': {'sci': 55, 'math': 66, 'hist': 88, 'bio': 45, 'agri': 98}, 'sai': {'sci': 83, 'math': 66, 'hist': 78, 'bio': 99, 'agri': 75}}\n"
     ]
    }
   ],
   "source": [
    "print(classroom_report)"
   ]
  },
  {
   "cell_type": "code",
   "execution_count": 5,
   "id": "bb8a8e11",
   "metadata": {},
   "outputs": [
    {
     "data": {
      "text/plain": [
       "3"
      ]
     },
     "execution_count": 5,
     "metadata": {},
     "output_type": "execute_result"
    }
   ],
   "source": [
    "len(classroom_report)"
   ]
  },
  {
   "cell_type": "code",
   "execution_count": 6,
   "id": "87cda535",
   "metadata": {},
   "outputs": [],
   "source": [
    "#average of marks"
   ]
  },
  {
   "cell_type": "code",
   "execution_count": 8,
   "id": "bf91953e",
   "metadata": {},
   "outputs": [
    {
     "name": "stdout",
     "output_type": "stream",
     "text": [
      "[84.16666666666667]\n",
      "[70.4]\n",
      "[80.2]\n"
     ]
    }
   ],
   "source": [
    "for K,V in classroom_report.items():\n",
    "    r_list=list(V.values())\n",
    "    #print(sum(r_list)/len(r_list))\n",
    "    s=[sum(r_list)/len(r_list)]\n",
    "    print(s)"
   ]
  },
  {
   "cell_type": "code",
   "execution_count": null,
   "id": "6b173ec1",
   "metadata": {},
   "outputs": [],
   "source": [
    "#even subject"
   ]
  },
  {
   "cell_type": "code",
   "execution_count": 80,
   "id": "6b57d60d",
   "metadata": {},
   "outputs": [
    {
     "name": "stdout",
     "output_type": "stream",
     "text": [
      "gaurav is contain uneven subject\n",
      "ram\n",
      "sai\n"
     ]
    }
   ],
   "source": [
    "for K,V in classroom_report.items():\n",
    "    if len(V)%2!=0:\n",
    "        print(K)\n",
    "    else:\n",
    "        print(K,\"is contain uneven subject\")"
   ]
  },
  {
   "cell_type": "code",
   "execution_count": 84,
   "id": "1a1da1f2",
   "metadata": {},
   "outputs": [
    {
     "name": "stdout",
     "output_type": "stream",
     "text": [
      "gaurav {'sci': 88, 'math': 66, 'hist': 78, 'bio': 99, 'agri': 75, 'extra': 99} have more than 5 subject\n",
      "ram\n",
      "sai\n"
     ]
    }
   ],
   "source": [
    "for K,V in classroom_report.items():\n",
    "    if len(V)<6:\n",
    "        print(K)\n",
    "    else:\n",
    "        print(K,V,\"have more than 5 subject\")"
   ]
  },
  {
   "cell_type": "code",
   "execution_count": null,
   "id": "bdbafc7f",
   "metadata": {},
   "outputs": [],
   "source": [
    "#input"
   ]
  },
  {
   "cell_type": "code",
   "execution_count": 90,
   "id": "1faeac60",
   "metadata": {},
   "outputs": [
    {
     "name": "stdout",
     "output_type": "stream",
     "text": [
      "gaurav\n",
      "6565695956\n",
      "dict_keys(['gaurav'])\n"
     ]
    }
   ],
   "source": [
    "dict_8 = {str(input()):int(input())}\n",
    "print(dict_8.keys())"
   ]
  },
  {
   "cell_type": "code",
   "execution_count": null,
   "id": "6e2d171c",
   "metadata": {},
   "outputs": [],
   "source": [
    "#using = https://jsonformatter.curiousconcept.com/#"
   ]
  },
  {
   "cell_type": "code",
   "execution_count": 86,
   "id": "e82b4f81",
   "metadata": {},
   "outputs": [],
   "source": [
    "classroom_report ={\n",
    "   \"gaurav\":{\n",
    "      \"sci\":88,\n",
    "      \"math\":66,\n",
    "      \"hist\":78,\n",
    "      \"bio\":99,\n",
    "      \"agri\":75\n",
    "   },\n",
    "   \"ram\":{\n",
    "      \"sci\":55,\n",
    "      \"math\":66,\n",
    "      \"hist\":88,\n",
    "      \"bio\":45,\n",
    "      \"agri\":98\n",
    "   },\n",
    "   \"sai\":{\n",
    "      \"sci\":83,\n",
    "      \"math\":66,\n",
    "      \"hist\":78,\n",
    "      \"bio\":99,\n",
    "      \"agri\":75\n",
    "   }\n",
    "}"
   ]
  },
  {
   "cell_type": "code",
   "execution_count": 87,
   "id": "3c10665f",
   "metadata": {},
   "outputs": [
    {
     "data": {
      "text/plain": [
       "{'gaurav': {'sci': 88, 'math': 66, 'hist': 78, 'bio': 99, 'agri': 75},\n",
       " 'ram': {'sci': 55, 'math': 66, 'hist': 88, 'bio': 45, 'agri': 98},\n",
       " 'sai': {'sci': 83, 'math': 66, 'hist': 78, 'bio': 99, 'agri': 75}}"
      ]
     },
     "execution_count": 87,
     "metadata": {},
     "output_type": "execute_result"
    }
   ],
   "source": [
    "classroom_report"
   ]
  },
  {
   "cell_type": "markdown",
   "id": "69b19250",
   "metadata": {},
   "source": [
    "# Find out average marks for each student in each batch for every subject and create a dictionary\n",
    " \n",
    " {\"batch_name\":{\n",
    " \"subject_1\":{\"student_name\":average,----------},\n",
    " \"subject_2\":\"{\"student_name\":average}\n",
    " }}\n",
    " "
   ]
  },
  {
   "cell_type": "code",
   "execution_count": 66,
   "id": "9b225b98",
   "metadata": {},
   "outputs": [],
   "source": [
    "edyoda_dict = {\n",
    " \"DS_17\":{\n",
    "     \"Python\":{\n",
    "         \"Aarushi\":[98,78,65,86,45],\n",
    "         \"Raj\":[76,23,64,74,75],\n",
    "         \"Satwik\":[98,34,64,78,43],\n",
    "         \"Danushri\":[98,23,64,24,75]\n",
    "     },\n",
    "    \"ML\":{\n",
    "         \"Aarushi\":[18,28,75,36,85],\n",
    "         \"Raj\":[34,73,44,64,35],\n",
    "         \"Satwik\":[18,94,14,38,33],\n",
    "         \"Danushri\":[88,33,54,64,65]\n",
    "     }\n",
    " },\n",
    "    \"DS_18\":{#\n",
    "     \"Python\":{\n",
    "         \"Sachin\":[58,38,85,36,45],\n",
    "         \"Saurav\":[56,26,66,34,75],\n",
    "         \"Rahul\":[68,24,24,28,33],\n",
    "         \"Dhoni\":[38,53,64,24,25]\n",
    "     },\n",
    "    \"ML\":{\n",
    "         \"Sachin\":[18,28,75,36,25],\n",
    "         \"Saurav\":[34,33,64,34,35],\n",
    "         \"Rahul\":[88,94,14,38,33],\n",
    "         \"Dhoni\":[8,23,54,14,25]\n",
    "     }\n",
    " }   \n",
    "}\n",
    "\n"
   ]
  },
  {
   "cell_type": "code",
   "execution_count": 98,
   "id": "0a5b2e54",
   "metadata": {},
   "outputs": [],
   "source": [
    "dict1={}\n",
    "for A,S in edyoda_dict.items():\n",
    "    Dict2={}\n",
    "    for D,F in S.items(): \n",
    "        dict3={}\n",
    "        for G,H in F.items():\n",
    "            dict3[G]=sum(H)/len(H)\n",
    "        Dict2[D]=dict3\n",
    "        dict1[A]=Dict2"
   ]
  },
  {
   "cell_type": "code",
   "execution_count": 99,
   "id": "065a43a0",
   "metadata": {},
   "outputs": [
    {
     "name": "stdout",
     "output_type": "stream",
     "text": [
      "{'DS_17': {'Python': {'Aarushi': 74.4, 'Raj': 62.4, 'Satwik': 63.4, 'Danushri': 56.8}, 'ML': {'Aarushi': 48.4, 'Raj': 50.0, 'Satwik': 39.4, 'Danushri': 60.8}}, 'DS_18': {'Python': {'Sachin': 52.4, 'Saurav': 51.4, 'Rahul': 35.4, 'Dhoni': 40.8}, 'ML': {'Sachin': 36.4, 'Saurav': 40.0, 'Rahul': 53.4, 'Dhoni': 24.8}}}\n"
     ]
    }
   ],
   "source": [
    "print(dict1)"
   ]
  },
  {
   "cell_type": "code",
   "execution_count": null,
   "id": "3947b789",
   "metadata": {},
   "outputs": [],
   "source": [
    "edyoda_dict = {\n",
    " \"DS_17\":{\n",
    "     \"Python\":{\n",
    "         \"Aarushi\":[88,78,65,86,45],\n",
    "         \"Raj\":[76,23,64,74,75],\n",
    "         \"Satwik\":[98,34,64,44,43],\n",
    "         \"Danushri\":[98,23,64,55,75]\n",
    "     },\n",
    "    \"ML\":{\n",
    "         \"Aarushi\":[18,28,75,36,98],\n",
    "         \"Raj\":[34,73,44,64,3],\n",
    "         \"Satwik\":[18,94,14,38,33],\n",
    "         \"Danushri\":[88,33,54,64,65]\n",
    "     }\n",
    " },\n",
    "    \"DS_18\":{#\n",
    "     \"Python\":{\n",
    "         \"Sachin\":[58,38,85,36,45],\n",
    "         \"Saurav\":[56,26,66,34,75],\n",
    "         \"Rahul\":[68,24,24,28,33],\n",
    "         \"Dhoni\":[38,53,64,24,25]\n",
    "     },\n",
    "    \"ML\":{\n",
    "         \"Sachin\":[18,28,75,36,25],\n",
    "         \"Saurav\":[34,33,64,34,35],\n",
    "         \"Rahul\":[88,94,14,38,33],\n",
    "         \"Dhoni\":[8,23,54,14,25]\n",
    "     }\n",
    " }   \n",
    "}\n",
    "\n"
   ]
  },
  {
   "cell_type": "code",
   "execution_count": null,
   "id": "1151c406",
   "metadata": {},
   "outputs": [],
   "source": []
  },
  {
   "cell_type": "markdown",
   "id": "52e6e205",
   "metadata": {},
   "source": [
    "# Exercise: Create a nested dictionary that represents a collection of books and their authors.\n",
    "# Each book has a title and a ISBN number, and they have multiple authors.\n",
    "# Each author has a name and a birthdate.\n",
    "\n",
    "books = {\n",
    "    '978-1484250273': {\n",
    "        'title': 'Python Crash Course',\n",
    "        'authors': {\n",
    "            'Eric Matthes': {\n",
    "                'birthdate': '1984-06-15'\n",
    "            },\n",
    "            'Paul Gries': {\n",
    "                'birthdate': '1962-09-17'\n",
    "            }\n",
    "        }\n",
    "    },\n",
    "    '978-1492056381': {\n",
    "        'title': 'Python Tricks',\n",
    "        'authors': {\n",
    "            'Dan Bader': {\n",
    "                'birthdate': '1989-03-14'\n",
    "            }\n",
    "        }\n",
    "    }\n",
    "}\n",
    "\n",
    "# Test\n",
    "print(books['978-1484250273']['title'])  # Output: Python Crash Course\n",
    "print(books['978-1484250273']['authors']['Eric Matthes']['birthdate'])  # Output: 1984-06-15"
   ]
  },
  {
   "cell_type": "code",
   "execution_count": 1,
   "id": "d9e75cda",
   "metadata": {},
   "outputs": [],
   "source": [
    "books = { '978-1484250273': { 'title': 'Python Crash Course', 'authors': { 'Eric Matthes': { 'birthdate': '1984-06-15' }, 'Paul Gries': { 'birthdate': '1962-09-17' } } }, '978-1492056381': { 'title': 'Python Tricks', 'authors': { 'Dan Bader': { 'birthdate': '1989-03-14' } } } }"
   ]
  },
  {
   "cell_type": "code",
   "execution_count": 3,
   "id": "364fd0f9",
   "metadata": {},
   "outputs": [
    {
     "data": {
      "text/plain": [
       "{'978-1484250273': {'title': 'Python Crash Course',\n",
       "  'authors': {'Eric Matthes': {'birthdate': '1984-06-15'},\n",
       "   'Paul Gries': {'birthdate': '1962-09-17'}}},\n",
       " '978-1492056381': {'title': 'Python Tricks',\n",
       "  'authors': {'Dan Bader': {'birthdate': '1989-03-14'}}}}"
      ]
     },
     "execution_count": 3,
     "metadata": {},
     "output_type": "execute_result"
    }
   ],
   "source": [
    "books"
   ]
  },
  {
   "cell_type": "code",
   "execution_count": 4,
   "id": "b5fb29ff",
   "metadata": {},
   "outputs": [
    {
     "data": {
      "text/plain": [
       "'Python Tricks'"
      ]
     },
     "execution_count": 4,
     "metadata": {},
     "output_type": "execute_result"
    }
   ],
   "source": [
    "books['978-1492056381']['title']"
   ]
  },
  {
   "cell_type": "code",
   "execution_count": 9,
   "id": "ee9e6a7c",
   "metadata": {},
   "outputs": [
    {
     "data": {
      "text/plain": [
       "dict_values(['1989-03-14'])"
      ]
     },
     "execution_count": 9,
     "metadata": {},
     "output_type": "execute_result"
    }
   ],
   "source": [
    "books[\"978-1492056381\"]['authors']['Dan Bader'].values()"
   ]
  },
  {
   "cell_type": "code",
   "execution_count": 21,
   "id": "9089ace9",
   "metadata": {},
   "outputs": [
    {
     "data": {
      "text/plain": [
       "{'978-1484250273': {'title': 'Python Crash Course',\n",
       "  'authors': {'Eric Matthes': {'birthdate': '1984-06-15'},\n",
       "   'Paul Gries': {'birthdate': '1962-09-17'}}},\n",
       " '978-1492056381': {'title': 'Python Tricks', 'authors': {'Dan Bader': 2023}}}"
      ]
     },
     "execution_count": 21,
     "metadata": {},
     "output_type": "execute_result"
    }
   ],
   "source": [
    "books"
   ]
  },
  {
   "cell_type": "code",
   "execution_count": 23,
   "id": "5034dfe4",
   "metadata": {},
   "outputs": [],
   "source": [
    "books.update({\"gaurav\":{\"ram\":{\"pay\":2000}}})"
   ]
  },
  {
   "cell_type": "code",
   "execution_count": 24,
   "id": "0840cfc9",
   "metadata": {},
   "outputs": [
    {
     "data": {
      "text/plain": [
       "{'978-1484250273': {'title': 'Python Crash Course',\n",
       "  'authors': {'Eric Matthes': {'birthdate': '1984-06-15'},\n",
       "   'Paul Gries': {'birthdate': '1962-09-17'}}},\n",
       " '978-1492056381': {'title': 'Python Tricks', 'authors': {'Dan Bader': 2023}},\n",
       " 'gaurav': {'ram': {'pay': 2000}}}"
      ]
     },
     "execution_count": 24,
     "metadata": {},
     "output_type": "execute_result"
    }
   ],
   "source": [
    "books"
   ]
  },
  {
   "cell_type": "code",
   "execution_count": 25,
   "id": "4cd16cd6",
   "metadata": {},
   "outputs": [
    {
     "data": {
      "text/plain": [
       "{'ram': {'pay': 2000}}"
      ]
     },
     "execution_count": 25,
     "metadata": {},
     "output_type": "execute_result"
    }
   ],
   "source": [
    "books.pop('gaurav')"
   ]
  },
  {
   "cell_type": "code",
   "execution_count": 26,
   "id": "098087b3",
   "metadata": {},
   "outputs": [
    {
     "data": {
      "text/plain": [
       "{'978-1484250273': {'title': 'Python Crash Course',\n",
       "  'authors': {'Eric Matthes': {'birthdate': '1984-06-15'},\n",
       "   'Paul Gries': {'birthdate': '1962-09-17'}}},\n",
       " '978-1492056381': {'title': 'Python Tricks', 'authors': {'Dan Bader': 2023}}}"
      ]
     },
     "execution_count": 26,
     "metadata": {},
     "output_type": "execute_result"
    }
   ],
   "source": [
    "books"
   ]
  },
  {
   "cell_type": "code",
   "execution_count": 28,
   "id": "8c5a3a92",
   "metadata": {},
   "outputs": [
    {
     "data": {
      "text/plain": [
       "{'Dan Bader': 2023}"
      ]
     },
     "execution_count": 28,
     "metadata": {},
     "output_type": "execute_result"
    }
   ],
   "source": [
    "books['978-1492056381'].pop('authors')"
   ]
  },
  {
   "cell_type": "code",
   "execution_count": 30,
   "id": "d9e007f8",
   "metadata": {},
   "outputs": [
    {
     "data": {
      "text/plain": [
       "dict_values([{'title': 'Python Crash Course', 'authors': {'Eric Matthes': {'birthdate': '1984-06-15'}, 'Paul Gries': {'birthdate': '1962-09-17'}}}, {'title': 'Python Tricks'}])"
      ]
     },
     "execution_count": 30,
     "metadata": {},
     "output_type": "execute_result"
    }
   ],
   "source": [
    "books.values()"
   ]
  },
  {
   "cell_type": "raw",
   "id": "76b23b2d",
   "metadata": {},
   "source": []
  },
  {
   "cell_type": "code",
   "execution_count": 36,
   "id": "7d4aad31",
   "metadata": {},
   "outputs": [],
   "source": [
    "books['978-1492056381'].update({'authors': {'Dan Bader': 2023}})"
   ]
  },
  {
   "cell_type": "code",
   "execution_count": 37,
   "id": "4ea1860e",
   "metadata": {},
   "outputs": [
    {
     "data": {
      "text/plain": [
       "{'978-1484250273': {'title': 'Python Crash Course',\n",
       "  'authors': {'Eric Matthes': {'birthdate': '1984-06-15'},\n",
       "   'Paul Gries': {'birthdate': '1962-09-17'}}},\n",
       " '978-1492056381': {'title': 'Python Tricks', 'authors': {'Dan Bader': 2023}}}"
      ]
     },
     "execution_count": 37,
     "metadata": {},
     "output_type": "execute_result"
    }
   ],
   "source": [
    "books"
   ]
  },
  {
   "cell_type": "markdown",
   "id": "82d24f4f",
   "metadata": {},
   "source": [
    "math_scores = {\n",
    "    'student1': {\n",
    "        'math': 85,\n",
    "        'science': 90\n",
    "    },\n",
    "    'student2': {\n",
    "        'math': 75,\n",
    "        'science': 80\n",
    "    },\n",
    "    'student3': {\n",
    "        'math': 65,\n",
    "        'science': 70\n",
    "    }\n",
    "}\n",
    "\n",
    "#Calculate the average math score\n",
    "total_math_score = 0\n",
    "for student in math_scores:\n",
    "    total_math_score += math_scores[student]['math']\n",
    "average_math_score = total_math_score / len(math_scores)\n",
    "print(f'The average math score is: {average_math_score}')\n",
    "\n",
    "# Find the student with the highest math score\n",
    "highest_math_score = 0\n",
    "highest_math_student = \"\"\n",
    "for student in math_scores:\n",
    "    if math_scores[student]['math'] > highest_math_score:\n",
    "        highest_math_score = math_scores[student]['math']\n",
    "        highest_math_student = student\n",
    "print(f'The student with the highest math score is: {highest_math_student} with a score of {highest_math_score}')\n",
    "\n",
    "# Find the student with the lowest math score\n",
    "lowest_math_score = 100\n",
    "lowest_math_student = \"\"\n",
    "for student in math_scores:\n",
    "    if math_scores[student]['math'] < lowest_math_score:\n",
    "        lowest_math_score = math_scores[student]['math']\n",
    "        lowest_math_student = student\n",
    "print(f'The student with the lowest math score is: {lowest_math_student} with a score of {lowest_math_score}')"
   ]
  },
  {
   "cell_type": "code",
   "execution_count": 16,
   "id": "5d035e94",
   "metadata": {},
   "outputs": [],
   "source": [
    "math_scores = {\n",
    "    'student1': {\n",
    "        'math': 85,\n",
    "        'science': 90\n",
    "    },\n",
    "    'student2': {\n",
    "        'math': 75,\n",
    "        'science': 80\n",
    "    },\n",
    "    'student3': {\n",
    "        'math': 65,\n",
    "        'science': 70\n",
    "    }\n",
    "}"
   ]
  },
  {
   "cell_type": "code",
   "execution_count": 151,
   "id": "b4469782",
   "metadata": {},
   "outputs": [
    {
     "name": "stdout",
     "output_type": "stream",
     "text": [
      "The student with the highest math score is: student1 with a score of 85\n"
     ]
    }
   ],
   "source": [
    "highest_math_score = 0\n",
    "highest_math_student = \"\" \n",
    "for value in math_scores:\n",
    "    if math_scores[value]['math'] > highest_math_score:\n",
    "        highest_math_score = math_scores[value]['math']\n",
    "        highest_math_student = value \n",
    "        print(f'The student with the highest math score is: {highest_math_student} with a score of {highest_math_score}')\n",
    "      "
   ]
  },
  {
   "cell_type": "code",
   "execution_count": 155,
   "id": "c486ec49",
   "metadata": {},
   "outputs": [
    {
     "name": "stdout",
     "output_type": "stream",
     "text": [
      "The student with the highest math score is: student1 with a score of 90\n",
      "student with highest score in scince is = student1 and score is 90\n"
     ]
    }
   ],
   "source": [
    "highest_scince_score=0\n",
    "higest_scince_student=\"\"\n",
    "for student in math_scores:\n",
    "    if math_scores[student]['science']>highest_scince_score:\n",
    "        highest_scince_score=math_scores[student]['science']\n",
    "        higest_scince_student=student\n",
    "        print(f'The student with the highest math score is: {higest_scince_student} with a score of {highest_scince_score}')\n",
    "        print(\"student with highest score in scince is = {0} and score is {1}\".format(higest_scince_student,highest_scince_score))"
   ]
  },
  {
   "cell_type": "code",
   "execution_count": 159,
   "id": "fb07f0a2",
   "metadata": {},
   "outputs": [
    {
     "name": "stdout",
     "output_type": "stream",
     "text": [
      "The student with the lowest math score is: student1 with a score of 90\n",
      "student with lowest score in scince is = student1 and score is 90\n",
      "The student with the lowest math score is: student2 with a score of 80\n",
      "student with lowest score in scince is = student2 and score is 80\n",
      "The student with the lowest math score is: student3 with a score of 70\n",
      "student with lowest score in scince is = student3 and score is 70\n"
     ]
    }
   ],
   "source": [
    "lowest_scince_score=100\n",
    "lowest_scince_student=\"\"\n",
    "for student in math_scores:\n",
    "    if math_scores[student]['science']<lowest_scince_score:\n",
    "        lowest_scince_score=math_scores[student]['science']\n",
    "        lowest_scince_student=student\n",
    "        print(f'The student with the lowest math score is: {lowest_scince_student} with a score of {lowest_scince_score}')\n",
    "        print(\"student with lowest score in scince is = {0} and score is {1}\".format(lowest_scince_student,lowest_scince_score))"
   ]
  },
  {
   "cell_type": "code",
   "execution_count": 169,
   "id": "b0dcbde7",
   "metadata": {},
   "outputs": [
    {
     "name": "stdout",
     "output_type": "stream",
     "text": [
      "The student with the lowest math score is: student1 with a score of 85\n",
      "The student with the lowest math score is: student2 with a score of 75\n",
      "The student with the lowest math score is: student3 with a score of 65\n"
     ]
    }
   ],
   "source": [
    "lowest_math_score =100\n",
    "lowest_math_student = \"\"\n",
    "for student in math_scores:\n",
    "    if math_scores[student]['math']<lowest_math_score:\n",
    "        lowest_math_score = math_scores[student]['math']\n",
    "        lowest_math_student = student\n",
    "        print(f'The student with the lowest math score is: {lowest_math_student} with a score of {lowest_math_score}')"
   ]
  },
  {
   "cell_type": "code",
   "execution_count": 168,
   "id": "0dc791ac",
   "metadata": {},
   "outputs": [
    {
     "name": "stdout",
     "output_type": "stream",
     "text": [
      "Average Maths Score == 75.0\n"
     ]
    }
   ],
   "source": [
    "T=0\n",
    "for k,v in math_scores.items():\n",
    "    T+=v[\"math\"]\n",
    "average=T/len(math_scores)\n",
    "print(\"Average Maths Score ==\",average)"
   ]
  },
  {
   "cell_type": "code",
   "execution_count": 12,
   "id": "519c0f4e",
   "metadata": {},
   "outputs": [
    {
     "ename": "NameError",
     "evalue": "name 'math_score' is not defined",
     "output_type": "error",
     "traceback": [
      "\u001b[1;31m---------------------------------------------------------------------------\u001b[0m",
      "\u001b[1;31mNameError\u001b[0m                                 Traceback (most recent call last)",
      "\u001b[1;32m~\\AppData\\Local\\Temp\\ipykernel_2976\\3468315926.py\u001b[0m in \u001b[0;36m<module>\u001b[1;34m\u001b[0m\n\u001b[1;32m----> 1\u001b[1;33m \u001b[1;32mfor\u001b[0m \u001b[0mh\u001b[0m\u001b[1;33m,\u001b[0m\u001b[0ml\u001b[0m \u001b[1;32min\u001b[0m \u001b[0mmath_score\u001b[0m\u001b[1;33m.\u001b[0m\u001b[0mitems\u001b[0m\u001b[1;33m(\u001b[0m\u001b[1;33m)\u001b[0m\u001b[1;33m:\u001b[0m\u001b[1;33m\u001b[0m\u001b[1;33m\u001b[0m\u001b[0m\n\u001b[0m\u001b[0;32m      2\u001b[0m     \u001b[0ml\u001b[0m\u001b[1;33m.\u001b[0m\u001b[0mvalues\u001b[0m\u001b[1;33m(\u001b[0m\u001b[1;33m)\u001b[0m\u001b[1;33m\u001b[0m\u001b[1;33m\u001b[0m\u001b[0m\n",
      "\u001b[1;31mNameError\u001b[0m: name 'math_score' is not defined"
     ]
    }
   ],
   "source": []
  },
  {
   "cell_type": "code",
   "execution_count": null,
   "id": "b11c164a",
   "metadata": {},
   "outputs": [],
   "source": []
  },
  {
   "cell_type": "code",
   "execution_count": 151,
   "id": "04f4fe36",
   "metadata": {},
   "outputs": [],
   "source": [
    "total_math_score = 0\n",
    "for student in math_scores:\n",
    "    total_math_score+=math_scores[student]['math']\n",
    "average_maths_score=total_math_score/len(math_scores)"
   ]
  },
  {
   "cell_type": "code",
   "execution_count": null,
   "id": "b0680c15",
   "metadata": {},
   "outputs": [],
   "source": []
  },
  {
   "cell_type": "code",
   "execution_count": null,
   "id": "f074f82b",
   "metadata": {},
   "outputs": [],
   "source": []
  },
  {
   "cell_type": "code",
   "execution_count": null,
   "id": "c76d4a7b",
   "metadata": {},
   "outputs": [],
   "source": []
  }
 ],
 "metadata": {
  "kernelspec": {
   "display_name": "Python 3 (ipykernel)",
   "language": "python",
   "name": "python3"
  },
  "language_info": {
   "codemirror_mode": {
    "name": "ipython",
    "version": 3
   },
   "file_extension": ".py",
   "mimetype": "text/x-python",
   "name": "python",
   "nbconvert_exporter": "python",
   "pygments_lexer": "ipython3",
   "version": "3.9.13"
  }
 },
 "nbformat": 4,
 "nbformat_minor": 5
}

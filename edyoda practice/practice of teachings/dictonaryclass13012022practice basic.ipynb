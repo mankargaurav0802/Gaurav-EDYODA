{
 "cells": [
  {
   "cell_type": "code",
   "execution_count": null,
   "id": "4429c7b2",
   "metadata": {},
   "outputs": [],
   "source": [
    "#shop_dict = {\"Shop1\" : [5, 7, 9, 4, 0], \"Shop2\" : [6, 7, 4, 3, 3], \"Shop3\" : [9, 9, 6, 5, 5]}\n",
    "\n",
    "#Sample Output\n",
    "#shop_dict_avg = {\"Shop1\":{\"avg_sale\":5,\"min_sale\":0,\"max_sale\":9},\"Shop2\":{\"avg_sale\":.7},\"Shop3\":{6.8}}\n"
   ]
  },
  {
   "cell_type": "code",
   "execution_count": 53,
   "id": "ccea92ed",
   "metadata": {},
   "outputs": [],
   "source": [
    "shop_dict = {\"Shop1\" : [5, 7, 9, 4, 0], \"Shop2\" : [6, 7, 4, 3, 3], \"Shop3\" : [9, 9, 6, 5, 5]}"
   ]
  },
  {
   "cell_type": "code",
   "execution_count": 72,
   "id": "365c8d54",
   "metadata": {},
   "outputs": [
    {
     "name": "stdout",
     "output_type": "stream",
     "text": [
      "{'Shop1': {'avg': 5.0, 'max': 9, 'min': 0}}\n",
      "{'Shop2': {'avg': 4.6, 'max': 7, 'min': 3}}\n",
      "{'Shop3': {'avg': 6.8, 'max': 9, 'min': 5}}\n"
     ]
    }
   ],
   "source": [
    "for k,v in shop_dict.items():\n",
    "    total=sum(v)\n",
    "    average_shops=total/len(v)\n",
    "    #print(average_shops)\n",
    "    min_sale=sorted(v)[0]\n",
    "    #print(min_sale)\n",
    "    max_sale=sorted(v,reverse=True)[0]\n",
    "    #print(max_sale)\n",
    "    new_dict={k:{\"avg\":average_shops,\"max\":max_sale,\"min\":min_sale}}\n",
    "    print(new_dict)"
   ]
  },
  {
   "cell_type": "markdown",
   "id": "e394d9dd",
   "metadata": {},
   "source": [
    "5+7+9+4+0"
   ]
  },
  {
   "cell_type": "code",
   "execution_count": 74,
   "id": "bfc34c98",
   "metadata": {},
   "outputs": [
    {
     "name": "stdout",
     "output_type": "stream",
     "text": [
      "{'Shop1': {'avg': 6.8, 'max': 9, 'min': 0}}\n",
      "{'Shop2': {'avg': 6.8, 'max': 7, 'min': 3}}\n",
      "{'Shop3': {'avg': 6.8, 'max': 9, 'min': 5}}\n"
     ]
    }
   ],
   "source": [
    "for k,v in shop_dict.items():\n",
    "    new_dict={k:{\"avg\":total/len(v),\"max\":sorted(v,reverse=True)[0],\"min\":sorted(v)[0]}}\n",
    "    print(new_dict)\n",
    "    "
   ]
  },
  {
   "cell_type": "code",
   "execution_count": null,
   "id": "432fe1cb",
   "metadata": {},
   "outputs": [],
   "source": []
  },
  {
   "cell_type": "code",
   "execution_count": null,
   "id": "6548fe8b",
   "metadata": {},
   "outputs": [],
   "source": []
  }
 ],
 "metadata": {
  "kernelspec": {
   "display_name": "Python 3 (ipykernel)",
   "language": "python",
   "name": "python3"
  },
  "language_info": {
   "codemirror_mode": {
    "name": "ipython",
    "version": 3
   },
   "file_extension": ".py",
   "mimetype": "text/x-python",
   "name": "python",
   "nbconvert_exporter": "python",
   "pygments_lexer": "ipython3",
   "version": "3.9.13"
  }
 },
 "nbformat": 4,
 "nbformat_minor": 5
}

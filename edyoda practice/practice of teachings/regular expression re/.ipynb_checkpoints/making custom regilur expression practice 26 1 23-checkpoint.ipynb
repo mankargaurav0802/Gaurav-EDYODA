{
 "cells": [
  {
   "cell_type": "code",
   "execution_count": 1,
   "id": "89c3aeba",
   "metadata": {},
   "outputs": [],
   "source": [
    "string = \"Hi my name is gaurav. In study at ediyoda.\\nI found this platform helpfull for ds.\\nMy gmail id is mankargaurav0802@gmail.com./nMy mobile num is 9881029028.\\nMy addres is Daryapur 444803\""
   ]
  },
  {
   "cell_type": "code",
   "execution_count": null,
   "id": "da62ae7f",
   "metadata": {},
   "outputs": [],
   "source": [
    "print()"
   ]
  }
 ],
 "metadata": {
  "kernelspec": {
   "display_name": "Python 3 (ipykernel)",
   "language": "python",
   "name": "python3"
  },
  "language_info": {
   "codemirror_mode": {
    "name": "ipython",
    "version": 3
   },
   "file_extension": ".py",
   "mimetype": "text/x-python",
   "name": "python",
   "nbconvert_exporter": "python",
   "pygments_lexer": "ipython3",
   "version": "3.9.13"
  }
 },
 "nbformat": 4,
 "nbformat_minor": 5
}

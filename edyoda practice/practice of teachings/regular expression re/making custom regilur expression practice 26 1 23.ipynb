{
 "cells": [
  {
   "cell_type": "markdown",
   "id": "4527d07c",
   "metadata": {},
   "source": [
    "# making custom farmula without refrences"
   ]
  },
  {
   "cell_type": "code",
   "execution_count": null,
   "id": "38f44d1a",
   "metadata": {},
   "outputs": [],
   "source": [
    "string = \"Hi my name is gaurav.\\nI study at ediyoda.\\nI found this platform helpfull for ds.\\nMy gmail id is mankargaurav0802@gmail.com.\\nMy mobile num is 9881029028.\\nMy address is Daryapur 444803\""
   ]
  },
  {
   "cell_type": "code",
   "execution_count": 53,
   "id": "c9fc9cb2",
   "metadata": {},
   "outputs": [
    {
     "name": "stdout",
     "output_type": "stream",
     "text": [
      "Hi my name is Saurav.\n",
      "I study at unacademy.\n",
      "I found this platform helpfull for ds.\n",
      "My gmail id is savra5454@gmail.com.\n",
      "My mobile num is 9581029028.\n",
      "My address is Aaryapur 544803\n"
     ]
    }
   ],
   "source": [
    "string2 = \"Hi my name is Saurav.\\nI study at unacademy.\\nI found this platform helpfull for ds.\\nMy gmail id is savra5454@gmail.com.\\nMy mobile num is 9581029028.\\nMy address is Aaryapur 544803\"\n",
    "print(string2)"
   ]
  },
  {
   "cell_type": "code",
   "execution_count": 11,
   "id": "d7f10f7f",
   "metadata": {},
   "outputs": [
    {
     "name": "stdout",
     "output_type": "stream",
     "text": [
      "Hi my name is gaurav.\n",
      "I study at ediyoda.\n",
      "I found this platform helpfull for ds.\n",
      "My gmail id is mankargaurav0802@gmail.com.\n",
      "My mobile num is 9881029028.\n",
      "My addres is Daryapur 444803\n"
     ]
    }
   ],
   "source": [
    "print(string)"
   ]
  },
  {
   "cell_type": "code",
   "execution_count": 12,
   "id": "19c10054",
   "metadata": {},
   "outputs": [],
   "source": [
    "import re"
   ]
  },
  {
   "cell_type": "code",
   "execution_count": 110,
   "id": "18d59d50",
   "metadata": {},
   "outputs": [
    {
     "data": {
      "text/plain": [
       "['9581029028']"
      ]
     },
     "execution_count": 110,
     "metadata": {},
     "output_type": "execute_result"
    }
   ],
   "source": [
    "#print mobile num\n",
    "re.findall(\"\\d{10}\",string2)"
   ]
  },
  {
   "cell_type": "code",
   "execution_count": 49,
   "id": "d5ed97d6",
   "metadata": {},
   "outputs": [
    {
     "data": {
      "text/plain": [
       "['9881029028']"
      ]
     },
     "execution_count": 49,
     "metadata": {},
     "output_type": "execute_result"
    }
   ],
   "source": [
    "re.findall(\"\\d{9,}\",string"
   ]
  },
  {
   "cell_type": "code",
   "execution_count": 72,
   "id": "3a168178",
   "metadata": {},
   "outputs": [
    {
     "data": {
      "text/plain": [
       "['address is Aaryapur 544803']"
      ]
     },
     "execution_count": 72,
     "metadata": {},
     "output_type": "execute_result"
    }
   ],
   "source": [
    "#print out address same can use for printing any thing\n",
    "re.findall(\"address.*\",string2)"
   ]
  },
  {
   "cell_type": "code",
   "execution_count": 105,
   "id": "d4667623",
   "metadata": {},
   "outputs": [
    {
     "data": {
      "text/plain": [
       "['s Daryapur 444803']"
      ]
     },
     "execution_count": 105,
     "metadata": {},
     "output_type": "execute_result"
    }
   ],
   "source": [
    "re.findall(\"\\w\\s[A-Z].*\\s[0-9].*\",string)"
   ]
  },
  {
   "cell_type": "code",
   "execution_count": 62,
   "id": "3516209b",
   "metadata": {},
   "outputs": [
    {
     "data": {
      "text/plain": [
       "[' savra5454@gmail.com.']"
      ]
     },
     "execution_count": 62,
     "metadata": {},
     "output_type": "execute_result"
    }
   ],
   "source": [
    "#find mail id\n",
    "re.findall(\"\\s\\w*.@.*[.com]\",string2)"
   ]
  },
  {
   "cell_type": "code",
   "execution_count": null,
   "id": "ff814593",
   "metadata": {},
   "outputs": [],
   "source": []
  },
  {
   "cell_type": "code",
   "execution_count": null,
   "id": "d9578900",
   "metadata": {},
   "outputs": [],
   "source": []
  },
  {
   "cell_type": "code",
   "execution_count": null,
   "id": "51d7f644",
   "metadata": {},
   "outputs": [],
   "source": []
  }
 ],
 "metadata": {
  "kernelspec": {
   "display_name": "Python 3 (ipykernel)",
   "language": "python",
   "name": "python3"
  },
  "language_info": {
   "codemirror_mode": {
    "name": "ipython",
    "version": 3
   },
   "file_extension": ".py",
   "mimetype": "text/x-python",
   "name": "python",
   "nbconvert_exporter": "python",
   "pygments_lexer": "ipython3",
   "version": "3.9.13"
  }
 },
 "nbformat": 4,
 "nbformat_minor": 5
}

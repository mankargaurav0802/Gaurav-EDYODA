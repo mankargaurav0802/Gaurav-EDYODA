{
 "cells": [
  {
   "cell_type": "code",
   "execution_count": null,
   "id": "4483d16c",
   "metadata": {},
   "outputs": [],
   "source": [
    "Exercise 1 (and Solution)\n",
    "Create a program that asks the user to enter their name and their age.\n",
    "Print out a message addressed to them that tells them the year that they will turn 100 years old. Note: for this exercise,\n",
    "    the expectation is that you explicitly write out the year (and therefore be out of date the next year). \n",
    "    If you want to do this in a generic way, see exercise 39.\n",
    "Extras:\n",
    "Add on to the previous program by asking the user for another number and printing out that many copies of the previous message\n",
    ". (Hint: order of operations exists in Python)\n",
    "Print out that many copies of the previous message on separate lines.\n",
    "(Hint: the string \"\\n is the same as pressing the ENTER button)"
   ]
  },
  {
   "cell_type": "code",
   "execution_count": 12,
   "id": "9bab7299",
   "metadata": {},
   "outputs": [
    {
     "name": "stdout",
     "output_type": "stream",
     "text": [
      "name plzz = gaurav\n",
      "age plzz 23\n",
      "name = gaurav real age 23 you will be 100 in 2099 years\n"
     ]
    }
   ],
   "source": [
    "a=input(\"name plzz = \")\n",
    "b=int(input(\"age plzz \"))\n",
    "x=100-b+2022\n",
    "print(\"name = {0} real age {1} you will be 100 in {2} years\".format(a,b,x))"
   ]
  },
  {
   "cell_type": "code",
   "execution_count": 14,
   "id": "b676048f",
   "metadata": {},
   "outputs": [
    {
     "data": {
      "text/plain": [
       "'gaurav'"
      ]
     },
     "execution_count": 14,
     "metadata": {},
     "output_type": "execute_result"
    }
   ],
   "source": [
    "a"
   ]
  },
  {
   "cell_type": "code",
   "execution_count": null,
   "id": "bb31bb2b",
   "metadata": {},
   "outputs": [],
   "source": [
    "Exercise 2 (and Solution)\n",
    "Ask the user for a number. \n",
    "Depending on whether the number is even or odd, print out an appropriate message to the user. \n",
    "Hint: how does an even / odd number react differently when divided by 2?\n",
    "Extras:\n",
    "If the number is a multiple of 4, print out a different message.\n",
    "Ask the user for two numbers: \n",
    "    one number to check (call it num) and one number to divide by (check). \n",
    "    If check divides evenly into num, tell that to the user.\n",
    "    If not, print a different appropriate message."
   ]
  },
  {
   "cell_type": "code",
   "execution_count": 25,
   "id": "5e29972c",
   "metadata": {},
   "outputs": [
    {
     "name": "stdout",
     "output_type": "stream",
     "text": [
      "plz add a number = 6\n",
      "6 is a even\n"
     ]
    }
   ],
   "source": [
    "a=int(input(\"plz add a number = \"))\n",
    "if a%2==0:\n",
    "    print(a,\"is a even\")\n",
    "    if a%4==0:\n",
    "        print(\"number is multiple of 4\")\n",
    "else:\n",
    "    print(a,\"is odd number\")"
   ]
  },
  {
   "cell_type": "code",
   "execution_count": 27,
   "id": "77e0e392",
   "metadata": {},
   "outputs": [
    {
     "name": "stdout",
     "output_type": "stream",
     "text": [
      "plz add a number = 8\n",
      "8 is a even\n",
      "number is multiple of 4\n",
      "plz add a number = 7\n",
      "7 is odd number\n"
     ]
    }
   ],
   "source": [
    "a=int(input(\"plz add a number = \"))\n",
    "if a%2==0:\n",
    "    print(a,\"is a even\")\n",
    "    if a%4==0:\n",
    "        print(\"number is multiple of 4\")\n",
    "else:\n",
    "    print(a,\"is odd number\")\n",
    "    \n",
    "b=int(input(\"plz add a number = \"))\n",
    "if b%2==0:\n",
    "    print(b,\"is a even\")\n",
    "    if b%4==0:\n",
    "        print(\"number is multiple of 4\")\n",
    "else:\n",
    "    print(b,\"is odd number\")\n",
    "    "
   ]
  },
  {
   "cell_type": "code",
   "execution_count": null,
   "id": "192f8528",
   "metadata": {},
   "outputs": [],
   "source": [
    "Exercise 3 (and Solution)\n",
    "Take a list, say for example this one:\n",
    "a = [1, 1, 2, 3, 5, 8, 13, 21, 34, 55, 89]\n",
    "and write a program that prints out all the elements of the list that are less than 5.\n",
    "Extras:\n",
    "Instead of printing the elements one by one,\n",
    "make a new list that has all the elements less than 5 from this list in it and print out this new list.\n",
    "Write this in one line of Python.\n",
    "Ask the user for a number and return a list that contains only elements\n",
    "from the original list a that are smaller than that number given by the user"
   ]
  },
  {
   "cell_type": "code",
   "execution_count": 28,
   "id": "8c48959d",
   "metadata": {},
   "outputs": [
    {
     "name": "stdout",
     "output_type": "stream",
     "text": [
      "1\n",
      "1\n",
      "2\n",
      "3\n"
     ]
    }
   ],
   "source": [
    "a =[1, 1, 2, 3, 5, 8, 13, 21, 34, 55, 89]\n",
    "for l in a:\n",
    "    if l<5:\n",
    "        print(l)\n",
    "        "
   ]
  },
  {
   "cell_type": "code",
   "execution_count": 30,
   "id": "c2812b2a",
   "metadata": {},
   "outputs": [
    {
     "ename": "SyntaxError",
     "evalue": "invalid syntax (2382225103.py, line 1)",
     "output_type": "error",
     "traceback": [
      "\u001b[1;36m  File \u001b[1;32m\"C:\\Users\\Gaurav\\AppData\\Local\\Temp\\ipykernel_3732\\2382225103.py\"\u001b[1;36m, line \u001b[1;32m1\u001b[0m\n\u001b[1;33m    l in list g\u001b[0m\n\u001b[1;37m              ^\u001b[0m\n\u001b[1;31mSyntaxError\u001b[0m\u001b[1;31m:\u001b[0m invalid syntax\n"
     ]
    }
   ],
   "source": [
    "\n"
   ]
  },
  {
   "cell_type": "code",
   "execution_count": null,
   "id": "d7442a76",
   "metadata": {},
   "outputs": [],
   "source": []
  },
  {
   "cell_type": "code",
   "execution_count": 9,
   "id": "ca3b2bab",
   "metadata": {},
   "outputs": [
    {
     "name": "stdout",
     "output_type": "stream",
     "text": [
      "1\n",
      "2\n",
      "3\n",
      "4\n",
      "[1, 2, 3, 4]\n"
     ]
    }
   ],
   "source": [
    "#take a in put add to 4 inputs add in list\n",
    "n=int(input())\n",
    "b=int(input())\n",
    "c=int(input())\n",
    "d=int(input())\n",
    "f=[n,b,c,d]\n",
    "print(f)"
   ]
  },
  {
   "cell_type": "code",
   "execution_count": 31,
   "id": "719461a2",
   "metadata": {},
   "outputs": [
    {
     "ename": "SyntaxError",
     "evalue": "invalid syntax (4236135040.py, line 1)",
     "output_type": "error",
     "traceback": [
      "\u001b[1;36m  File \u001b[1;32m\"C:\\Users\\Gaurav\\AppData\\Local\\Temp\\ipykernel_3732\\4236135040.py\"\u001b[1;36m, line \u001b[1;32m1\u001b[0m\n\u001b[1;33m    http://localhost:8888/notebooks/Operators%20in%20Python.ipynb#\u001b[0m\n\u001b[1;37m         ^\u001b[0m\n\u001b[1;31mSyntaxError\u001b[0m\u001b[1;31m:\u001b[0m invalid syntax\n"
     ]
    }
   ],
   "source": [
    "http://localhost:8888/notebooks/Operators%20in%20Python.ipynb#"
   ]
  },
  {
   "cell_type": "code",
   "execution_count": 29,
   "id": "4142766f",
   "metadata": {},
   "outputs": [
    {
     "data": {
      "text/plain": [
       "int"
      ]
     },
     "execution_count": 29,
     "metadata": {},
     "output_type": "execute_result"
    }
   ],
   "source": []
  },
  {
   "cell_type": "code",
   "execution_count": null,
   "id": "4902db6d",
   "metadata": {},
   "outputs": [],
   "source": []
  }
 ],
 "metadata": {
  "kernelspec": {
   "display_name": "Python 3 (ipykernel)",
   "language": "python",
   "name": "python3"
  },
  "language_info": {
   "codemirror_mode": {
    "name": "ipython",
    "version": 3
   },
   "file_extension": ".py",
   "mimetype": "text/x-python",
   "name": "python",
   "nbconvert_exporter": "python",
   "pygments_lexer": "ipython3",
   "version": "3.9.13"
  }
 },
 "nbformat": 4,
 "nbformat_minor": 5
}

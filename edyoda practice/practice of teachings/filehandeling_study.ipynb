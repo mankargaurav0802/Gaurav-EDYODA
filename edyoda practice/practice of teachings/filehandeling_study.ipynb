{
 "cells": [
  {
   "cell_type": "code",
   "execution_count": 30,
   "id": "b334c88b",
   "metadata": {},
   "outputs": [],
   "source": [
    "file_handler = open(\"news.txt\",\"w\",encoding= \"utf8\")\n",
    "file_handler.write(\"The travel from economic capital Mumbai to holiday capital Goa will soon get a makeover on \\nthe lines of the state-of-the-art Mumbai Pune Expressway \\nand Mumbai-Nagpur Samruddhi Mahamarg corridor.\")\n",
    "file_handler.close()"
   ]
  },
  {
   "cell_type": "code",
   "execution_count": 31,
   "id": "132560f2",
   "metadata": {},
   "outputs": [
    {
     "data": {
      "text/plain": [
       "'The travel from economic capital Mumbai to holiday capital Goa will soon get a makeover on \\nthe lines of the state-of-the-art Mumbai Pune Expressway \\nand Mumbai-Nagpur Samruddhi Mahamarg corridor.'"
      ]
     },
     "execution_count": 31,
     "metadata": {},
     "output_type": "execute_result"
    }
   ],
   "source": []
  },
  {
   "cell_type": "code",
   "execution_count": 32,
   "id": "559c5a10",
   "metadata": {},
   "outputs": [
    {
     "data": {
      "text/plain": [
       "'THE TRAVEL FROM ECONOMIC CAPITAL MUMBAI TO HOLIDAY CAPITAL GOA WILL SOON GET A MAKEOVER ON \\nTHE LINES OF THE STATE-OF-THE-ART MUMBAI PUNE EXPRESSWAY \\nAND MUMBAI-NAGPUR SAMRUDDHI MAHAMARG CORRIDOR.'"
      ]
     },
     "execution_count": 32,
     "metadata": {},
     "output_type": "execute_result"
    }
   ],
   "source": []
  },
  {
   "cell_type": "code",
   "execution_count": 41,
   "id": "17d7d987",
   "metadata": {},
   "outputs": [],
   "source": []
  },
  {
   "cell_type": "code",
   "execution_count": 42,
   "id": "d64b2e51",
   "metadata": {},
   "outputs": [
    {
     "data": {
      "text/plain": [
       "3"
      ]
     },
     "execution_count": 42,
     "metadata": {},
     "output_type": "execute_result"
    }
   ],
   "source": []
  },
  {
   "cell_type": "code",
   "execution_count": 81,
   "id": "f64809ad",
   "metadata": {},
   "outputs": [],
   "source": [
    "file_sir= open(\"news.txt\",\"r\",encoding=\"utf8\")\n",
    "data=file_sir.readlines()\n",
    "U=[element.upper() for element in data]\n",
    "b=[str(len(element))+\"\\n\" for element in data]\n",
    "file_sir_upper = open(\"news_upper.txt\",\"w\",encoding=\"utf8\")\n",
    "file_sir_upper.writelines(U)\n",
    "file_sir_upper.writelines(b)\n",
    "file_sir_upper.close()"
   ]
  },
  {
   "cell_type": "code",
   "execution_count": 78,
   "id": "29f1b9d0",
   "metadata": {},
   "outputs": [
    {
     "data": {
      "text/plain": [
       "['92\\n', '58\\n', '349\\n', '1\\n', '472\\n']"
      ]
     },
     "execution_count": 78,
     "metadata": {},
     "output_type": "execute_result"
    }
   ],
   "source": [
    "b"
   ]
  },
  {
   "cell_type": "code",
   "execution_count": 82,
   "id": "bf44e50b",
   "metadata": {},
   "outputs": [
    {
     "data": {
      "text/plain": [
       "['THE TRAVEL FROM ECONOMIC CAPITAL MUMBAI TO HOLIDAY CAPITAL GOA WILL SOON GET A MAKEOVER ON \\n',\n",
       " 'THE LINES OF THE STATE-OF-THE-ART MUMBAI PUNE EXPRESSWAY \\n',\n",
       " 'AND MUMBAI-NAGPUR SAMRUDDHI MAHAMARG CORRIDOR.e announcement was made by Maharashtra Chief Minister Eknath Shinde during the conclusion ceremony of the Malvani Mahotsav in Thane. The expressway that will be developed between Mumbai and Goa will be a greenfield expressway and will be access controlled, a system pioneered by Mumbai-Pune Expressway.\\n',\n",
       " '\\n',\n",
       " 'The Mumbai–Pune Expressway is officially called Yashwantrao Chavan Expressway. It is the country’s first six-lane, wide concrete, access-controlled toll expressway spanning 94.5 km. It was completely operationalised in 2022. New levels of speed and safety were introduced to one of the busiest road segments of the country. It passes through several tunnels in Sahyadri mountains, five interchanges and two carriageways. Vehicles are not allowed to stop on the expressway.']"
      ]
     },
     "execution_count": 82,
     "metadata": {},
     "output_type": "execute_result"
    }
   ],
   "source": [
    "data"
   ]
  },
  {
   "cell_type": "code",
   "execution_count": null,
   "id": "f6fd6051",
   "metadata": {},
   "outputs": [],
   "source": []
  }
 ],
 "metadata": {
  "kernelspec": {
   "display_name": "Python 3 (ipykernel)",
   "language": "python",
   "name": "python3"
  },
  "language_info": {
   "codemirror_mode": {
    "name": "ipython",
    "version": 3
   },
   "file_extension": ".py",
   "mimetype": "text/x-python",
   "name": "python",
   "nbconvert_exporter": "python",
   "pygments_lexer": "ipython3",
   "version": "3.9.13"
  }
 },
 "nbformat": 4,
 "nbformat_minor": 5
}

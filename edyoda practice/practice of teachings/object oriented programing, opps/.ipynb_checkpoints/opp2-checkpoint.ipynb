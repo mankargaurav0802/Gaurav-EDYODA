{
 "cells": [
  {
   "cell_type": "code",
   "execution_count": 1,
   "id": "929e104a",
   "metadata": {},
   "outputs": [
    {
     "name": "stdout",
     "output_type": "stream",
     "text": [
      "900\n",
      "Overdraft limit reached\n",
      "500\n",
      "Overdraft limit reached\n",
      "500\n"
     ]
    }
   ],
   "source": [
    "class BankAccount:\n",
    "    def __init__(self, name, balance):\n",
    "        self.name = name\n",
    "        self._balance = balance\n",
    "\n",
    "    def deposit(self, amount):\n",
    "        self._balance += amount\n",
    "\n",
    "    def withdraw(self, amount):\n",
    "        if self._balance - amount >= 0:\n",
    "            self._balance -= amount\n",
    "        else:\n",
    "            print(\"Insufficient funds\")\n",
    "\n",
    "class CheckingAccount(BankAccount):\n",
    "    def __init__(self, name, balance, overdraft_limit):\n",
    "        super().__init__(name, balance)\n",
    "        self.overdraft_limit = overdraft_limit\n",
    "\n",
    "    def withdraw(self, amount):\n",
    "        if self._balance - amount >= -self.overdraft_limit:\n",
    "            self._balance -= amount\n",
    "        else:\n",
    "            print(\"Overdraft limit reached\")\n",
    "\n",
    "account = BankAccount(\"John Doe\", 1000)\n",
    "checking_account = CheckingAccount(\"Jane Doe\", 500, -500)\n",
    "\n",
    "account.withdraw(100)\n",
    "print(account._balance) # Output: 900\n",
    "\n",
    "checking_account.withdraw(600)\n",
    "print(checking_account._balance) # Output: -100\n",
    "\n",
    "checking_account.withdraw(400)\n",
    "print(checking_account._balance) # Output: -500"
   ]
  },
  {
   "cell_type": "code",
   "execution_count": 1,
   "id": "65ef937e",
   "metadata": {},
   "outputs": [],
   "source": [
    "class ApplicationEdiyodaDS17:\n",
    "    def __init__(self,student_id,age,mail_id):\n",
    "        self.id=student_id\n",
    "        self.student_age=age\n",
    "        self.mail = mail_id\n",
    "        \n",
    "    def displayApplicationEdiyodaDS17(self):\n",
    "        print(\"id= {} \\nage= {} \\nmail = {} \".format(self.id,self.student_age,self.mail))"
   ]
  },
  {
   "cell_type": "code",
   "execution_count": 2,
   "id": "7d41da5e",
   "metadata": {},
   "outputs": [],
   "source": [
    "saurav=ApplicationEdiyodaDS17(\"gg98823\",23,\"gaurav@gmail\",)"
   ]
  },
  {
   "cell_type": "code",
   "execution_count": 3,
   "id": "7015fe31",
   "metadata": {},
   "outputs": [
    {
     "name": "stdout",
     "output_type": "stream",
     "text": [
      "id= gg98823 \n",
      "age= 23 \n",
      "mail = gaurav@gmail \n"
     ]
    }
   ],
   "source": [
    "saurav.displayApplicationEdiyodaDS17()"
   ]
  },
  {
   "cell_type": "code",
   "execution_count": 5,
   "id": "bb5c7fe5",
   "metadata": {},
   "outputs": [
    {
     "data": {
      "text/plain": [
       "'gaurav@gmail'"
      ]
     },
     "execution_count": 5,
     "metadata": {},
     "output_type": "execute_result"
    }
   ],
   "source": [
    "saurav.mail"
   ]
  },
  {
   "cell_type": "code",
   "execution_count": null,
   "id": "21c5a7c3",
   "metadata": {},
   "outputs": [],
   "source": []
  },
  {
   "cell_type": "code",
   "execution_count": null,
   "id": "d146a249",
   "metadata": {},
   "outputs": [],
   "source": []
  },
  {
   "cell_type": "code",
   "execution_count": 15,
   "id": "1cb164af",
   "metadata": {},
   "outputs": [],
   "source": [
    "#shubham\n",
    "class edyoda_Ds_17:\n",
    "    def __init__(student,given_id,given_age,mail_id,phone_number,given_previous_education,given_city,given_state,given_country,past_experiance):\n",
    "        student.id=given_id\n",
    "        student.age=given_age\n",
    "        student.mail_id=mail_id\n",
    "        student.phone_number=phone_number\n",
    "        student.previous_education=given_previous_education\n",
    "        student.city=given_city\n",
    "        student.state=given_state\n",
    "        student.country=given_country\n",
    "        student.past_experiance=past_experiance\n",
    "        \n",
    "    def student_Displaylist(student):\n",
    "        print(\"id={} \\nage={}\\nmail_id={}\\nphone_number={}\\nprevious_education={}\\ncity={}\\nstate={}\\ncountry={}\\npost_experiance={}\".format(student.id,student.age,student.mail_id,student.phone_number,student.previous_education,student.city,student.state,student.country,student.past_experiance))                                                                                                                                                                                              "
   ]
  },
  {
   "cell_type": "code",
   "execution_count": null,
   "id": "3fb9cf4e",
   "metadata": {},
   "outputs": [],
   "source": []
  },
  {
   "cell_type": "code",
   "execution_count": null,
   "id": "f99384c9",
   "metadata": {},
   "outputs": [],
   "source": []
  },
  {
   "cell_type": "code",
   "execution_count": null,
   "id": "a394e611",
   "metadata": {},
   "outputs": [],
   "source": []
  },
  {
   "cell_type": "code",
   "execution_count": 16,
   "id": "bbcb2330",
   "metadata": {},
   "outputs": [],
   "source": [
    "gaurav=edyoda_Ds_17(\"df2234\",23,\"gmail@mail_id\",9881029028,\"BSC agri\",\"Amravati\",\"Maharashtra\",\"india\",\"R&exe\")"
   ]
  },
  {
   "cell_type": "code",
   "execution_count": 17,
   "id": "4defc6ee",
   "metadata": {},
   "outputs": [
    {
     "name": "stdout",
     "output_type": "stream",
     "text": [
      "id=df2234 \n",
      "age=23\n",
      "mail_id=gmail@mail_id\n",
      "phone_number=9881029028\n",
      "previous_education=BSC agri\n",
      "city=Amravati\n",
      "state=Maharashtra\n",
      "country=india\n",
      "past_experiance=R&exe\n"
     ]
    }
   ],
   "source": [
    "gaurav.student_Displaylist()"
   ]
  },
  {
   "cell_type": "code",
   "execution_count": null,
   "id": "12d21b87",
   "metadata": {},
   "outputs": [],
   "source": [
    "Lets say that we are creating an application which stores students of edyoda DS_17 batch.\n",
    "Create a class with the following instance variables and methods:\n",
    "\n",
    "instance variables:\n",
    "student_id\n",
    "age\n",
    "mail_id\n",
    "phone_number\n",
    "previous_education\n",
    "city\n",
    "state\n",
    "country\n",
    "past_experience\n",
    "\n",
    "Methods:\n",
    "\n",
    "display_student_details()"
   ]
  },
  {
   "cell_type": "code",
   "execution_count": null,
   "id": "5eabb6de",
   "metadata": {},
   "outputs": [],
   "source": [
    "class edyoda_Ds_17:\n",
    "    def __init__(student,given_id,given_age,mail_id,phone_number,given_previous_education,given_city,given_state,given_country,past_experiance):\n",
    "        student.id=given_id\n",
    "        student.age=given_age\n",
    "        student.mail_id=mail_id\n",
    "        student.phone_number=phone_number\n",
    "        student.previous_education=previous_education\n",
    "        student.city=given_city\n",
    "        student.state=given_state\n",
    "        student.country=given_country\n",
    "        student.past_experiance=past_experian\n",
    "    def"
   ]
  },
  {
   "cell_type": "code",
   "execution_count": 97,
   "id": "fadfa4dd",
   "metadata": {},
   "outputs": [],
   "source": [
    "class EdyodaInstitute:\n",
    "    student_no= 1\n",
    "    def __init__(student,student_name,institute_name):\n",
    "        student.student_id=EdyodaInstitute.student_no\n",
    "        student.student_name=student_name\n",
    "        student.institute_name=institute_name\n",
    "        \n",
    "        EdyodaInstitute.student_no+=1\n",
    "    \n",
    "    def Display_student_details(student):\n",
    "        print(\"student_id {}\\n student_name-{}\\n institute_name = {}\".format(student.student_id,student.student_name,student.institute_name))\n",
    "        "
   ]
  },
  {
   "cell_type": "code",
   "execution_count": 98,
   "id": "a6d46b43",
   "metadata": {},
   "outputs": [],
   "source": [
    "gaurav=EdyodaInstitute(\"gaurav\",\"edyoda\")"
   ]
  },
  {
   "cell_type": "code",
   "execution_count": 99,
   "id": "6603cd3a",
   "metadata": {},
   "outputs": [
    {
     "name": "stdout",
     "output_type": "stream",
     "text": [
      "student_id 1\n",
      " student_name-gaurav\n",
      " institute_name = edyoda\n"
     ]
    }
   ],
   "source": [
    "gaurav.Display_student_details()"
   ]
  },
  {
   "cell_type": "code",
   "execution_count": 100,
   "id": "94453c01",
   "metadata": {},
   "outputs": [],
   "source": [
    "savrav=EdyodaInstitute(\"savrav\",\"udemy\")"
   ]
  },
  {
   "cell_type": "code",
   "execution_count": 101,
   "id": "f59de69b",
   "metadata": {},
   "outputs": [
    {
     "name": "stdout",
     "output_type": "stream",
     "text": [
      "student_id 2\n",
      " student_name-savrav\n",
      " institute_name = udemy\n"
     ]
    }
   ],
   "source": [
    "savrav.Display_student_details()"
   ]
  },
  {
   "cell_type": "code",
   "execution_count": 102,
   "id": "2c52c8d9",
   "metadata": {},
   "outputs": [],
   "source": [
    "ravi=EdyodaInstitute(\"ravi\",\"nafari\")"
   ]
  },
  {
   "cell_type": "code",
   "execution_count": 103,
   "id": "c09311e2",
   "metadata": {},
   "outputs": [
    {
     "name": "stdout",
     "output_type": "stream",
     "text": [
      "student_id 3\n",
      " student_name-ravi\n",
      " institute_name = nafari\n"
     ]
    }
   ],
   "source": [
    "ravi.Display_student_details()"
   ]
  },
  {
   "cell_type": "code",
   "execution_count": null,
   "id": "c9aed3fe",
   "metadata": {},
   "outputs": [],
   "source": []
  },
  {
   "cell_type": "code",
   "execution_count": null,
   "id": "2200681f",
   "metadata": {},
   "outputs": [],
   "source": []
  }
 ],
 "metadata": {
  "kernelspec": {
   "display_name": "Python 3 (ipykernel)",
   "language": "python",
   "name": "python3"
  },
  "language_info": {
   "codemirror_mode": {
    "name": "ipython",
    "version": 3
   },
   "file_extension": ".py",
   "mimetype": "text/x-python",
   "name": "python",
   "nbconvert_exporter": "python",
   "pygments_lexer": "ipython3",
   "version": "3.9.13"
  }
 },
 "nbformat": 4,
 "nbformat_minor": 5
}

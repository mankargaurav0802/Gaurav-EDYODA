{
 "cells": [
  {
   "cell_type": "code",
   "execution_count": 1,
   "id": "929e104a",
   "metadata": {},
   "outputs": [
    {
     "name": "stdout",
     "output_type": "stream",
     "text": [
      "900\n",
      "Overdraft limit reached\n",
      "500\n",
      "Overdraft limit reached\n",
      "500\n"
     ]
    }
   ],
   "source": [
    "class BankAccount:\n",
    "    def __init__(self, name, balance):\n",
    "        self.name = name\n",
    "        self._balance = balance\n",
    "\n",
    "    def deposit(self, amount):\n",
    "        self._balance += amount\n",
    "\n",
    "    def withdraw(self, amount):\n",
    "        if self._balance - amount >= 0:\n",
    "            self._balance -= amount\n",
    "        else:\n",
    "            print(\"Insufficient funds\")\n",
    "\n",
    "class CheckingAccount(BankAccount):\n",
    "    def __init__(self, name, balance, overdraft_limit):\n",
    "        super().__init__(name, balance)\n",
    "        self.overdraft_limit = overdraft_limit\n",
    "\n",
    "    def withdraw(self, amount):\n",
    "        if self._balance - amount >= -self.overdraft_limit:\n",
    "            self._balance -= amount\n",
    "        else:\n",
    "            print(\"Overdraft limit reached\")\n",
    "\n",
    "account = BankAccount(\"John Doe\", 1000)\n",
    "checking_account = CheckingAccount(\"Jane Doe\", 500, -500)\n",
    "\n",
    "account.withdraw(100)\n",
    "print(account._balance) # Output: 900\n",
    "\n",
    "checking_account.withdraw(600)\n",
    "print(checking_account._balance) # Output: -100\n",
    "\n",
    "checking_account.withdraw(400)\n",
    "print(checking_account._balance) # Output: -500"
   ]
  },
  {
   "cell_type": "code",
   "execution_count": 1,
   "id": "65ef937e",
   "metadata": {},
   "outputs": [],
   "source": [
    "class ApplicationEdiyodaDS17:\n",
    "    def __init__(self,student_id,age,mail_id):\n",
    "        self.id=student_id\n",
    "        self.student_age=age\n",
    "        self.mail = mail_id\n",
    "        \n",
    "    def displayApplicationEdiyodaDS17(self):\n",
    "        print(\"id= {} \\nage= {} \\nmail = {} \".format(self.id,self.student_age,self.mail))"
   ]
  },
  {
   "cell_type": "code",
   "execution_count": 2,
   "id": "7d41da5e",
   "metadata": {},
   "outputs": [],
   "source": [
    "saurav=ApplicationEdiyodaDS17(\"gg98823\",23,\"gaurav@gmail\",)"
   ]
  },
  {
   "cell_type": "code",
   "execution_count": 3,
   "id": "7015fe31",
   "metadata": {},
   "outputs": [
    {
     "name": "stdout",
     "output_type": "stream",
     "text": [
      "id= gg98823 \n",
      "age= 23 \n",
      "mail = gaurav@gmail \n"
     ]
    }
   ],
   "source": [
    "saurav.displayApplicationEdiyodaDS17()"
   ]
  },
  {
   "cell_type": "code",
   "execution_count": 5,
   "id": "bb5c7fe5",
   "metadata": {},
   "outputs": [
    {
     "data": {
      "text/plain": [
       "'gaurav@gmail'"
      ]
     },
     "execution_count": 5,
     "metadata": {},
     "output_type": "execute_result"
    }
   ],
   "source": [
    "saurav.mail"
   ]
  },
  {
   "cell_type": "code",
   "execution_count": null,
   "id": "21c5a7c3",
   "metadata": {},
   "outputs": [],
   "source": []
  },
  {
   "cell_type": "code",
   "execution_count": null,
   "id": "d146a249",
   "metadata": {},
   "outputs": [],
   "source": []
  },
  {
   "cell_type": "code",
   "execution_count": 36,
   "id": "1cb164af",
   "metadata": {},
   "outputs": [],
   "source": [
    "#shubham\n",
    "class edyoda_Ds_17:\n",
    "    def __init__(student,given_id,given_age,mail_id,phone_number,given_previous_education,given_city,given_state,given_country,past_experiance):\n",
    "        student.id=given_id\n",
    "        student.age=given_age\n",
    "        student.mail_id=mail_id\n",
    "        student.phone_number=phone_number\n",
    "        student.previous_education=given_previous_education\n",
    "        student.city=given_city\n",
    "        student.state=given_state\n",
    "        student.country=given_country\n",
    "        student.past_experiance=past_experiance\n",
    "        \n",
    "    def student_Displaylist(student):\n",
    "        print(\"id={} \\nage={}\\nmail_id={}\\nphone_number={}\\nprevious_education={}\\ncity={}\\nstate={}\\ncountry={}\\npost_experiance={}\".format(student.id,student.age,student.mail_id,student.phone_number,student.previous_education,student.city,student.state,student.country,student.past_experiance))                                                                                                                                                                                              "
   ]
  },
  {
   "cell_type": "code",
   "execution_count": 42,
   "id": "b18ae9ae",
   "metadata": {},
   "outputs": [],
   "source": [
    "class TuTor(edyoda_Ds_17):\n",
    "    def __init__(student,given_id,given_age,mail_id,phone_number,given_previous_education,given_city,given_state,given_country,past_experiance):\n",
    "        edyoda_Ds_17.__init__(student,given_id,given_age,mail_id,phone_number,given_previous_education,given_city,given_state,given_country,past_experiance)\n",
    "    def student_Displaylist(student):\n",
    "        edyoda_Ds_17(student)"
   ]
  },
  {
   "cell_type": "code",
   "execution_count": null,
   "id": "727fcb2a",
   "metadata": {},
   "outputs": [],
   "source": []
  },
  {
   "cell_type": "code",
   "execution_count": 45,
   "id": "c5a9194d",
   "metadata": {},
   "outputs": [
    {
     "ename": "NameError",
     "evalue": "name 'student' is not defined",
     "output_type": "error",
     "traceback": [
      "\u001b[1;31m---------------------------------------------------------------------------\u001b[0m",
      "\u001b[1;31mNameError\u001b[0m                                 Traceback (most recent call last)",
      "\u001b[1;32m~\\AppData\\Local\\Temp\\ipykernel_13980\\1134909837.py\u001b[0m in \u001b[0;36m<module>\u001b[1;34m\u001b[0m\n\u001b[1;32m----> 1\u001b[1;33m \u001b[0mrahul\u001b[0m\u001b[1;33m=\u001b[0m\u001b[0mTuTor\u001b[0m\u001b[1;33m(\u001b[0m\u001b[0mstudent\u001b[0m\u001b[1;33m,\u001b[0m\u001b[1;34m\"15\"\u001b[0m\u001b[1;33m,\u001b[0m\u001b[1;36m23\u001b[0m\u001b[1;33m,\u001b[0m\u001b[1;34m\"gmailjn@mail_id\"\u001b[0m\u001b[1;33m,\u001b[0m\u001b[1;36m98028\u001b[0m\u001b[1;33m,\u001b[0m\u001b[1;34m\"cs\"\u001b[0m\u001b[1;33m,\u001b[0m\u001b[1;34m\"Rj\"\u001b[0m\u001b[1;33m,\u001b[0m\u001b[1;34m\"RJ\"\u001b[0m\u001b[1;33m,\u001b[0m\u001b[1;34m\"india\"\u001b[0m\u001b[1;33m,\u001b[0m\u001b[1;34m\"Tutor\"\u001b[0m\u001b[1;33m)\u001b[0m\u001b[1;33m\u001b[0m\u001b[1;33m\u001b[0m\u001b[0m\n\u001b[0m",
      "\u001b[1;31mNameError\u001b[0m: name 'student' is not defined"
     ]
    }
   ],
   "source": [
    "rahul=TuTor(\"15\",23,\"gmailjn@mail_id\",98028,\"cs\",\"Rj\",\"RJ\",\"india\",\"Tutor\")"
   ]
  },
  {
   "cell_type": "code",
   "execution_count": 44,
   "id": "47103223",
   "metadata": {},
   "outputs": [
    {
     "ename": "TypeError",
     "evalue": "__init__() missing 8 required positional arguments: 'given_age', 'mail_id', 'phone_number', 'given_previous_education', 'given_city', 'given_state', 'given_country', and 'past_experiance'",
     "output_type": "error",
     "traceback": [
      "\u001b[1;31m---------------------------------------------------------------------------\u001b[0m",
      "\u001b[1;31mTypeError\u001b[0m                                 Traceback (most recent call last)",
      "\u001b[1;32m~\\AppData\\Local\\Temp\\ipykernel_13980\\3644289053.py\u001b[0m in \u001b[0;36m<module>\u001b[1;34m\u001b[0m\n\u001b[1;32m----> 1\u001b[1;33m \u001b[0mrahul\u001b[0m\u001b[1;33m.\u001b[0m\u001b[0mstudent_Displaylist\u001b[0m\u001b[1;33m(\u001b[0m\u001b[1;33m)\u001b[0m\u001b[1;33m\u001b[0m\u001b[1;33m\u001b[0m\u001b[0m\n\u001b[0m",
      "\u001b[1;32m~\\AppData\\Local\\Temp\\ipykernel_13980\\1877431101.py\u001b[0m in \u001b[0;36mstudent_Displaylist\u001b[1;34m(student)\u001b[0m\n\u001b[0;32m      3\u001b[0m         \u001b[0medyoda_Ds_17\u001b[0m\u001b[1;33m.\u001b[0m\u001b[0m__init__\u001b[0m\u001b[1;33m(\u001b[0m\u001b[0mstudent\u001b[0m\u001b[1;33m,\u001b[0m\u001b[0mgiven_id\u001b[0m\u001b[1;33m,\u001b[0m\u001b[0mgiven_age\u001b[0m\u001b[1;33m,\u001b[0m\u001b[0mmail_id\u001b[0m\u001b[1;33m,\u001b[0m\u001b[0mphone_number\u001b[0m\u001b[1;33m,\u001b[0m\u001b[0mgiven_previous_education\u001b[0m\u001b[1;33m,\u001b[0m\u001b[0mgiven_city\u001b[0m\u001b[1;33m,\u001b[0m\u001b[0mgiven_state\u001b[0m\u001b[1;33m,\u001b[0m\u001b[0mgiven_country\u001b[0m\u001b[1;33m,\u001b[0m\u001b[0mpast_experiance\u001b[0m\u001b[1;33m)\u001b[0m\u001b[1;33m\u001b[0m\u001b[1;33m\u001b[0m\u001b[0m\n\u001b[0;32m      4\u001b[0m     \u001b[1;32mdef\u001b[0m \u001b[0mstudent_Displaylist\u001b[0m\u001b[1;33m(\u001b[0m\u001b[0mstudent\u001b[0m\u001b[1;33m)\u001b[0m\u001b[1;33m:\u001b[0m\u001b[1;33m\u001b[0m\u001b[1;33m\u001b[0m\u001b[0m\n\u001b[1;32m----> 5\u001b[1;33m         \u001b[0medyoda_Ds_17\u001b[0m\u001b[1;33m(\u001b[0m\u001b[0mstudent\u001b[0m\u001b[1;33m)\u001b[0m\u001b[1;33m\u001b[0m\u001b[1;33m\u001b[0m\u001b[0m\n\u001b[0m",
      "\u001b[1;31mTypeError\u001b[0m: __init__() missing 8 required positional arguments: 'given_age', 'mail_id', 'phone_number', 'given_previous_education', 'given_city', 'given_state', 'given_country', and 'past_experiance'"
     ]
    }
   ],
   "source": [
    "rahul.student_Displaylist()"
   ]
  },
  {
   "cell_type": "code",
   "execution_count": 35,
   "id": "bbcb2330",
   "metadata": {},
   "outputs": [],
   "source": [
    "gaurav=edyoda_Ds_17(\"df2234\",23,\"gmail@mail_id\",9881029028,\"BSC agri\",\"Amravati\",\"Maharashtra\",\"india\",\"R&exe\")"
   ]
  },
  {
   "cell_type": "code",
   "execution_count": null,
   "id": "1f5bed4c",
   "metadata": {},
   "outputs": [],
   "source": []
  },
  {
   "cell_type": "code",
   "execution_count": 17,
   "id": "4defc6ee",
   "metadata": {},
   "outputs": [
    {
     "name": "stdout",
     "output_type": "stream",
     "text": [
      "id=df2234 \n",
      "age=23\n",
      "mail_id=gmail@mail_id\n",
      "phone_number=9881029028\n",
      "previous_education=BSC agri\n",
      "city=Amravati\n",
      "state=Maharashtra\n",
      "country=india\n",
      "past_experiance=R&exe\n"
     ]
    }
   ],
   "source": [
    "gaurav.student_Displaylist()"
   ]
  },
  {
   "cell_type": "code",
   "execution_count": null,
   "id": "12d21b87",
   "metadata": {},
   "outputs": [],
   "source": [
    "Lets say that we are creating an application which stores students of edyoda DS_17 batch.\n",
    "Create a class with the following instance variables and methods:\n",
    "\n",
    "instance variables:\n",
    "student_id\n",
    "age\n",
    "mail_id\n",
    "phone_number\n",
    "previous_education\n",
    "city\n",
    "state\n",
    "country\n",
    "past_experience\n",
    "\n",
    "Methods:\n",
    "\n",
    "display_student_details()"
   ]
  },
  {
   "cell_type": "code",
   "execution_count": null,
   "id": "5eabb6de",
   "metadata": {},
   "outputs": [],
   "source": [
    "class edyoda_Ds_17:\n",
    "    def __init__(student,given_id,given_age,mail_id,phone_number,given_previous_education,given_city,given_state,given_country,past_experiance):\n",
    "        student.id=given_id\n",
    "        student.age=given_age\n",
    "        student.mail_id=mail_id\n",
    "        student.phone_number=phone_number\n",
    "        student.previous_education=previous_education\n",
    "        student.city=given_city\n",
    "        student.state=given_state\n",
    "        student.country=given_country\n",
    "        student.past_experiance=past_experian\n",
    "    def"
   ]
  },
  {
   "cell_type": "code",
   "execution_count": 97,
   "id": "fadfa4dd",
   "metadata": {},
   "outputs": [],
   "source": [
    "class EdyodaInstitute:\n",
    "    student_no= 1\n",
    "    def __init__(student,student_name,institute_name):\n",
    "        student.student_id=EdyodaInstitute.student_no\n",
    "        student.student_name=student_name\n",
    "        student.institute_name=institute_name\n",
    "        \n",
    "        EdyodaInstitute.student_no+=1\n",
    "    \n",
    "    def Display_student_details(student):\n",
    "        print(\"student_id {}\\n student_name-{}\\n institute_name = {}\".format(student.student_id,student.student_name,student.institute_name))\n",
    "            def display_emp_details(self):\n",
    "        Employee.display_emp_details(self)\n",
    "        print(\"SUBORDINATES\",self.num_of_subordinates)"
   ]
  },
  {
   "cell_type": "code",
   "execution_count": 98,
   "id": "a6d46b43",
   "metadata": {},
   "outputs": [],
   "source": [
    "gaurav=EdyodaInstitute(\"gaurav\",\"edyoda\")"
   ]
  },
  {
   "cell_type": "code",
   "execution_count": 99,
   "id": "6603cd3a",
   "metadata": {},
   "outputs": [
    {
     "name": "stdout",
     "output_type": "stream",
     "text": [
      "student_id 1\n",
      " student_name-gaurav\n",
      " institute_name = edyoda\n"
     ]
    }
   ],
   "source": [
    "gaurav.Display_student_details()"
   ]
  },
  {
   "cell_type": "code",
   "execution_count": 100,
   "id": "94453c01",
   "metadata": {},
   "outputs": [],
   "source": [
    "savrav=EdyodaInstitute(\"savrav\",\"udemy\")"
   ]
  },
  {
   "cell_type": "code",
   "execution_count": 101,
   "id": "f59de69b",
   "metadata": {},
   "outputs": [
    {
     "name": "stdout",
     "output_type": "stream",
     "text": [
      "student_id 2\n",
      " student_name-savrav\n",
      " institute_name = udemy\n"
     ]
    }
   ],
   "source": [
    "savrav.Display_student_details()"
   ]
  },
  {
   "cell_type": "code",
   "execution_count": 102,
   "id": "2c52c8d9",
   "metadata": {},
   "outputs": [],
   "source": [
    "ravi=EdyodaInstitute(\"ravi\",\"nafari\")"
   ]
  },
  {
   "cell_type": "code",
   "execution_count": 103,
   "id": "c09311e2",
   "metadata": {},
   "outputs": [
    {
     "name": "stdout",
     "output_type": "stream",
     "text": [
      "student_id 3\n",
      " student_name-ravi\n",
      " institute_name = nafari\n"
     ]
    }
   ],
   "source": [
    "ravi.Display_student_details()"
   ]
  },
  {
   "cell_type": "code",
   "execution_count": 130,
   "id": "c9aed3fe",
   "metadata": {},
   "outputs": [],
   "source": [
    "class Employee:\n",
    "    emp_count = 0\n",
    "    def __init__(self,emp_id,name,salary,department,designation,contact,gender):\n",
    "        self.emp_id = emp_id\n",
    "        self.name = name\n",
    "        self.salary = salary\n",
    "        self.department = department\n",
    "        self.designation =  designation\n",
    "        self.contact = contact\n",
    "        self.gender = gender\n",
    "\n",
    "\n",
    "        Employee.emp_count+=1\n",
    "    \n",
    "    def display_emp_details(self):\n",
    "        print(\"EMP_ID:{}\\nNAME:{}\\nSALARY:{}\\nDEPARTMENT:{}\\nDESIGNATION:{}\\nCONTACT:{}\\nGENDER:{}\".format(self.emp_id,self.name,self.salary,self.department,self.designation,self.contact,self.gender))\n",
    "        \n",
    "        \n",
    "        "
   ]
  },
  {
   "cell_type": "code",
   "execution_count": 131,
   "id": "2200681f",
   "metadata": {},
   "outputs": [],
   "source": [
    "class Manager(Employee):\n",
    "    def __init__(self,emp_id,name,salary,department,contact,gender,num_of_subordinates):\n",
    "        Employee.__init__(self,emp_id,name,salary,department,\"Manager\",contact,gender)\n",
    "        self.num_of_subordinates = num_of_subordinates\n",
    "        \n",
    "    def display_emp_details(self):\n",
    "        Employee.display_emp_details(self)\n",
    "        print(\"SUBORDINATES\",self.num_of_subordinates)"
   ]
  },
  {
   "cell_type": "code",
   "execution_count": 132,
   "id": "21c890fd",
   "metadata": {},
   "outputs": [],
   "source": [
    "bharat = Manager(1,\"Bharat\",\"20LPA\",\"Product\",\"34525235\",\"M\",10)"
   ]
  },
  {
   "cell_type": "code",
   "execution_count": 133,
   "id": "21f66d70",
   "metadata": {},
   "outputs": [
    {
     "name": "stdout",
     "output_type": "stream",
     "text": [
      "EMP_ID:1\n",
      "NAME:Bharat\n",
      "SALARY:20LPA\n",
      "DEPARTMENT:Product\n",
      "DESIGNATION:Manager\n",
      "CONTACT:34525235\n",
      "GENDER:M\n",
      "SUBORDINATES 10\n"
     ]
    }
   ],
   "source": [
    "bharat.display_emp_details()"
   ]
  },
  {
   "cell_type": "code",
   "execution_count": 134,
   "id": "c7a9ddf7",
   "metadata": {},
   "outputs": [],
   "source": [
    "shubham = Employee(1,\"Shubham\",\"12LPA\",\"Product\",\"SDE1\",\"2348458234\",\"M\")"
   ]
  },
  {
   "cell_type": "code",
   "execution_count": 135,
   "id": "805d633f",
   "metadata": {},
   "outputs": [
    {
     "name": "stdout",
     "output_type": "stream",
     "text": [
      "EMP_ID:1\n",
      "NAME:Shubham\n",
      "SALARY:12LPA\n",
      "DEPARTMENT:Product\n",
      "DESIGNATION:SDE1\n",
      "CONTACT:2348458234\n",
      "GENDER:M\n"
     ]
    }
   ],
   "source": [
    "shubham.display_emp_details()"
   ]
  },
  {
   "cell_type": "code",
   "execution_count": 136,
   "id": "13b4a804",
   "metadata": {},
   "outputs": [],
   "source": [
    "namratha = Employee(2,\"Namrata\",\"12LPA\",\"Product\",\"SDE1\",\"214152535345\",\"F\")"
   ]
  },
  {
   "cell_type": "code",
   "execution_count": 137,
   "id": "9e651522",
   "metadata": {},
   "outputs": [
    {
     "name": "stdout",
     "output_type": "stream",
     "text": [
      "EMP_ID:2\n",
      "NAME:Namrata\n",
      "SALARY:12LPA\n",
      "DEPARTMENT:Product\n",
      "DESIGNATION:SDE1\n",
      "CONTACT:214152535345\n",
      "GENDER:F\n"
     ]
    }
   ],
   "source": [
    "namratha.display_emp_details()"
   ]
  },
  {
   "cell_type": "code",
   "execution_count": 150,
   "id": "26e9362d",
   "metadata": {},
   "outputs": [],
   "source": [
    "class CityRecord():\n",
    "    colony_no = 0\n",
    "    def __init__(record,colony_name,population_of_colony):\n",
    "        record.colony_name = colony_name\n",
    "        record.population_of_colony = population_of_colony\n",
    "        \n",
    "        CityRecord.colony_no += 1\n",
    "        \n",
    "        \n",
    "        \n",
    "    def DiplayCityRecord(record):\n",
    "        print(\"Colany Name = {} \\nColony_Population = {} \\nColony no = {}\".format(record.colony_name,record.population_of_colony,CityRecord.colony_no))\n",
    "    "
   ]
  },
  {
   "cell_type": "code",
   "execution_count": 151,
   "id": "f3aa2405",
   "metadata": {},
   "outputs": [],
   "source": [
    "class village(CityRecord):\n",
    "    def __init__(record,colony_name,population_of_colony,village_name):\n",
    "        CityRecord.__init__(record,colony_name,population_of_colony)\n",
    "        record.village_name = village_name\n",
    "        \n",
    "        \n",
    "    def DiplayCityRecord(record):\n",
    "        print(\"Colany Name = {} \\nColony_Population = {} \\nColony no = {} \\nVillage Name = {}\".format(record.colony_name,record.population_of_colony,CityRecord.colony_no,record.village_name))\n"
   ]
  },
  {
   "cell_type": "code",
   "execution_count": 152,
   "id": "fc86ac5f",
   "metadata": {},
   "outputs": [],
   "source": [
    "Shivar=village(\"patilpura\",1000,\"Shivar\")"
   ]
  },
  {
   "cell_type": "code",
   "execution_count": 153,
   "id": "6285a3d2",
   "metadata": {},
   "outputs": [
    {
     "data": {
      "text/plain": [
       "DeprecationWarning(<__main__.village at 0x1755dfebd90>)"
      ]
     },
     "execution_count": 153,
     "metadata": {},
     "output_type": "execute_result"
    }
   ],
   "source": [
    "DeprecationWarning(Shivar)"
   ]
  },
  {
   "cell_type": "code",
   "execution_count": 154,
   "id": "ca0ba0b2",
   "metadata": {},
   "outputs": [
    {
     "name": "stdout",
     "output_type": "stream",
     "text": [
      "Colany Name = patilpura \n",
      "Colony_Population = 1000 \n",
      "Colony no = 1 \n",
      "Village Name = Shivar\n"
     ]
    }
   ],
   "source": [
    "Shivar.DiplayCityRecord()"
   ]
  },
  {
   "cell_type": "code",
   "execution_count": 155,
   "id": "2a70ace5",
   "metadata": {},
   "outputs": [],
   "source": [
    "daryapur=CityRecord(\"Gandhi Nagar\",7000)"
   ]
  },
  {
   "cell_type": "code",
   "execution_count": 156,
   "id": "8986b5e1",
   "metadata": {},
   "outputs": [
    {
     "name": "stdout",
     "output_type": "stream",
     "text": [
      "Colany Name = Gandhi Nagar \n",
      "Colony_Population = 7000 \n",
      "Colony no = 2\n"
     ]
    }
   ],
   "source": [
    "daryapur.DiplayCityRecord()"
   ]
  },
  {
   "cell_type": "code",
   "execution_count": 157,
   "id": "fab60fec",
   "metadata": {},
   "outputs": [],
   "source": [
    "dhamodi=village(\"Ram Nagar\",5000,\"DHAMODI\")                  "
   ]
  },
  {
   "cell_type": "code",
   "execution_count": 158,
   "id": "1cbbc40f",
   "metadata": {},
   "outputs": [
    {
     "name": "stdout",
     "output_type": "stream",
     "text": [
      "Colany Name = Ram Nagar \n",
      "Colony_Population = 5000 \n",
      "Colony no = 3 \n",
      "Village Name = DHAMODI\n"
     ]
    }
   ],
   "source": [
    "dhamodi.DiplayCityRecord()"
   ]
  },
  {
   "cell_type": "code",
   "execution_count": 159,
   "id": "1ee9eb76",
   "metadata": {},
   "outputs": [
    {
     "name": "stdout",
     "output_type": "stream",
     "text": [
      "Colany Name = Ram Nagar \n",
      "Colony_Population = 5000 \n",
      "Colony no = 3 \n",
      "Village Name = DHAMODI\n"
     ]
    }
   ],
   "source": [
    "dhamodi.DiplayCityRecord()"
   ]
  },
  {
   "cell_type": "code",
   "execution_count": null,
   "id": "0ad3ddbf",
   "metadata": {},
   "outputs": [],
   "source": [
    "class A:\n",
    "    def _init__(self,A):\n",
    "        self.A = A\n",
    "    def Dp(self):\n",
    "        print(\"i am \",self.A)\n",
    "\n",
    "class B:\n",
    "    def _init__(self,B):\n",
    "        self.B=B\n",
    "    def Dp(self):\n",
    "        print(\"i am \",self.B)   \n",
    "\n",
    "class C:\n",
    "    def _init__(self,C):\n",
    "        self.C=C\n",
    "    def Dp(self):\n",
    "        print(\"i am \",self.C)  \n",
    "\n",
    "class D(A,B,C):\n",
    "    def _init__(self,CBA):\n",
    "        self.CBA=CBA\n",
    "    def Dp(self):\n",
    "        print(\"i am \",self.CBA)"
   ]
  },
  {
   "cell_type": "code",
   "execution_count": null,
   "id": "05e15ac1",
   "metadata": {},
   "outputs": [],
   "source": [
    "We want to create Point Class which takes in two values:\n",
    "x_coordinate\n",
    "y_coordinte\n",
    "\n",
    "* => dot product\n",
    "\n",
    "point_1 = Point(2,3)\n",
    "point_2 = Point(4,6)\n",
    "\n",
    "point_1*point_2 = (x1i +y1j).(x2i + y2j)"
   ]
  },
  {
   "cell_type": "code",
   "execution_count": 8,
   "id": "1a385705",
   "metadata": {},
   "outputs": [],
   "source": [
    "class Point:\n",
    "    \n",
    "    def __init__(self,x,y):\n",
    "        self.x = x\n",
    "        self.y = y\n",
    "    \n",
    "    def __repr__(self):\n",
    "        return \"({},{})\".format(self.x,self.y)\n",
    "    \n",
    "    def __mul__(self,other):\n",
    "        return self.x*other.x +self.y*other.y"
   ]
  },
  {
   "cell_type": "code",
   "execution_count": null,
   "id": "a5483078",
   "metadata": {},
   "outputs": [],
   "source": []
  },
  {
   "cell_type": "code",
   "execution_count": 9,
   "id": "cfdb94b0",
   "metadata": {},
   "outputs": [],
   "source": [
    "point_1 = Point(2,3)\n",
    "point_2 = Point(3,4)"
   ]
  },
  {
   "cell_type": "code",
   "execution_count": 12,
   "id": "09c8694f",
   "metadata": {},
   "outputs": [
    {
     "data": {
      "text/plain": [
       "(2,3)"
      ]
     },
     "execution_count": 12,
     "metadata": {},
     "output_type": "execute_result"
    }
   ],
   "source": [
    "point_1"
   ]
  },
  {
   "cell_type": "code",
   "execution_count": 10,
   "id": "d7c6fed4",
   "metadata": {},
   "outputs": [
    {
     "data": {
      "text/plain": [
       "18"
      ]
     },
     "execution_count": 10,
     "metadata": {},
     "output_type": "execute_result"
    }
   ],
   "source": [
    "point_1*point_2"
   ]
  },
  {
   "cell_type": "code",
   "execution_count": 4,
   "id": "b5f07a41",
   "metadata": {},
   "outputs": [],
   "source": [
    "class Spoint:\n",
    "    def __init__(self,point_1,point_2):\n",
    "        self.point_1 = point_1\n",
    "        self.point_2 = point_2\n",
    "        \n",
    "    def __repr__(self):\n",
    "        return \"point  ={} {}\".format(self.point_1,self.point_2)\n",
    "    \n",
    "    def __mul__(self,other):\n",
    "        return self.point_1*other.point_1+self.point_2*other.point_2"
   ]
  },
  {
   "cell_type": "code",
   "execution_count": 5,
   "id": "b5e89f24",
   "metadata": {},
   "outputs": [],
   "source": [
    "x=Spoint(2,3)\n",
    "y=Spoint(3,4)"
   ]
  },
  {
   "cell_type": "code",
   "execution_count": 6,
   "id": "0ed9fdf2",
   "metadata": {},
   "outputs": [
    {
     "data": {
      "text/plain": [
       "18"
      ]
     },
     "execution_count": 6,
     "metadata": {},
     "output_type": "execute_result"
    }
   ],
   "source": [
    "x*y"
   ]
  },
  {
   "cell_type": "code",
   "execution_count": 19,
   "id": "75019b54",
   "metadata": {},
   "outputs": [],
   "source": []
  },
  {
   "cell_type": "code",
   "execution_count": null,
   "id": "8fc57c84",
   "metadata": {},
   "outputs": [],
   "source": []
  }
 ],
 "metadata": {
  "kernelspec": {
   "display_name": "Python 3 (ipykernel)",
   "language": "python",
   "name": "python3"
  },
  "language_info": {
   "codemirror_mode": {
    "name": "ipython",
    "version": 3
   },
   "file_extension": ".py",
   "mimetype": "text/x-python",
   "name": "python",
   "nbconvert_exporter": "python",
   "pygments_lexer": "ipython3",
   "version": "3.9.13"
  }
 },
 "nbformat": 4,
 "nbformat_minor": 5
}

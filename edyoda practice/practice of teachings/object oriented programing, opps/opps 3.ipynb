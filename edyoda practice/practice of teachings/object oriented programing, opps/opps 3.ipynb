{
 "cells": [
  {
   "cell_type": "code",
   "execution_count": 30,
   "id": "ddd82e0f",
   "metadata": {},
   "outputs": [],
   "source": [
    "class EdyodaInstitute:\n",
    "    student_no = 0 \n",
    "    def __init__(student,student_name,institute_name):\n",
    "        EdyodaInstitute.student_no +=1\n",
    "        student.student_id = EdyodaInstitute.student_no\n",
    "        student.student_name=student_name\n",
    "        student.institute_name=institute_name\n",
    "        \n",
    "    def Display_student_details(student):\n",
    "        print(\"student_id = {} \\nstudent_name ={} \\ninstitute_name = {}\".format(student.student_id,student.student_name,student.institute_name))\n",
    "        "
   ]
  },
  {
   "cell_type": "code",
   "execution_count": 22,
   "id": "c2877647",
   "metadata": {},
   "outputs": [],
   "source": [
    "gaurav=EdyodaInstitute(\"gaurav\",\"edyoda\")"
   ]
  },
  {
   "cell_type": "code",
   "execution_count": 23,
   "id": "a2736416",
   "metadata": {},
   "outputs": [
    {
     "name": "stdout",
     "output_type": "stream",
     "text": [
      "student_id = 1 \n",
      "student_name =gaurav \n",
      "institute_name = edyoda\n"
     ]
    }
   ],
   "source": [
    "gaurav.Display_student_details()"
   ]
  },
  {
   "cell_type": "code",
   "execution_count": 24,
   "id": "b9813a0f",
   "metadata": {},
   "outputs": [],
   "source": [
    "savrav=EdyodaInstitute(\"savrav\",\"udemy\")"
   ]
  },
  {
   "cell_type": "code",
   "execution_count": 25,
   "id": "fc860efb",
   "metadata": {},
   "outputs": [
    {
     "name": "stdout",
     "output_type": "stream",
     "text": [
      "student_id = 2 \n",
      "student_name =savrav \n",
      "institute_name = udemy\n"
     ]
    }
   ],
   "source": [
    "savrav.Display_student_details()"
   ]
  },
  {
   "cell_type": "code",
   "execution_count": null,
   "id": "ff1991f8",
   "metadata": {},
   "outputs": [],
   "source": []
  },
  {
   "cell_type": "code",
   "execution_count": 40,
   "id": "190f3165",
   "metadata": {},
   "outputs": [],
   "source": [
    "class Mother:\n",
    "    def __init__(self):\n",
    "        self.mother_name = mother_name\n",
    "\n",
    "class Father:\n",
    "    def __init__(self):\n",
    "        self.father_name = father_name\n",
    "\n",
    "class Child(Mother, Father):\n",
    "    def __init__(self):\n",
    "        Mother.__init__(self)\n",
    "        Father.__init__(self)\n",
    "        self.child_name = child_name\n",
    "    def DisplaayChildDetails(self):\n",
    "        print(\"Name of Child = {}  \\nName of Mother = {} \\nName of Mother\". format(self.child_name,self.father_name,self.mother_name))"
   ]
  },
  {
   "cell_type": "code",
   "execution_count": 51,
   "id": "b86d8aa8",
   "metadata": {},
   "outputs": [
    {
     "ename": "TypeError",
     "evalue": "__init__() takes 1 positional argument but 3 were given",
     "output_type": "error",
     "traceback": [
      "\u001b[1;31m---------------------------------------------------------------------------\u001b[0m",
      "\u001b[1;31mTypeError\u001b[0m                                 Traceback (most recent call last)",
      "\u001b[1;32m~\\AppData\\Local\\Temp\\ipykernel_8816\\2292242547.py\u001b[0m in \u001b[0;36m<module>\u001b[1;34m\u001b[0m\n\u001b[1;32m----> 1\u001b[1;33m \u001b[0mChild\u001b[0m\u001b[1;33m(\u001b[0m\u001b[1;34m\"Raj\"\u001b[0m\u001b[1;33m,\u001b[0m\u001b[1;34m\"Rani\"\u001b[0m\u001b[1;33m)\u001b[0m\u001b[1;33m\u001b[0m\u001b[1;33m\u001b[0m\u001b[0m\n\u001b[0m",
      "\u001b[1;31mTypeError\u001b[0m: __init__() takes 1 positional argument but 3 were given"
     ]
    }
   ],
   "source": []
  },
  {
   "cell_type": "code",
   "execution_count": 27,
   "id": "de91f896",
   "metadata": {},
   "outputs": [
    {
     "name": "stdout",
     "output_type": "stream",
     "text": [
      "Making sound...\n"
     ]
    }
   ],
   "source": [
    "#Mix-in classes: A class that is used to add specific functionality to multiple classes. For example:\n",
    "#ruby\n",
    "\n",
    "class SoundMaker:\n",
    "    def make_sound(self):\n",
    "        print('Making sound...')\n",
    "\n",
    "class Animal:\n",
    "    def __init__(self, name):\n",
    "        self.name = name\n",
    "\n",
    "class Dog(Animal, SoundMaker):\n",
    "    def __init__(self, name):\n",
    "        Animal.__init__(self, name)\n",
    "\n",
    "dog = Dog('Fido')\n",
    "dog.make_sound()  # Output: Making sound..."
   ]
  },
  {
   "cell_type": "code",
   "execution_count": 28,
   "id": "068d4b59",
   "metadata": {},
   "outputs": [
    {
     "name": "stdout",
     "output_type": "stream",
     "text": [
      "method of class B\n"
     ]
    }
   ],
   "source": [
    "#Diamond inheritance: A situation where a class inherits from two classes that have a common base class. For example:\n",
    "#python\n",
    "class A:\n",
    "    def method(self):\n",
    "        print('method of class A')\n",
    "\n",
    "class B(A):\n",
    "    def method(self):\n",
    "        print('method of class B')\n",
    "\n",
    "class C(A):\n",
    "    def method(self):\n",
    "        print('method of class C')\n",
    "\n",
    "class D(B, C):\n",
    "    pass\n",
    "\n",
    "d = D()\n",
    "d.method()  # Output: method of class B"
   ]
  },
  {
   "cell_type": "code",
   "execution_count": 33,
   "id": "dce0e601",
   "metadata": {},
   "outputs": [
    {
     "name": "stdout",
     "output_type": "stream",
     "text": [
      "Woof!\n"
     ]
    }
   ],
   "source": [
    "class Animal:\n",
    "    def __init__(self, name):\n",
    "        self.name = name\n",
    "\n",
    "    def make_sound(self):\n",
    "        print(\"Some animal sounds\")\n",
    "\n",
    "class Dog(Animal):\n",
    "    def make_sound(self):\n",
    "        print(\"Woof!\")\n",
    "\n",
    "class Robot:\n",
    "    def __init__(self, name):\n",
    "        self.name = name\n",
    "\n",
    "    def make_sound(self):\n",
    "        print(\"Beep boop\")\n",
    "\n",
    "class RobotDog(Dog, Robot):\n",
    "    pass\n",
    "\n",
    "robot_dog = RobotDog(\"Aibo\")\n",
    "robot_dog.make_sound() # Output: Woof!\n",
    "#In this example, the RobotDog class is a hybrid class that inherits from both the Dog and Robot classes. The RobotDog class has the same attributes and methods as both of its parent classes, including the name and make_sound methods.\n",
    "#However, since the RobotDog class defines the make_sound method, the method of the Dog class is used, rather than the method of the Robot class. This is due to the method resolution order, which determines the order in which classes are searched for a method. In this case, the Dog class is searched first, and its implementation of the make_sound method is used.\n"
   ]
  },
  {
   "cell_type": "code",
   "execution_count": 52,
   "id": "46b29de2",
   "metadata": {},
   "outputs": [
    {
     "name": "stdout",
     "output_type": "stream",
     "text": [
      "900\n",
      "Overdraft limit reached\n",
      "500\n",
      "Overdraft limit reached\n",
      "500\n"
     ]
    }
   ],
   "source": [
    "class BankAccount:\n",
    "    def __init__(self, name, balance):\n",
    "        self.name = name\n",
    "        self._balance = balance\n",
    "\n",
    "    def deposit(self, amount):\n",
    "        self._balance += amount\n",
    "\n",
    "    def withdraw(self, amount):\n",
    "        if self._balance - amount >= 0:\n",
    "            self._balance -= amount\n",
    "        else:\n",
    "            print(\"Insufficient funds\")\n",
    "\n",
    "class CheckingAccount(BankAccount):\n",
    "    def __init__(self, name, balance, overdraft_limit):\n",
    "        super().__init__(name, balance)\n",
    "        self.overdraft_limit = overdraft_limit\n",
    "\n",
    "    def withdraw(self, amount):\n",
    "        if self._balance - amount >= -self.overdraft_limit:\n",
    "            self._balance -= amount\n",
    "        else:\n",
    "            print(\"Overdraft limit reached\")\n",
    "\n",
    "account = BankAccount(\"John Doe\", 1000)\n",
    "checking_account = CheckingAccount(\"Jane Doe\", 500, -500)\n",
    "\n",
    "account.withdraw(100)\n",
    "print(account._balance) # Output: 900\n",
    "\n",
    "checking_account.withdraw(600)\n",
    "print(checking_account._balance) # Output: -100\n",
    "\n",
    "checking_account.withdraw(400)\n",
    "print(checking_account._balance) # Output: -500\n",
    "#In this example, we have two classes: BankAccount and CheckingAccount. BankAccount is a simple bank account class that has a name, balance, deposit, and withdraw method. The balance attribute is marked as private with a leading underscore (e.g. _balance) to indicate that it should not be accessed directly from outside the class.\n",
    "#The CheckingAccount class is a subclass of BankAccount and represents a checking account. It has an additional attribute overdraft_limit that represents the maximum amount that the account can be overdrawn. The withdraw method in the CheckingAccount class is an override of the withdraw method in the BankAccount class, and it checks if the balance would go below the overdraft limit before allowing a withdrawal.\n",
    "#We then create an instance of the BankAccount class account and an instance of the CheckingAccount class checking_account. We can see that the withdraw method works differently for each class, as described by their respective implementations."
   ]
  },
  {
   "cell_type": "code",
   "execution_count": 53,
   "id": "f420292a",
   "metadata": {},
   "outputs": [],
   "source": [
    "class Lion:\n",
    "    habitat = \"savannah\"\n",
    "    def __init__(self):\n",
    "        self.habitat = \"savannah\"\n",
    "        self.weight = \"150kg\"\n",
    "        \n",
    "    def print_details(self):\n",
    "        print(\"Lion Weight = \",self.weight)\n",
    "class Tiger:\n",
    "    def __init__(self):\n",
    "        self.habitat = \"sundarban\"\n",
    "        self.weight = \"120kg\"\n",
    "    \n",
    "    def print_details(self):\n",
    "        print(\"Tiger Weight = \",self.weight)\n",
    "        \n",
    "class Liger_Super(Lion,Tiger):\n",
    "    def __init__(self,):\n",
    "        Lion.__init__(self)\n",
    "        Tiger.__init__(self)\n",
    "        self.weight = \"240kg\"\n",
    "        \n",
    "    def print_details(self):\n",
    "        print(\"Liger weight: \",self.weight)\n",
    "        print(\"Liger Habitat: \",self.habitat)\n",
    "        \n",
    "class Liger_Medium(Liger_Super):\n",
    "    def __init__(self):\n",
    "        self.weight = \"135kg\"\n",
    "        \n",
    "class Liger_Small_Cat(Liger_Medium):\n",
    "    def __init__(self):\n",
    "        self.weight = \"50kg\""
   ]
  },
  {
   "cell_type": "code",
   "execution_count": 54,
   "id": "a3f3afa8",
   "metadata": {},
   "outputs": [],
   "source": [
    "liger_super = Liger_Super()"
   ]
  },
  {
   "cell_type": "code",
   "execution_count": 55,
   "id": "7016fda2",
   "metadata": {},
   "outputs": [
    {
     "name": "stdout",
     "output_type": "stream",
     "text": [
      "Liger weight:  240kg\n",
      "Liger Habitat:  sundarban\n"
     ]
    }
   ],
   "source": [
    "liger_super.print_details()"
   ]
  },
  {
   "cell_type": "code",
   "execution_count": 1,
   "id": "3435a96f",
   "metadata": {},
   "outputs": [],
   "source": [
    "class A:\n",
    "    def __init__(self,A):\n",
    "        self.A = A\n",
    "    def Dp(self):\n",
    "        print(\"i am \",self.A)\n",
    "\n",
    "class B:\n",
    "    def __init__(self,B):\n",
    "        self.B=B\n",
    "    def Dp(self):\n",
    "        print(\"i am \",self.B)   \n",
    "\n",
    "class C:\n",
    "    def __init__(self,C):\n",
    "        self.C=C\n",
    "    def Dp(self):\n",
    "        print(\"i am \",self.C)  \n",
    "\n",
    "class D(A,B,C):\n",
    "    def __init__(self,CBA):\n",
    "        self.CBA=CBA\n",
    "    def Dp(self):\n",
    "        print(\"i am \",self.CBA)\n",
    "        "
   ]
  },
  {
   "cell_type": "code",
   "execution_count": null,
   "id": "71b18b01",
   "metadata": {},
   "outputs": [],
   "source": []
  },
  {
   "cell_type": "code",
   "execution_count": 3,
   "id": "4b716885",
   "metadata": {},
   "outputs": [
    {
     "name": "stdout",
     "output_type": "stream",
     "text": [
      "i am  CBA value\n"
     ]
    }
   ],
   "source": [
    "d = D(\"CBA value\")\n",
    "d.Dp()"
   ]
  },
  {
   "cell_type": "code",
   "execution_count": 34,
   "id": "d1ade101",
   "metadata": {},
   "outputs": [],
   "source": [
    "gaurav=EdyodaInstitute(\"gaurav\",\"edyoda\")"
   ]
  },
  {
   "cell_type": "code",
   "execution_count": 5,
   "id": "7a9d7087",
   "metadata": {},
   "outputs": [],
   "source": [
    "class GFG:\n",
    "   \n",
    "    def __init__(self, item):\n",
    "        self.item = item\n",
    "    def __len__(self):\n",
    "        return len(self.item) "
   ]
  },
  {
   "cell_type": "code",
   "execution_count": 6,
   "id": "ffc3c18b",
   "metadata": {},
   "outputs": [],
   "source": [
    "obj = GFG(\"Geeksforgeeks\")"
   ]
  },
  {
   "cell_type": "code",
   "execution_count": 7,
   "id": "5ad64943",
   "metadata": {},
   "outputs": [
    {
     "name": "stdout",
     "output_type": "stream",
     "text": [
      "13\n"
     ]
    }
   ],
   "source": [
    "print(obj.__len__())"
   ]
  },
  {
   "cell_type": "code",
   "execution_count": 12,
   "id": "5191f415",
   "metadata": {},
   "outputs": [
    {
     "ename": "NameError",
     "evalue": "name 'function' is not defined",
     "output_type": "error",
     "traceback": [
      "\u001b[1;31m---------------------------------------------------------------------------\u001b[0m",
      "\u001b[1;31mNameError\u001b[0m                                 Traceback (most recent call last)",
      "\u001b[1;32m~\\AppData\\Local\\Temp\\ipykernel_6256\\3283833018.py\u001b[0m in \u001b[0;36m<module>\u001b[1;34m\u001b[0m\n\u001b[1;32m----> 1\u001b[1;33m \u001b[0mhelp\u001b[0m\u001b[1;33m(\u001b[0m\u001b[0mfunction\u001b[0m\u001b[1;33m)\u001b[0m\u001b[1;33m\u001b[0m\u001b[1;33m\u001b[0m\u001b[0m\n\u001b[0m",
      "\u001b[1;31mNameError\u001b[0m: name 'function' is not defined"
     ]
    }
   ],
   "source": [
    "help(function)"
   ]
  },
  {
   "cell_type": "code",
   "execution_count": null,
   "id": "cd26e674",
   "metadata": {},
   "outputs": [],
   "source": []
  }
 ],
 "metadata": {
  "kernelspec": {
   "display_name": "Python 3 (ipykernel)",
   "language": "python",
   "name": "python3"
  },
  "language_info": {
   "codemirror_mode": {
    "name": "ipython",
    "version": 3
   },
   "file_extension": ".py",
   "mimetype": "text/x-python",
   "name": "python",
   "nbconvert_exporter": "python",
   "pygments_lexer": "ipython3",
   "version": "3.9.13"
  }
 },
 "nbformat": 4,
 "nbformat_minor": 5
}

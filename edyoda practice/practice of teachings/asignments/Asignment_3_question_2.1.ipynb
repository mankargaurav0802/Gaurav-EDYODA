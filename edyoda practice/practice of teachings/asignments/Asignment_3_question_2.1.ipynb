{
 "cells": [
  {
   "cell_type": "code",
   "execution_count": null,
   "id": "5aad5fbe",
   "metadata": {},
   "outputs": [],
   "source": [
    "#Sample String : \"1234abcd\"\n",
    "\n",
    "#Expected Output : \"dcba4321\""
   ]
  },
  {
   "cell_type": "code",
   "execution_count": null,
   "id": "3bdcb378",
   "metadata": {},
   "outputs": [],
   "source": []
  },
  {
   "cell_type": "code",
   "execution_count": 2,
   "id": "cfd373cb",
   "metadata": {},
   "outputs": [],
   "source": [
    "def reverse_string(sample):\n",
    "    sample_string=sample[::-1]\n",
    "    return sample_string"
   ]
  },
  {
   "cell_type": "code",
   "execution_count": 3,
   "id": "63449411",
   "metadata": {},
   "outputs": [
    {
     "data": {
      "text/plain": [
       "'dcba4321'"
      ]
     },
     "execution_count": 3,
     "metadata": {},
     "output_type": "execute_result"
    }
   ],
   "source": [
    "reverse_string(\"1234abcd\")"
   ]
  },
  {
   "cell_type": "code",
   "execution_count": 6,
   "id": "fbe6359d",
   "metadata": {},
   "outputs": [],
   "source": [
    "a=\"gaurav\""
   ]
  },
  {
   "cell_type": "code",
   "execution_count": 7,
   "id": "bb726342",
   "metadata": {},
   "outputs": [
    {
     "name": "stdout",
     "output_type": "stream",
     "text": [
      "a\n"
     ]
    },
    {
     "data": {
      "text/plain": [
       "'varuag'"
      ]
     },
     "execution_count": 7,
     "metadata": {},
     "output_type": "execute_result"
    }
   ],
   "source": [
    "sample=eval(input())\n",
    "reverse_string(sample)"
   ]
  },
  {
   "cell_type": "code",
   "execution_count": null,
   "id": "a4d824bc",
   "metadata": {},
   "outputs": [],
   "source": []
  }
 ],
 "metadata": {
  "kernelspec": {
   "display_name": "Python 3 (ipykernel)",
   "language": "python",
   "name": "python3"
  },
  "language_info": {
   "codemirror_mode": {
    "name": "ipython",
    "version": 3
   },
   "file_extension": ".py",
   "mimetype": "text/x-python",
   "name": "python",
   "nbconvert_exporter": "python",
   "pygments_lexer": "ipython3",
   "version": "3.9.13"
  }
 },
 "nbformat": 4,
 "nbformat_minor": 5
}

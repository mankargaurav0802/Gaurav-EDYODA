{
 "cells": [
  {
   "cell_type": "code",
   "execution_count": 12,
   "id": "b298a5fe",
   "metadata": {},
   "outputs": [],
   "source": [
    "def string_word(s):\n",
    "    upper_count=0\n",
    "    lower_count=0\n",
    "    for char in s:\n",
    "        if char.isupper():\n",
    "          upper_count+=1\n",
    "        elif char.islower():\n",
    "          lower_count+=1\n",
    "    print(\"no of upper_case characters:\",upper_count)\n",
    "    print(\"no of lower_case characters:\",lower_count)"
   ]
  },
  {
   "cell_type": "code",
   "execution_count": 13,
   "id": "bdf635f6",
   "metadata": {},
   "outputs": [],
   "source": [
    "s='The quick Brow Fox'"
   ]
  },
  {
   "cell_type": "code",
   "execution_count": null,
   "id": "6f835498",
   "metadata": {},
   "outputs": [],
   "source": []
  },
  {
   "cell_type": "code",
   "execution_count": 15,
   "id": "793bebdf",
   "metadata": {},
   "outputs": [
    {
     "name": "stdout",
     "output_type": "stream",
     "text": [
      "no of upper_case characters: 3\n",
      "no of lower_case characters: 12\n"
     ]
    }
   ],
   "source": [
    "string_word(s)"
   ]
  },
  {
   "cell_type": "code",
   "execution_count": 8,
   "id": "9b8fbb51",
   "metadata": {},
   "outputs": [],
   "source": [
    "def count_cases1(sample):\n",
    "    upper_case_in_str = 0\n",
    "    lower_case_in_str = 0\n",
    "    for count in sample:\n",
    "        if count.isupper():\n",
    "            upper_case_in_str += 1\n",
    "        elif count.islower():\n",
    "            lower_case_in_str += 1"
   ]
  },
  {
   "cell_type": "code",
   "execution_count": null,
   "id": "a57c44bb",
   "metadata": {},
   "outputs": [],
   "source": []
  }
 ],
 "metadata": {
  "kernelspec": {
   "display_name": "Python 3 (ipykernel)",
   "language": "python",
   "name": "python3"
  },
  "language_info": {
   "codemirror_mode": {
    "name": "ipython",
    "version": 3
   },
   "file_extension": ".py",
   "mimetype": "text/x-python",
   "name": "python",
   "nbconvert_exporter": "python",
   "pygments_lexer": "ipython3",
   "version": "3.9.13"
  }
 },
 "nbformat": 4,
 "nbformat_minor": 5
}

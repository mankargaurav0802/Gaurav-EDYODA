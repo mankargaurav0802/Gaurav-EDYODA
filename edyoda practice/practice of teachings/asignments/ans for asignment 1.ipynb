{
 "cells": [
  {
   "cell_type": "code",
   "execution_count": 3,
   "id": "748a3b61",
   "metadata": {},
   "outputs": [
    {
     "name": "stdout",
     "output_type": "stream",
     "text": [
      "Enter the fibonacci series:10\n",
      "Fibonacci serie :  0 11 2 3 5 8 13 21 34 \n"
     ]
    }
   ],
   "source": [
    "#The Fibonacci Sequence is the series of numbers :\n"
   ]
  },
  {
   "cell_type": "code",
   "execution_count": null,
   "id": "b4d46ccb",
   "metadata": {},
   "outputs": [],
   "source": []
  },
  {
   "cell_type": "code",
   "execution_count": 5,
   "id": "3d5dced7",
   "metadata": {},
   "outputs": [
    {
     "name": "stdout",
     "output_type": "stream",
     "text": [
      "Enter the fibonacci series:50\n",
      "Fibonacci serie :  0 1 1 2 3 5 8 13 21 34 55 89 144 233 377 610 987 1597 2584 4181 6765 10946 17711 28657 46368 75025 121393 196418 317811 514229 832040 1346269 2178309 3524578 5702887 9227465 14930352 24157817 39088169 63245986 102334155 165580141 267914296 433494437 701408733 1134903170 1836311903 2971215073 4807526976 7778742049 \n"
     ]
    }
   ],
   "source": [
    "n=int(input(\"Enter the fibonacci series:\"))\n",
    "n1,n2=0,1\n",
    "print(\"Fibonacci serie : \",n1, n2, end=\" \")\n",
    "for i in range (2,n):\n",
    "    n3 = n1 + n2; n1 = n2; n2 = n3; \n",
    "    print(n3,end =\" \")\n",
    "print()"
   ]
  },
  {
   "cell_type": "code",
   "execution_count": null,
   "id": "f8e96fd0",
   "metadata": {},
   "outputs": [],
   "source": []
  },
  {
   "cell_type": "code",
   "execution_count": null,
   "id": "6af14ebf",
   "metadata": {},
   "outputs": [],
   "source": [
    "\n"
   ]
  },
  {
   "cell_type": "code",
   "execution_count": 1,
   "id": "34fb2952",
   "metadata": {},
   "outputs": [
    {
     "name": "stdout",
     "output_type": "stream",
     "text": [
      "Enter the input series:1,2,3,4,5,6,7,8,9\n",
      "Number of even numbers :  4\n",
      "Number of odd numbers :  5\n"
     ]
    }
   ],
   "source": [
    "n=eval(input(\"Enter the input series:\"))\n",
    "count_even = 0\n",
    "count_odd = 0\n",
    "for num in n:\n",
    "        if num % 2==0:\n",
    "            count_even += 1\n",
    "        else: \n",
    "            count_odd += 1\n",
    "print(\"Number of even numbers : \",count_even)\n",
    "print(\"Number of odd numbers : \",count_odd)"
   ]
  },
  {
   "cell_type": "code",
   "execution_count": null,
   "id": "223ed57b",
   "metadata": {},
   "outputs": [],
   "source": []
  },
  {
   "cell_type": "code",
   "execution_count": null,
   "id": "0c955af8",
   "metadata": {},
   "outputs": [],
   "source": []
  },
  {
   "cell_type": "code",
   "execution_count": 4,
   "id": "c4fb0903",
   "metadata": {},
   "outputs": [
    {
     "name": "stdout",
     "output_type": "stream",
     "text": [
      "Entre The string:abcd\n",
      "The Original input: abcd\n",
      "The reverse output is: dcba\n"
     ]
    }
   ],
   "source": [
    "str =input(\"Entre The string:\")\n",
    "def reverse(str):\n",
    "    str1 = \"\"\n",
    "    for i in str:\n",
    "        str1 = i + str1\n",
    "    return str1\n",
    " \n",
    "print(\"The Original input: \",end=\"\")\n",
    "print(str)\n",
    "print(\"The reverse output is: \",end=\"\")\n",
    "print(reverse(str))"
   ]
  },
  {
   "cell_type": "code",
   "execution_count": null,
   "id": "fe0696aa",
   "metadata": {},
   "outputs": [],
   "source": []
  },
  {
   "cell_type": "code",
   "execution_count": null,
   "id": "0ae5421c",
   "metadata": {},
   "outputs": [],
   "source": []
  }
 ],
 "metadata": {
  "kernelspec": {
   "display_name": "Python 3 (ipykernel)",
   "language": "python",
   "name": "python3"
  },
  "language_info": {
   "codemirror_mode": {
    "name": "ipython",
    "version": 3
   },
   "file_extension": ".py",
   "mimetype": "text/x-python",
   "name": "python",
   "nbconvert_exporter": "python",
   "pygments_lexer": "ipython3",
   "version": "3.9.13"
  }
 },
 "nbformat": 4,
 "nbformat_minor": 5
}

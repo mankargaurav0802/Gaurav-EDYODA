{
 "cells": [
  {
   "cell_type": "code",
   "execution_count": 2,
   "id": "d9f18dbd",
   "metadata": {},
   "outputs": [
    {
     "name": "stdout",
     "output_type": "stream",
     "text": [
      "Entre The string:edyoda\n",
      "Given string: edyoda\n",
      "The reverse output is: adoyde\n"
     ]
    }
   ],
   "source": [
    "str =input(\"Entre The string:\")\n",
    "def reverse(str):\n",
    "    str1 = \"\"\n",
    "    for i in str:\n",
    "        str1 = i + str1\n",
    "    return str1\n",
    " \n",
    "print(\"Given string: \",end=\"\")\n",
    "print(str)\n",
    "print(\"The reverse output is: \",end=\"\")\n",
    "print(reverse(str))"
   ]
  },
  {
   "cell_type": "code",
   "execution_count": null,
   "id": "99f239db",
   "metadata": {},
   "outputs": [],
   "source": []
  },
  {
   "cell_type": "code",
   "execution_count": null,
   "id": "07872d6d",
   "metadata": {},
   "outputs": [],
   "source": []
  }
 ],
 "metadata": {
  "kernelspec": {
   "display_name": "Python 3 (ipykernel)",
   "language": "python",
   "name": "python3"
  },
  "language_info": {
   "codemirror_mode": {
    "name": "ipython",
    "version": 3
   },
   "file_extension": ".py",
   "mimetype": "text/x-python",
   "name": "python",
   "nbconvert_exporter": "python",
   "pygments_lexer": "ipython3",
   "version": "3.9.13"
  }
 },
 "nbformat": 4,
 "nbformat_minor": 5
}

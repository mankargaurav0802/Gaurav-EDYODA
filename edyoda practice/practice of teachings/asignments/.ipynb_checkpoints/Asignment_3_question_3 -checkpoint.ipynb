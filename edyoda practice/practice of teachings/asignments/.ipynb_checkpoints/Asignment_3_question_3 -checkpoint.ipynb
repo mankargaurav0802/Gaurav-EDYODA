{
 "cells": [
  {
   "cell_type": "code",
   "execution_count": 1,
   "id": "0df05777",
   "metadata": {},
   "outputs": [],
   "source": [
    "def count_cases1(s):\n",
    "    upper_case_in_str = 0\n",
    "    lower_case_in_str = 0\n",
    "    for c in s:\n",
    "        if c.isupper():\n",
    "            upper_case_in_str += 1\n",
    "        elif c.islower():\n",
    "            lower_case_in_str += 1\n",
    "    return (upper_case_in_str, lower_case_in_str)"
   ]
  },
  {
   "cell_type": "code",
   "execution_count": 5,
   "id": "25b57fa6",
   "metadata": {},
   "outputs": [],
   "source": [
    "a=\"i am STUDING at edyoda\""
   ]
  },
  {
   "cell_type": "code",
   "execution_count": 8,
   "id": "7d895dd0",
   "metadata": {},
   "outputs": [
    {
     "data": {
      "text/plain": [
       "(7, 11)"
      ]
     },
     "execution_count": 8,
     "metadata": {},
     "output_type": "execute_result"
    }
   ],
   "source": [
    "count_cases1(a)"
   ]
  },
  {
   "cell_type": "code",
   "execution_count": 9,
   "id": "aef9daac",
   "metadata": {},
   "outputs": [
    {
     "name": "stdout",
     "output_type": "stream",
     "text": [
      "a\n"
     ]
    },
    {
     "data": {
      "text/plain": [
       "(7, 11)"
      ]
     },
     "execution_count": 9,
     "metadata": {},
     "output_type": "execute_result"
    }
   ],
   "source": [
    "sample= eval(input())\n",
    "count_cases1(sample)"
   ]
  },
  {
   "cell_type": "code",
   "execution_count": null,
   "id": "e07df0b0",
   "metadata": {},
   "outputs": [],
   "source": []
  },
  {
   "cell_type": "code",
   "execution_count": null,
   "id": "f233a161",
   "metadata": {},
   "outputs": [],
   "source": []
  }
 ],
 "metadata": {
  "kernelspec": {
   "display_name": "Python 3 (ipykernel)",
   "language": "python",
   "name": "python3"
  },
  "language_info": {
   "codemirror_mode": {
    "name": "ipython",
    "version": 3
   },
   "file_extension": ".py",
   "mimetype": "text/x-python",
   "name": "python",
   "nbconvert_exporter": "python",
   "pygments_lexer": "ipython3",
   "version": "3.9.13"
  }
 },
 "nbformat": 4,
 "nbformat_minor": 5
}

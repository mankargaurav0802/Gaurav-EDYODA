{
 "cells": [
  {
   "cell_type": "code",
   "execution_count": 21,
   "id": "7f6c9f20",
   "metadata": {},
   "outputs": [],
   "source": [
    "#question 1\n",
    "Sample_List = [(2, 5), (1, 2), (4, 4), (2, 3), (2, 1)]"
   ]
  },
  {
   "cell_type": "code",
   "execution_count": 22,
   "id": "b3cb70a7",
   "metadata": {},
   "outputs": [
    {
     "data": {
      "text/plain": [
       "[(2, 1), (1, 2), (2, 3), (4, 4), (2, 5)]"
      ]
     },
     "execution_count": 22,
     "metadata": {},
     "output_type": "execute_result"
    }
   ],
   "source": [
    "sorted(Sample_List,key=lambda element:element[1])"
   ]
  },
  {
   "cell_type": "code",
   "execution_count": 23,
   "id": "58b0256a",
   "metadata": {},
   "outputs": [],
   "source": [
    "#Expected Result : [(2, 1), (1, 2), (2, 3), (4, 4), (2, 5)]"
   ]
  },
  {
   "cell_type": "code",
   "execution_count": null,
   "id": "7c92ae9d",
   "metadata": {},
   "outputs": [],
   "source": [
    "sample_list=[]\n",
    "while True:\n",
    "    tupple=input('Enter two numbers in the form of a,b:')\n",
    "    if tupple=='quit()':\n",
    "        break\n",
    "    a,b=tupple.split(',')\n",
    "    t=(int(a),int(b))\n",
    "    sample_list.append(t)\n",
    "print(sample_list)\n",
    "sample_list.sort(key=lambda x:x[1])\n",
    "print(sample_list)\n",
    "\n",
    "#Enter \"quit()\" once you done with providing inputs.\n"
   ]
  },
  {
   "cell_type": "code",
   "execution_count": null,
   "id": "52b40b52",
   "metadata": {},
   "outputs": [],
   "source": []
  },
  {
   "cell_type": "code",
   "execution_count": null,
   "id": "a9938ab7",
   "metadata": {},
   "outputs": [],
   "source": []
  }
 ],
 "metadata": {
  "kernelspec": {
   "display_name": "Python 3 (ipykernel)",
   "language": "python",
   "name": "python3"
  },
  "language_info": {
   "codemirror_mode": {
    "name": "ipython",
    "version": 3
   },
   "file_extension": ".py",
   "mimetype": "text/x-python",
   "name": "python",
   "nbconvert_exporter": "python",
   "pygments_lexer": "ipython3",
   "version": "3.9.13"
  }
 },
 "nbformat": 4,
 "nbformat_minor": 5
}

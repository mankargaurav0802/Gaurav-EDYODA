{
 "cells": [
  {
   "cell_type": "code",
   "execution_count": 1,
   "id": "a8385a83",
   "metadata": {},
   "outputs": [
    {
     "name": "stdout",
     "output_type": "stream",
     "text": [
      "Enter the input series:1,2,3,4,5,6,7,8,9\n",
      "Number of even numbers :  4\n",
      "Number of odd numbers :  5\n"
     ]
    }
   ],
   "source": [
    "n=eval(input(\"Enter the input series:\"))\n",
    "count_even = 0\n",
    "count_odd = 0\n",
    "for num in n:\n",
    "        if num % 2==0:\n",
    "            count_even += 1\n",
    "        else: \n",
    "            count_odd += 1\n",
    "print(\"Number of even numbers : \",count_even)\n",
    "print(\"Number of odd numbers : \",count_odd)"
   ]
  },
  {
   "cell_type": "code",
   "execution_count": null,
   "id": "f0848743",
   "metadata": {},
   "outputs": [],
   "source": []
  },
  {
   "cell_type": "code",
   "execution_count": null,
   "id": "5b6d9b3e",
   "metadata": {},
   "outputs": [],
   "source": []
  }
 ],
 "metadata": {
  "kernelspec": {
   "display_name": "Python 3 (ipykernel)",
   "language": "python",
   "name": "python3"
  },
  "language_info": {
   "codemirror_mode": {
    "name": "ipython",
    "version": 3
   },
   "file_extension": ".py",
   "mimetype": "text/x-python",
   "name": "python",
   "nbconvert_exporter": "python",
   "pygments_lexer": "ipython3",
   "version": "3.9.13"
  }
 },
 "nbformat": 4,
 "nbformat_minor": 5
}

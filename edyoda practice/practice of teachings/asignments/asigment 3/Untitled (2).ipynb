{
 "cells": [
  {
   "cell_type": "code",
   "execution_count": 11,
   "id": "c903678e",
   "metadata": {},
   "outputs": [],
   "source": [
    "def count_cases1(sample):\n",
    "    upper_case_in_str = 0\n",
    "    lower_case_in_str = 0\n",
    "    for count in sample:\n",
    "        if count.isupper():\n",
    "            upper_case_in_str += 1\n",
    "        elif count.islower():\n",
    "            lower_case_in_str += 1\n",
    "    print(\"No. of Upper case characters : \" ,upper_case_in_str)\n",
    "    print(\"No. of Lower case Characters : \" ,lower_case_in_str)"
   ]
  },
  {
   "cell_type": "code",
   "execution_count": 12,
   "id": "3621292d",
   "metadata": {},
   "outputs": [
    {
     "name": "stdout",
     "output_type": "stream",
     "text": [
      "No. of Upper case characters :  3\n",
      "No. of Lower case Characters :  12\n"
     ]
    }
   ],
   "source": [
    "Sample ='The quick Brow Fox'\n",
    "count_cases1(Sample)"
   ]
  },
  {
   "cell_type": "code",
   "execution_count": null,
   "id": "de460e68",
   "metadata": {},
   "outputs": [],
   "source": []
  }
 ],
 "metadata": {
  "kernelspec": {
   "display_name": "Python 3 (ipykernel)",
   "language": "python",
   "name": "python3"
  },
  "language_info": {
   "codemirror_mode": {
    "name": "ipython",
    "version": 3
   },
   "file_extension": ".py",
   "mimetype": "text/x-python",
   "name": "python",
   "nbconvert_exporter": "python",
   "pygments_lexer": "ipython3",
   "version": "3.9.13"
  }
 },
 "nbformat": 4,
 "nbformat_minor": 5
}

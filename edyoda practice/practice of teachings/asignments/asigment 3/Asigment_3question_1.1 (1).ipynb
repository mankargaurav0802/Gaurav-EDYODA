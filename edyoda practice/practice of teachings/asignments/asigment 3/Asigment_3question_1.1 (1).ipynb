{
 "cells": [
  {
   "cell_type": "code",
   "execution_count": null,
   "id": "05200469",
   "metadata": {},
   "outputs": [],
   "source": [
    "#Sample List (8, 2, 3, 0, 7)\n",
    "\n",
    "#Expected Output : 20"
   ]
  },
  {
   "cell_type": "code",
   "execution_count": 55,
   "id": "bf844a64",
   "metadata": {},
   "outputs": [],
   "source": [
    "def summation_of_list(lists):\n",
    "    total = 0\n",
    "    for i in lists:\n",
    "        total+=i\n",
    "    return total\n",
    "    print(total)"
   ]
  },
  {
   "cell_type": "code",
   "execution_count": 56,
   "id": "761f033a",
   "metadata": {},
   "outputs": [],
   "source": [
    "sample=[8, 2, 3, 0, 7]"
   ]
  },
  {
   "cell_type": "code",
   "execution_count": 57,
   "id": "1e363d40",
   "metadata": {},
   "outputs": [
    {
     "data": {
      "text/plain": [
       "20"
      ]
     },
     "execution_count": 57,
     "metadata": {},
     "output_type": "execute_result"
    }
   ],
   "source": [
    "summation_of_list(sample)"
   ]
  },
  {
   "cell_type": "code",
   "execution_count": 59,
   "id": "c46155c3",
   "metadata": {},
   "outputs": [
    {
     "name": "stdout",
     "output_type": "stream",
     "text": [
      "Entre the list:8, 2, 3, 0, 7\n"
     ]
    },
    {
     "data": {
      "text/plain": [
       "20"
      ]
     },
     "execution_count": 59,
     "metadata": {},
     "output_type": "execute_result"
    }
   ],
   "source": [
    "sample_list=eval(input(\"Entre the list:\"))\n",
    "summation_of_list(sample_list)"
   ]
  },
  {
   "cell_type": "code",
   "execution_count": null,
   "id": "6b884edc",
   "metadata": {},
   "outputs": [],
   "source": []
  },
  {
   "cell_type": "code",
   "execution_count": 60,
   "id": "ef8900c4",
   "metadata": {},
   "outputs": [],
   "source": []
  },
  {
   "cell_type": "code",
   "execution_count": 61,
   "id": "36d5a1ee",
   "metadata": {},
   "outputs": [],
   "source": []
  },
  {
   "cell_type": "code",
   "execution_count": 62,
   "id": "d851f4dd",
   "metadata": {},
   "outputs": [
    {
     "data": {
      "text/plain": [
       "20"
      ]
     },
     "execution_count": 62,
     "metadata": {},
     "output_type": "execute_result"
    }
   ],
   "source": []
  },
  {
   "cell_type": "code",
   "execution_count": null,
   "id": "18003c5d",
   "metadata": {},
   "outputs": [],
   "source": []
  },
  {
   "cell_type": "code",
   "execution_count": null,
   "id": "f2217aac",
   "metadata": {},
   "outputs": [],
   "source": []
  },
  {
   "cell_type": "code",
   "execution_count": null,
   "id": "7c48ed15",
   "metadata": {},
   "outputs": [],
   "source": []
  },
  {
   "cell_type": "code",
   "execution_count": null,
   "id": "77b839fc",
   "metadata": {},
   "outputs": [],
   "source": []
  }
 ],
 "metadata": {
  "kernelspec": {
   "display_name": "Python 3 (ipykernel)",
   "language": "python",
   "name": "python3"
  },
  "language_info": {
   "codemirror_mode": {
    "name": "ipython",
    "version": 3
   },
   "file_extension": ".py",
   "mimetype": "text/x-python",
   "name": "python",
   "nbconvert_exporter": "python",
   "pygments_lexer": "ipython3",
   "version": "3.9.13"
  }
 },
 "nbformat": 4,
 "nbformat_minor": 5
}

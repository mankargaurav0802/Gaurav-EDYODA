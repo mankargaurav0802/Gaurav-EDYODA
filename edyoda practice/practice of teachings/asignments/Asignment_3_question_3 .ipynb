{
 "cells": [
  {
   "cell_type": "code",
   "execution_count": 46,
   "id": "3585cdc2",
   "metadata": {},
   "outputs": [],
   "source": [
    "def count_cases1(sample):\n",
    "    upper_case_in_str = 0\n",
    "    lower_case_in_str = 0\n",
    "    for count in sample:\n",
    "        if count.isupper():\n",
    "            upper_case_in_str += 1\n",
    "        elif count.islower():\n",
    "            lower_case_in_str += 1\n",
    "    return \"No. of Upper case characters : {}  No. of Lower case Characters : {}\".format(upper_case_in_str,lower_case_in_str)"
   ]
  },
  {
   "cell_type": "code",
   "execution_count": 47,
   "id": "8dc6326d",
   "metadata": {},
   "outputs": [],
   "source": [
    "Sample_String='The quick Brow Fox'"
   ]
  },
  {
   "cell_type": "code",
   "execution_count": 48,
   "id": "049bda8e",
   "metadata": {},
   "outputs": [
    {
     "data": {
      "text/plain": [
       "'No. of Upper case characters : 3  No. of Lower case Characters : 12'"
      ]
     },
     "execution_count": 48,
     "metadata": {},
     "output_type": "execute_result"
    }
   ],
   "source": [
    "count_cases1(Sample_String)"
   ]
  },
  {
   "cell_type": "code",
   "execution_count": 49,
   "id": "f7f9eb40",
   "metadata": {},
   "outputs": [
    {
     "name": "stdout",
     "output_type": "stream",
     "text": [
      "'The quick Brow Fox'\n"
     ]
    },
    {
     "data": {
      "text/plain": [
       "'No. of Upper case characters : 3  No. of Lower case Characters : 12'"
      ]
     },
     "execution_count": 49,
     "metadata": {},
     "output_type": "execute_result"
    }
   ],
   "source": [
    "sample= eval(input())\n",
    "count_cases1(sample)"
   ]
  },
  {
   "cell_type": "code",
   "execution_count": null,
   "id": "cdb4edc0",
   "metadata": {},
   "outputs": [],
   "source": []
  },
  {
   "cell_type": "code",
   "execution_count": null,
   "id": "13503028",
   "metadata": {},
   "outputs": [],
   "source": [
    "Sample String : 'The quick Brow Fox'\n",
    "\n",
    "Expected Output :\n",
    "\n",
    "No. of Upper case characters : 3\n",
    "\n",
    "No. of Lower case Characters : 12"
   ]
  }
 ],
 "metadata": {
  "kernelspec": {
   "display_name": "Python 3 (ipykernel)",
   "language": "python",
   "name": "python3"
  },
  "language_info": {
   "codemirror_mode": {
    "name": "ipython",
    "version": 3
   },
   "file_extension": ".py",
   "mimetype": "text/x-python",
   "name": "python",
   "nbconvert_exporter": "python",
   "pygments_lexer": "ipython3",
   "version": "3.9.13"
  }
 },
 "nbformat": 4,
 "nbformat_minor": 5
}

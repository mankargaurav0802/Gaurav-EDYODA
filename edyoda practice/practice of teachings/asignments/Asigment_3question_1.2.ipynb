{
 "cells": [
  {
   "cell_type": "code",
   "execution_count": 2,
   "id": "d334a615",
   "metadata": {},
   "outputs": [],
   "source": [
    "def summartion_of_list2(lists):\n",
    "    total = 0\n",
    "    total=sum(lists)\n",
    "    return total\n",
    "    print(total)"
   ]
  },
  {
   "cell_type": "code",
   "execution_count": 3,
   "id": "5eb38ac1",
   "metadata": {},
   "outputs": [],
   "source": [
    "sample = [2,3,4,5,6]"
   ]
  },
  {
   "cell_type": "code",
   "execution_count": 4,
   "id": "15af9f50",
   "metadata": {},
   "outputs": [
    {
     "data": {
      "text/plain": [
       "20"
      ]
     },
     "execution_count": 4,
     "metadata": {},
     "output_type": "execute_result"
    }
   ],
   "source": [
    "summartion_of_list2(sample)"
   ]
  },
  {
   "cell_type": "code",
   "execution_count": 5,
   "id": "6a1e19b5",
   "metadata": {},
   "outputs": [
    {
     "name": "stdout",
     "output_type": "stream",
     "text": [
      "Entre the list:2,5,4,8,6\n"
     ]
    },
    {
     "data": {
      "text/plain": [
       "25"
      ]
     },
     "execution_count": 5,
     "metadata": {},
     "output_type": "execute_result"
    }
   ],
   "source": [
    "sample=eval(input(\"Entre the list:\"))\n",
    "summartion_of_list2(sample)"
   ]
  },
  {
   "cell_type": "code",
   "execution_count": null,
   "id": "b190f6ff",
   "metadata": {},
   "outputs": [],
   "source": []
  },
  {
   "cell_type": "code",
   "execution_count": null,
   "id": "cdd66083",
   "metadata": {},
   "outputs": [],
   "source": []
  }
 ],
 "metadata": {
  "kernelspec": {
   "display_name": "Python 3 (ipykernel)",
   "language": "python",
   "name": "python3"
  },
  "language_info": {
   "codemirror_mode": {
    "name": "ipython",
    "version": 3
   },
   "file_extension": ".py",
   "mimetype": "text/x-python",
   "name": "python",
   "nbconvert_exporter": "python",
   "pygments_lexer": "ipython3",
   "version": "3.9.13"
  }
 },
 "nbformat": 4,
 "nbformat_minor": 5
}

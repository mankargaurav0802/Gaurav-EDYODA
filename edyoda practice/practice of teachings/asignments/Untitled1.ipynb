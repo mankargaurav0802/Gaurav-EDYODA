{
 "cells": [
  {
   "cell_type": "code",
   "execution_count": 1,
   "id": "f6101296",
   "metadata": {},
   "outputs": [
    {
     "name": "stdout",
     "output_type": "stream",
     "text": [
      "Entre The Words: 'gaurav is good boy'\n",
      "The reverse output is: 'yob doog si varuag'\n"
     ]
    }
   ],
   "source": [
    "samplestring=input(\"Entre The Words: \")\n",
    "def reverse(samplestring):\n",
    "    str = \"\"\n",
    "    for i in samplestring:\n",
    "        str = i + str\n",
    "    return str\n",
    "print(\"The reverse output is: \",end=\"\")\n",
    "print(reverse(samplestring))"
   ]
  },
  {
   "cell_type": "code",
   "execution_count": null,
   "id": "b947dc84",
   "metadata": {},
   "outputs": [],
   "source": []
  }
 ],
 "metadata": {
  "kernelspec": {
   "display_name": "Python 3 (ipykernel)",
   "language": "python",
   "name": "python3"
  },
  "language_info": {
   "codemirror_mode": {
    "name": "ipython",
    "version": 3
   },
   "file_extension": ".py",
   "mimetype": "text/x-python",
   "name": "python",
   "nbconvert_exporter": "python",
   "pygments_lexer": "ipython3",
   "version": "3.9.13"
  }
 },
 "nbformat": 4,
 "nbformat_minor": 5
}

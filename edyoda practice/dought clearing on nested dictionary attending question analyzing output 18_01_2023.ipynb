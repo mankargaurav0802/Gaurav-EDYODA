{
 "cells": [
  {
   "cell_type": "markdown",
   "id": "bfaf0da7",
   "metadata": {},
   "source": [
    "Medium Difficulty:\n",
    "\n",
    "Given a nested dictionary of customer data, write a function that returns a list of all customer email addresses.\n",
    "\n",
    "Write a function that takes a nested dictionary and a key, \n",
    "and returns the value of that key at the deepest level of the dictionary, \n",
    "or None if the key is not present in the dictionary."
   ]
  },
  {
   "cell_type": "code",
   "execution_count": 2,
   "id": "eaa0b2e2",
   "metadata": {},
   "outputs": [],
   "source": [
    "customer_data= {\"Rajiv Dikshit\":{\"contact_details\":{\"phone\": \"6564854218\",\"email id\": \"lkjkj@gmai.com\",\"address\":\"adgdg,ddggg,89758356\"}},\n",
    "                \"Anand Gaigole\":{\"contact_details\":{\"phone\": \"1254876985\",\"email id\": \"kdjyrh@gmai.com\",\"address\":\"dgdgd,dgdc,89758356\"}},\n",
    "                \"Savrav Tripathi\":{\"contact_details\":{\"phone\": \"9595868684\",\"email id\": \"porutk@gmai.com\",\"address\":\"gjgj,gayryrf,89758356\"}},\n",
    "                \"Prithvi aryaa\":{\"contact_details\":{\"phone\": \"2515457585\",\"email id\": \"hsgdtrg@gmai.com\",\"address\":\"rffh,ghfhaf,89758356\"}},\n",
    "                \"Shubham Rahate\":{\"contact_details\":{\"phone\": \"3635252415\",\"email id\": \"jsdhdfhrfg@gmai.com\",\"address\":\"rmbmbmg,gaf,89758356\"}}\n",
    "               }"
   ]
  },
  {
   "cell_type": "code",
   "execution_count": 3,
   "id": "beea1ef1",
   "metadata": {},
   "outputs": [
    {
     "name": "stdout",
     "output_type": "stream",
     "text": [
      "Name is  Rajiv Dikshit ---> phone number is  6564854218\n",
      "Total number in phone =  10\n",
      "Name is  Anand Gaigole ---> phone number is  1254876985\n",
      "Total number in phone =  20\n",
      "Name is  Savrav Tripathi ---> phone number is  9595868684\n",
      "Total number in phone =  30\n",
      "Name is  Prithvi aryaa ---> phone number is  2515457585\n",
      "Total number in phone =  40\n",
      "Name is  Shubham Rahate ---> phone number is  3635252415\n",
      "Total number in phone =  50\n"
     ]
    }
   ],
   "source": [
    "count=0\n",
    "for key,val in customer_data.items():\n",
    "    #print(key,\"--->\",val['contact_details'][\"email id\"])\n",
    "    for key2,val2 in val.items():\n",
    "        print(\"Name is \",key,\"--->\",\"phone number is \",val2[\"phone\"])\n",
    "        for i in val2[\"phone\"]:\n",
    "            count+=1\n",
    "        print(\"Total number in phone = \",count)\n",
    "    "
   ]
  },
  {
   "cell_type": "code",
   "execution_count": 4,
   "id": "454beefe",
   "metadata": {},
   "outputs": [
    {
     "data": {
      "text/plain": [
       "{'Rajiv Dikshit': {'contact_details': {'phone': '6564854218',\n",
       "   'email id': 'lkjkj@gmai.com',\n",
       "   'address': 'adgdg,ddggg,89758356'}},\n",
       " 'Anand Gaigole': {'contact_details': {'phone': '1254876985',\n",
       "   'email id': 'kdjyrh@gmai.com',\n",
       "   'address': 'dgdgd,dgdc,89758356'}},\n",
       " 'Savrav Tripathi': {'contact_details': {'phone': '9595868684',\n",
       "   'email id': 'porutk@gmai.com',\n",
       "   'address': 'gjgj,gayryrf,89758356'}},\n",
       " 'Prithvi aryaa': {'contact_details': {'phone': '2515457585',\n",
       "   'email id': 'hsgdtrg@gmai.com',\n",
       "   'address': 'rffh,ghfhaf,89758356'}},\n",
       " 'Shubham Rahate': {'contact_details': {'phone': '3635252415',\n",
       "   'email id': 'jsdhdfhrfg@gmai.com',\n",
       "   'address': 'rmbmbmg,gaf,89758356'}}}"
      ]
     },
     "execution_count": 4,
     "metadata": {},
     "output_type": "execute_result"
    }
   ],
   "source": [
    "customer_data"
   ]
  },
  {
   "cell_type": "code",
   "execution_count": 12,
   "id": "825840a8",
   "metadata": {},
   "outputs": [
    {
     "name": "stdout",
     "output_type": "stream",
     "text": [
      "Rajiv Dikshit ----> lkjkj@gmai.com\n",
      "Anand Gaigole ----> kdjyrh@gmai.com\n",
      "Savrav Tripathi ----> porutk@gmai.com\n",
      "Prithvi aryaa ----> hsgdtrg@gmai.com\n",
      "Shubham Rahate ----> jsdhdfhrfg@gmai.com\n"
     ]
    }
   ],
   "source": [
    "#Given a nested dictionary of customer data, write a function that returns a list of all customer email addresses.\n",
    "for k,v in customer_data.items():\n",
    "    for k1,v1 in v.items():\n",
    "        print(k,\"---->\",v1[\"email id\"])"
   ]
  },
  {
   "cell_type": "code",
   "execution_count": 45,
   "id": "87262784",
   "metadata": {},
   "outputs": [
    {
     "name": "stdout",
     "output_type": "stream",
     "text": [
      "phone\n",
      "email id\n",
      "address\n",
      "phone\n",
      "email id\n",
      "address\n",
      "phone\n",
      "email id\n",
      "address\n",
      "phone\n",
      "email id\n",
      "address\n",
      "phone\n",
      "email id\n",
      "address\n"
     ]
    }
   ],
   "source": [
    "#Write a function that takes a nested dictionary and a key, \n",
    "#and returns the value of that key at the deepest level of the dictionary, \n",
    "#or None if the key is not present in the dictionary.\n",
    "for key,val in customer_data.items():\n",
    "    for key2,val2 in val.items():\n",
    "        for key3,val3 in val2.items():\n",
    "            for key4 in val3:\n",
    "                print(key4)"
   ]
  },
  {
   "cell_type": "code",
   "execution_count": null,
   "id": "2b1da2ff",
   "metadata": {},
   "outputs": [],
   "source": [
    "Define a nested dictionary with keys 'first_name', 'last_name', 'address', and 'phone_number'.\n",
    "Add at least three entries to the nested dictionary, where each entry is a person's information.\n",
    "Write a function that takes in a nested dictionary and a key, and returns \n",
    "the value associated with that key. \n",
    "If the key is not found in the nested dictionary, return 'Key not found'.\n",
    "Create a nested dictionary that represents a menu for a restaurant. \n",
    "The first level of keys should be the categories (e.g. 'appetizers', 'entrees', 'desserts'),\n",
    "and the second level of keys should be the items within each category.\n",
    "Add at least five items to the menu.\n",
    "Write a function that takes in a nested dictionary and a key, \n",
    "and returns the number of occurrences of that key in the nested dictionary.\n",
    "Create a nested dictionary that represents a file directory, \n",
    "where the keys at the first level represent the folders and the keys at the second \n",
    "level represent the files within those folders.\n",
    "Add at least three levels of keys to the nested dictionary.\n",
    "Write a function that takes in a nested dictionary and a key,\n",
    "and returns the keys and values at the next level of the nested dictionary \n",
    "if the key exists or return 'Key not found'\n",
    "Create a nested dictionary that represents a company's organizational structure, \n",
    "where the keys at the first level represent the departments,\n",
    "and the keys at the second level represent the employees within each department.\n",
    "Add at least three departments and six employees to the nested dictionary.\n",
    "Write a function that takes in a nested dictionary and a value, and returns the key(s) \n",
    "associated with that value in the nested dictionary, or 'Value not found' \n",
    "if the value is not in the dictionary.\n",
    "Create a nested dictionary that represents a library catalog,\n",
    "where the keys at the first level represent the genres,\n",
    "and the keys at the second level represent the books within each genre.\n",
    "Add at least three genres and six books to the nested dictionary.\n",
    "Write a function that takes in a nested dictionary and a key, \n",
    "and returns the nested dictionary with the key-value pair removed \n",
    "if the key exists or return 'Key not found'"
   ]
  },
  {
   "cell_type": "code",
   "execution_count": 10,
   "id": "4f6762b6",
   "metadata": {},
   "outputs": [],
   "source": [
    "#Define a nested dictionary with keys 'first_name', 'last_name', 'address', and 'phone_number'.\n",
    "#Add at least three entries to the nested dictionary, where each entry is a person's information.\n",
    "customer_data= {\"first name\":{\"Rajiv \":{\"contact_details\":{\"phone\": \"6564854218\",\"email id\": \"lkjkj@gmai.com\",\"address\":\"adgdg,ddggg,89758356\"}},\n",
    "                \"Anand \":{\"contact_details\":{\"phone\": \"1254876985\",\"email id\": \"kdjyrh@gmai.com\",\"address\":\"dgdgd,dgdc,89758356\"}},\n",
    "                \"Savrav \":{\"contact_details\":{\"phone\": \"9595868684\",\"email id\": \"porutk@gmai.com\",\"address\":\"gjgj,gayryrf,89758356\"}},\n",
    "                \"Prithvi \":{\"contact_details\":{\"phone\": \"2515457585\",\"email id\": \"hsgdtrg@gmai.com\",\"address\":\"rffh,ghfhaf,89758356\"}},\n",
    "                \"Shubham \":{\"contact_details\":{\"phone\": \"3635252415\",\"email id\": \"jsdhdfhrfg@gmai.com\",\"address\":\"rmbmbmg,gaf,89758356\"}}}\n",
    "               }"
   ]
  },
  {
   "cell_type": "code",
   "execution_count": 11,
   "id": "a775e586",
   "metadata": {},
   "outputs": [
    {
     "data": {
      "text/plain": [
       "dict_keys(['Rajiv ', 'Anand ', 'Savrav ', 'Prithvi ', 'Shubham '])"
      ]
     },
     "execution_count": 11,
     "metadata": {},
     "output_type": "execute_result"
    }
   ],
   "source": [
    "customer_data[\"first name\"].keys()"
   ]
  },
  {
   "cell_type": "code",
   "execution_count": 12,
   "id": "56d52fa6",
   "metadata": {},
   "outputs": [
    {
     "ename": "SyntaxError",
     "evalue": "invalid syntax (1477720598.py, line 1)",
     "output_type": "error",
     "traceback": [
      "\u001b[1;36m  File \u001b[1;32m\"C:\\Users\\Gaurav\\AppData\\Local\\Temp\\ipykernel_9032\\1477720598.py\"\u001b[1;36m, line \u001b[1;32m1\u001b[0m\n\u001b[1;33m    Write a function that takes in a nested dictionary and a key, and returns the value associated with that key.\u001b[0m\n\u001b[1;37m          ^\u001b[0m\n\u001b[1;31mSyntaxError\u001b[0m\u001b[1;31m:\u001b[0m invalid syntax\n"
     ]
    }
   ],
   "source": [
    "Write a function that takes in a nested dictionary and a key, and returns the value associated with that key. \n",
    "If the key is not found in the nested dictionary, return 'Key not found'."
   ]
  },
  {
   "cell_type": "code",
   "execution_count": 13,
   "id": "c2bd0f3c",
   "metadata": {},
   "outputs": [
    {
     "name": "stdout",
     "output_type": "stream",
     "text": [
      "\n"
     ]
    }
   ],
   "source": [
    "dicr=input()\n"
   ]
  },
  {
   "cell_type": "code",
   "execution_count": 25,
   "id": "082fc4e5",
   "metadata": {},
   "outputs": [
    {
     "name": "stdout",
     "output_type": "stream",
     "text": [
      "customer_data\n",
      "{'first name': {'Rajiv ': {'contact_details': {'phone': '6564854218', 'email id': 'lkjkj@gmai.com', 'address': 'adgdg,ddggg,89758356'}}, 'Anand ': {'contact_details': {'phone': '1254876985', 'email id': 'kdjyrh@gmai.com', 'address': 'dgdgd,dgdc,89758356'}}, 'Savrav ': {'contact_details': {'phone': '9595868684', 'email id': 'porutk@gmai.com', 'address': 'gjgj,gayryrf,89758356'}}, 'Prithvi ': {'contact_details': {'phone': '2515457585', 'email id': 'hsgdtrg@gmai.com', 'address': 'rffh,ghfhaf,89758356'}}, 'Shubham ': {'contact_details': {'phone': '3635252415', 'email id': 'jsdhdfhrfg@gmai.com', 'address': 'rmbmbmg,gaf,89758356'}}}}\n",
      "first name\n"
     ]
    }
   ],
   "source": [
    "dicr=eval(input())\n",
    "print(dicr)\n",
    "for k,v in dicr.items():\n",
    "    if k ==k:\n",
    "        print(k)\n",
    "    else:\n",
    "        print(\"not availanle\")\n"
   ]
  },
  {
   "cell_type": "code",
   "execution_count": 26,
   "id": "716f2fe5",
   "metadata": {},
   "outputs": [],
   "source": [
    "def get_value(nested_dict, key):\n",
    "    \"\"\"\n",
    "    This function takes in a nested dictionary and a key, and returns the value associated with that key.\n",
    "    If the key is not found in the nested dictionary, return 'Key not found'.\n",
    "    \"\"\"\n",
    "    for k, v in nested_dict.items():\n",
    "        if k == key:\n",
    "            return v\n",
    "        if isinstance(v, dict):\n",
    "            item = get_value(v, key)\n",
    "            if item is not None:\n",
    "                return item\n",
    "    return 'Key not found'"
   ]
  },
  {
   "cell_type": "code",
   "execution_count": 34,
   "id": "5d66e9cd",
   "metadata": {},
   "outputs": [
    {
     "data": {
      "text/plain": [
       "{'Rajiv ': {'contact_details': {'phone': '6564854218',\n",
       "   'email id': 'lkjkj@gmai.com',\n",
       "   'address': 'adgdg,ddggg,89758356'}},\n",
       " 'Anand ': {'contact_details': {'phone': '1254876985',\n",
       "   'email id': 'kdjyrh@gmai.com',\n",
       "   'address': 'dgdgd,dgdc,89758356'}},\n",
       " 'Savrav ': {'contact_details': {'phone': '9595868684',\n",
       "   'email id': 'porutk@gmai.com',\n",
       "   'address': 'gjgj,gayryrf,89758356'}},\n",
       " 'Prithvi ': {'contact_details': {'phone': '2515457585',\n",
       "   'email id': 'hsgdtrg@gmai.com',\n",
       "   'address': 'rffh,ghfhaf,89758356'}},\n",
       " 'Shubham ': {'contact_details': {'phone': '3635252415',\n",
       "   'email id': 'jsdhdfhrfg@gmai.com',\n",
       "   'address': 'rmbmbmg,gaf,89758356'}}}"
      ]
     },
     "execution_count": 34,
     "metadata": {},
     "output_type": "execute_result"
    }
   ],
   "source": [
    "get_value(customer_data,'first name')"
   ]
  },
  {
   "cell_type": "code",
   "execution_count": 30,
   "id": "694e4bb7",
   "metadata": {},
   "outputs": [
    {
     "data": {
      "text/plain": [
       "dict_keys(['first name'])"
      ]
     },
     "execution_count": 30,
     "metadata": {},
     "output_type": "execute_result"
    }
   ],
   "source": [
    "customer_data.keys()"
   ]
  },
  {
   "cell_type": "code",
   "execution_count": null,
   "id": "ce6f649f",
   "metadata": {},
   "outputs": [],
   "source": [
    "import even"
   ]
  }
 ],
 "metadata": {
  "kernelspec": {
   "display_name": "Python 3 (ipykernel)",
   "language": "python",
   "name": "python3"
  },
  "language_info": {
   "codemirror_mode": {
    "name": "ipython",
    "version": 3
   },
   "file_extension": ".py",
   "mimetype": "text/x-python",
   "name": "python",
   "nbconvert_exporter": "python",
   "pygments_lexer": "ipython3",
   "version": "3.9.13"
  }
 },
 "nbformat": 4,
 "nbformat_minor": 5
}

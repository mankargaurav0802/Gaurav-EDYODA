{
 "cells": [
  {
   "cell_type": "code",
   "execution_count": 3,
   "id": "5d536184",
   "metadata": {},
   "outputs": [
    {
     "name": "stdout",
     "output_type": "stream",
     "text": [
      "Addition of a and b is 110\n",
      "substration of a and b is 70\n",
      "division of a and b is 4.5\n",
      "multiplication of a and b is 1800\n"
     ]
    }
   ],
   "source": [
    "a=90\n",
    "b=20\n",
    "print(\"Addition of a and b is {0}\".format(a+b))\n",
    "print(\"substration of a and b is {0}\".format(a-b))\n",
    "print(\"division of a and b is {0}\".format(a/b))\n",
    "print(\"multiplication of a and b is {0}\".format(a*b))"
   ]
  },
  {
   "cell_type": "code",
   "execution_count": 15,
   "id": "fd62c6f9",
   "metadata": {},
   "outputs": [
    {
     "name": "stdout",
     "output_type": "stream",
     "text": [
      "number1= 10\n",
      "number2= 63\n",
      "addition= 73\n"
     ]
    }
   ],
   "source": [
    "#practice inupt\n",
    "a=eval(input(\"number1= \"))\n",
    "b=eval(input(\"number2= \"))\n",
    "if\n",
    "n=a+b\n",
    " n>20\n",
    "print(\"addition=\",n,)"
   ]
  },
  {
   "cell_type": "code",
   "execution_count": 14,
   "id": "d8a7dc91",
   "metadata": {},
   "outputs": [
    {
     "name": "stdout",
     "output_type": "stream",
     "text": [
      "gaurav is student\n"
     ]
    }
   ],
   "source": [
    "# string\n",
    "str=\"gaurav is student\"\n",
    "print(str)"
   ]
  },
  {
   "cell_type": "code",
   "execution_count": 20,
   "id": "afadab9c",
   "metadata": {},
   "outputs": [
    {
     "name": "stdout",
     "output_type": "stream",
     "text": [
      "4\n",
      "[1, 2, 3]\n",
      "8\n",
      "[7, 7]\n",
      "None\n",
      "[1, 2, 3, 4, 5, 6, 6, 5, 4, 7, 7, 8, 9, 11]\n",
      "None\n",
      "[1, 2, 86, 3, 4, 5, 6, 6, 5, 4, 7, 7, 8, 9, 11]\n",
      "[1, 2, 86, 3, 4, 5, 6, 6, 5, 4, 7, 7, 8, 9, 11]\n"
     ]
    }
   ],
   "source": [
    "#data types\n",
    "\n",
    "list_1 = [1,2,3,4,5,6,6,5,4,7,7,8,9]\n",
    "type(list_1)\n",
    "print(list_1[3])\n",
    "print(list_1[0:3])\n",
    "print(list_1[-2])\n",
    "print(list_1[-4:-2])\n",
    "print(list_1.append(11))\n",
    "print(list_1)\n",
    "print(list_1.insert(2,86))\n",
    "print(list_1)\n",
    "mylist=list_1=list_1.copy()\n",
    "print(mylist)"
   ]
  },
  {
   "cell_type": "code",
   "execution_count": 22,
   "id": "4ef7dc51",
   "metadata": {},
   "outputs": [],
   "source": [
    "list_1.sort()"
   ]
  },
  {
   "cell_type": "code",
   "execution_count": 34,
   "id": "53f93673",
   "metadata": {},
   "outputs": [
    {
     "ename": "TypeError",
     "evalue": "list.count() takes exactly one argument (0 given)",
     "output_type": "error",
     "traceback": [
      "\u001b[1;31m---------------------------------------------------------------------------\u001b[0m",
      "\u001b[1;31mTypeError\u001b[0m                                 Traceback (most recent call last)",
      "\u001b[1;32m~\\AppData\\Local\\Temp\\ipykernel_9192\\51810509.py\u001b[0m in \u001b[0;36m<module>\u001b[1;34m\u001b[0m\n\u001b[1;32m----> 1\u001b[1;33m \u001b[0mlist_1\u001b[0m\u001b[1;33m.\u001b[0m\u001b[0mcount\u001b[0m\u001b[1;33m(\u001b[0m\u001b[1;33m)\u001b[0m\u001b[1;33m\u001b[0m\u001b[1;33m\u001b[0m\u001b[0m\n\u001b[0m",
      "\u001b[1;31mTypeError\u001b[0m: list.count() takes exactly one argument (0 given)"
     ]
    }
   ],
   "source": [
    "list_1.count()"
   ]
  },
  {
   "cell_type": "code",
   "execution_count": 23,
   "id": "982ccf0d",
   "metadata": {},
   "outputs": [
    {
     "name": "stdout",
     "output_type": "stream",
     "text": [
      "[1, 2, 3, 4, 4, 5, 5, 6, 6, 7, 7, 8, 9, 11, 86]\n"
     ]
    }
   ],
   "source": [
    "print(mylist)"
   ]
  },
  {
   "cell_type": "code",
   "execution_count": 29,
   "id": "276c5ec3",
   "metadata": {},
   "outputs": [],
   "source": [
    "mylist.reverse()"
   ]
  },
  {
   "cell_type": "code",
   "execution_count": 30,
   "id": "cbf79dcc",
   "metadata": {},
   "outputs": [
    {
     "name": "stdout",
     "output_type": "stream",
     "text": [
      "[86, 11, 9, 8, 7, 7, 6, 6, 5, 5, 4, 4, 3, 2, 1]\n"
     ]
    }
   ],
   "source": [
    "print(mylist)"
   ]
  },
  {
   "cell_type": "code",
   "execution_count": 31,
   "id": "d1fa29ae",
   "metadata": {},
   "outputs": [
    {
     "name": "stdout",
     "output_type": "stream",
     "text": [
      "15\n"
     ]
    }
   ],
   "source": [
    "print(len(mylist))"
   ]
  },
  {
   "cell_type": "code",
   "execution_count": 32,
   "id": "58187bce",
   "metadata": {},
   "outputs": [],
   "source": [
    "mylist[2]=50"
   ]
  },
  {
   "cell_type": "code",
   "execution_count": 33,
   "id": "4de3a6ed",
   "metadata": {},
   "outputs": [
    {
     "name": "stdout",
     "output_type": "stream",
     "text": [
      "[86, 11, 50, 8, 7, 7, 6, 6, 5, 5, 4, 4, 3, 2, 1]\n"
     ]
    }
   ],
   "source": [
    "print(mylist)"
   ]
  },
  {
   "cell_type": "code",
   "execution_count": 38,
   "id": "72f1b72d",
   "metadata": {},
   "outputs": [
    {
     "data": {
      "text/plain": [
       "5"
      ]
     },
     "execution_count": 38,
     "metadata": {},
     "output_type": "execute_result"
    }
   ],
   "source": [
    "#tuples\n",
    "tuple1 = (1,2,5,4,6,6,8,8,8,8,8)\n",
    "tuple1[3]\n",
    "tuple1.count(6)\n",
    "tuple1.count(8)\n",
    "\n",
    "\n"
   ]
  },
  {
   "cell_type": "code",
   "execution_count": null,
   "id": "b57bf1e9",
   "metadata": {},
   "outputs": [],
   "source": [
    "#set\n"
   ]
  },
  {
   "cell_type": "code",
   "execution_count": 39,
   "id": "500ef95b",
   "metadata": {},
   "outputs": [],
   "source": [
    "#dictonar\n",
    "dict = {\n",
    "    \"customer\" : \"raj\",\n",
    "    \"work\" : \"er\",\n",
    "    \"age\" : \"24\",\n",
    "    \"ph\" : \"252455\"\n",
    "}"
   ]
  },
  {
   "cell_type": "code",
   "execution_count": 40,
   "id": "0e965797",
   "metadata": {},
   "outputs": [
    {
     "data": {
      "text/plain": [
       "dict"
      ]
     },
     "execution_count": 40,
     "metadata": {},
     "output_type": "execute_result"
    }
   ],
   "source": [
    "type(dict)"
   ]
  },
  {
   "cell_type": "code",
   "execution_count": 47,
   "id": "93d394be",
   "metadata": {},
   "outputs": [
    {
     "data": {
      "text/plain": [
       "'raj'"
      ]
     },
     "execution_count": 47,
     "metadata": {},
     "output_type": "execute_result"
    }
   ],
   "source": [
    "dict[\"customer\"]"
   ]
  },
  {
   "cell_type": "code",
   "execution_count": 49,
   "id": "63494485",
   "metadata": {},
   "outputs": [],
   "source": [
    "dict[\"customer\"]=\"pravin\""
   ]
  },
  {
   "cell_type": "code",
   "execution_count": 51,
   "id": "3a4e820a",
   "metadata": {},
   "outputs": [
    {
     "name": "stdout",
     "output_type": "stream",
     "text": [
      "{'customer': 'pravin', 'work': 'er', 'age': '24', 'ph': '252455'}\n"
     ]
    }
   ],
   "source": [
    "print(dict)"
   ]
  },
  {
   "cell_type": "code",
   "execution_count": 59,
   "id": "8df9286d",
   "metadata": {},
   "outputs": [
    {
     "name": "stdout",
     "output_type": "stream",
     "text": [
      "{'customer': 'pravin', 'work': 'er', 'age': '24', 'ph': '252455', 'region': 'mh'}\n"
     ]
    }
   ],
   "source": [
    "dict[\"region\"]=\"mh\"\n",
    "print(dict)"
   ]
  },
  {
   "cell_type": "code",
   "execution_count": 56,
   "id": "03c8fad5",
   "metadata": {},
   "outputs": [
    {
     "data": {
      "text/plain": [
       "{'customer': 'pravin', 'work': 'er', 'age': '24', 'ph': '252455'}"
      ]
     },
     "execution_count": 56,
     "metadata": {},
     "output_type": "execute_result"
    }
   ],
   "source": [
    "dict"
   ]
  },
  {
   "cell_type": "code",
   "execution_count": 60,
   "id": "52ab7632",
   "metadata": {},
   "outputs": [],
   "source": [
    "del dict[\"customer\"]"
   ]
  },
  {
   "cell_type": "code",
   "execution_count": 61,
   "id": "21fd9373",
   "metadata": {},
   "outputs": [
    {
     "name": "stdout",
     "output_type": "stream",
     "text": [
      "{'work': 'er', 'age': '24', 'ph': '252455', 'region': 'mh'}\n"
     ]
    }
   ],
   "source": [
    "print(dict)"
   ]
  },
  {
   "cell_type": "code",
   "execution_count": 21,
   "id": "c0f9b311",
   "metadata": {},
   "outputs": [
    {
     "name": "stdout",
     "output_type": "stream",
     "text": [
      "value1 = 1\n",
      "value1 = 2\n",
      "addition 3\n",
      "sub -1\n",
      "prod 2\n",
      "\n",
      "x\n",
      "y\n",
      "z\n",
      "\n",
      "        \"sum \",x,\n",
      "        \"diiference \",y,\n",
      "        \"product \",z\n",
      "        \n"
     ]
    }
   ],
   "source": [
    "#he provided code stub reads two integers from STDIN,  a and b . Add code to print three lines where:\n",
    "#The first line contains the sum of the two numbers.\n",
    "#The second line contains the difference of the two numbers (first - second).\n",
    "#The third line contains the product of the two numbers\n",
    "a = eval(input(\"value1 = \"))\n",
    "b = eval(input(\"value1 = \"))\n",
    "x = a+b\n",
    "y=a-b\n",
    "z=a*b\n",
    "print(\"addition\",x)\n",
    "print(\"sub\",y)\n",
    "print(\"prod\",z)\n",
    "\n",
    "print('''\n",
    "x\n",
    "y\n",
    "z''')"
   ]
  },
  {
   "cell_type": "code",
   "execution_count": 24,
   "id": "c98f287e",
   "metadata": {},
   "outputs": [
    {
     "name": "stdout",
     "output_type": "stream",
     "text": [
      "first number = 1\n",
      "secondn umber = 2\n",
      "0\n",
      "0.5\n"
     ]
    }
   ],
   "source": [
    "#The provided code stub reads two integers,  a and b , from STDIN.\n",
    "#Add logic to print two lines.\n",
    "#The first line should contain the result of integer division,  a //b .\n",
    "#The second line should contain the result of float division,  / .\n",
    "#No rounding or formatting is necessary.\n",
    "\n",
    "a=int(input(\"first number = \"))\n",
    "b=int(input(\"secondn umber = \"))\n",
    "print(a//b)\n",
    "print(a/b)"
   ]
  },
  {
   "cell_type": "code",
   "execution_count": 27,
   "id": "2fe40f0a",
   "metadata": {},
   "outputs": [
    {
     "name": "stdout",
     "output_type": "stream",
     "text": [
      "enter the nummber = -10\n",
      "negative int\n"
     ]
    }
   ],
   "source": [
    "#The provided code stub reads and integer,n, from STDIN.\n",
    "#For all non-negative integers i<n , print i square.\n",
    "\n",
    "\n",
    "a=int(input(\"enter the nummber = \"))\n",
    "for num in range(0,a+1):\n",
    "    print(num*num)\n",
    "if a<=0:\n",
    "    print(\"negative int\")"
   ]
  },
  {
   "cell_type": "code",
   "execution_count": 16,
   "id": "6bce2ad8",
   "metadata": {},
   "outputs": [
    {
     "name": "stdout",
     "output_type": "stream",
     "text": [
      "_1 1\n",
      "_2 10\n",
      "1\n",
      "2\n",
      "3\n",
      "4\n",
      "5\n",
      "6\n",
      "7\n",
      "8\n",
      "9\n"
     ]
    }
   ],
   "source": [
    "#The included code stub will read an integer, , from STDIN.\n",
    "#Without using any string methods, try to print the following;\n",
    "#Note that \"12345\" represents the consecutive values in between\n",
    "\n",
    "x=int(input(\"_1 \"))\n",
    "y=int(input(\"_2 \"))\n",
    "for num in range(x,y):\n",
    "    print(num)"
   ]
  },
  {
   "cell_type": "code",
   "execution_count": 16,
   "id": "b446737b",
   "metadata": {},
   "outputs": [
    {
     "name": "stdout",
     "output_type": "stream",
     "text": [
      "Given number 10\n",
      "not weared\n"
     ]
    }
   ],
   "source": [
    "n=int(input(\"Given number \"))\n",
    "if n%2==0 and range(2,6) or n>20:\n",
    "    print(\"not weared\",)\n",
    "elif n%2!=0:\n",
    "    print(\"weared\",)\n",
    "elif n%2==0 and range(6,20):\n",
    "    print(\"weared\",)"
   ]
  },
  {
   "cell_type": "code",
   "execution_count": 16,
   "id": "16396a45",
   "metadata": {},
   "outputs": [],
   "source": [
    "def sum(a,b):\n",
    "    print(a+b)\n",
    "def multi(a,b):\n",
    "    return(a*b)"
   ]
  },
  {
   "cell_type": "code",
   "execution_count": 4,
   "id": "669c5d04",
   "metadata": {},
   "outputs": [
    {
     "name": "stdout",
     "output_type": "stream",
     "text": [
      "12\n"
     ]
    }
   ],
   "source": [
    "sum(2,10)"
   ]
  },
  {
   "cell_type": "code",
   "execution_count": 17,
   "id": "a1f0ad83",
   "metadata": {},
   "outputs": [
    {
     "data": {
      "text/plain": [
       "50"
      ]
     },
     "execution_count": 17,
     "metadata": {},
     "output_type": "execute_result"
    }
   ],
   "source": [
    "multi(10,5)"
   ]
  },
  {
   "cell_type": "code",
   "execution_count": null,
   "id": "71256a67",
   "metadata": {},
   "outputs": [],
   "source": []
  }
 ],
 "metadata": {
  "kernelspec": {
   "display_name": "Python 3 (ipykernel)",
   "language": "python",
   "name": "python3"
  },
  "language_info": {
   "codemirror_mode": {
    "name": "ipython",
    "version": 3
   },
   "file_extension": ".py",
   "mimetype": "text/x-python",
   "name": "python",
   "nbconvert_exporter": "python",
   "pygments_lexer": "ipython3",
   "version": "3.9.13"
  }
 },
 "nbformat": 4,
 "nbformat_minor": 5
}

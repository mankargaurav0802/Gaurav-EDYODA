{
 "cells": [
  {
   "cell_type": "markdown",
   "id": "3b22fd99",
   "metadata": {},
   "source": [
    "# info lambda , one liner function ,anonamus function"
   ]
  },
  {
   "cell_type": "code",
   "execution_count": 15,
   "id": "c4dcd781",
   "metadata": {},
   "outputs": [],
   "source": [
    "d=lambda a,b:a*b"
   ]
  },
  {
   "cell_type": "code",
   "execution_count": null,
   "id": "2c72631d",
   "metadata": {},
   "outputs": [],
   "source": []
  },
  {
   "cell_type": "code",
   "execution_count": 16,
   "id": "320c88bc",
   "metadata": {},
   "outputs": [
    {
     "data": {
      "text/plain": [
       "200"
      ]
     },
     "execution_count": 16,
     "metadata": {},
     "output_type": "execute_result"
    }
   ],
   "source": [
    "d(10,20)"
   ]
  },
  {
   "cell_type": "code",
   "execution_count": 11,
   "id": "d9f8cfc5",
   "metadata": {},
   "outputs": [],
   "source": [
    "def add(a,b):\n",
    "    return a+b"
   ]
  },
  {
   "cell_type": "code",
   "execution_count": 12,
   "id": "d4e0dc95",
   "metadata": {},
   "outputs": [],
   "source": [
    "a=lambda a,b:a+b  "
   ]
  },
  {
   "cell_type": "code",
   "execution_count": 13,
   "id": "d11d2795",
   "metadata": {},
   "outputs": [
    {
     "data": {
      "text/plain": [
       "50"
      ]
     },
     "execution_count": 13,
     "metadata": {},
     "output_type": "execute_result"
    }
   ],
   "source": [
    "a(20,30)"
   ]
  },
  {
   "cell_type": "code",
   "execution_count": 17,
   "id": "3bf08e60",
   "metadata": {},
   "outputs": [],
   "source": [
    "def ml(a,b):\n",
    "    return a*b"
   ]
  },
  {
   "cell_type": "code",
   "execution_count": 18,
   "id": "01654aa2",
   "metadata": {},
   "outputs": [
    {
     "data": {
      "text/plain": [
       "200"
      ]
     },
     "execution_count": 18,
     "metadata": {},
     "output_type": "execute_result"
    }
   ],
   "source": [
    "ml(10,20)"
   ]
  },
  {
   "cell_type": "code",
   "execution_count": null,
   "id": "4c9c6718",
   "metadata": {},
   "outputs": [],
   "source": [
    "#if else"
   ]
  },
  {
   "cell_type": "code",
   "execution_count": 4,
   "id": "dbe56e33",
   "metadata": {},
   "outputs": [],
   "source": [
    "def minimum(a,b):\n",
    "    if a<b: \n",
    "        return a\n",
    "    else:\n",
    "        return b"
   ]
  },
  {
   "cell_type": "code",
   "execution_count": 5,
   "id": "e687e2af",
   "metadata": {},
   "outputs": [
    {
     "data": {
      "text/plain": [
       "10"
      ]
     },
     "execution_count": 5,
     "metadata": {},
     "output_type": "execute_result"
    }
   ],
   "source": [
    "min(10,50)"
   ]
  },
  {
   "cell_type": "code",
   "execution_count": 8,
   "id": "65f9892c",
   "metadata": {},
   "outputs": [],
   "source": [
    "listz =[2,3,3,5,4,5,6,8]\n",
    "listx =[2,3,5,6,7,9,0,7]"
   ]
  },
  {
   "cell_type": "code",
   "execution_count": 9,
   "id": "5cd1d3e6",
   "metadata": {},
   "outputs": [
    {
     "data": {
      "text/plain": [
       "{0, 2, 3, 4, 5, 7}"
      ]
     },
     "execution_count": 9,
     "metadata": {},
     "output_type": "execute_result"
    }
   ],
   "source": [
    "set(map(lambda a,b: a if a<b else b,listx,listz))"
   ]
  },
  {
   "cell_type": "code",
   "execution_count": 14,
   "id": "505b6eda",
   "metadata": {},
   "outputs": [
    {
     "data": {
      "text/plain": [
       "[2, 3, 3, 5, 4, 5, 0, 7]"
      ]
     },
     "execution_count": 14,
     "metadata": {},
     "output_type": "execute_result"
    }
   ],
   "source": [
    "list(map(lambda a,b: a if a<b else b,listx,listz))"
   ]
  },
  {
   "cell_type": "code",
   "execution_count": 8,
   "id": "4403de62",
   "metadata": {},
   "outputs": [
    {
     "data": {
      "text/plain": [
       "10"
      ]
     },
     "execution_count": 8,
     "metadata": {},
     "output_type": "execute_result"
    }
   ],
   "source": [
    "b(10,50)"
   ]
  },
  {
   "cell_type": "code",
   "execution_count": 9,
   "id": "ede16db4",
   "metadata": {},
   "outputs": [
    {
     "data": {
      "text/plain": [
       "10"
      ]
     },
     "execution_count": 9,
     "metadata": {},
     "output_type": "execute_result"
    }
   ],
   "source": [
    "b(25,10)"
   ]
  },
  {
   "cell_type": "code",
   "execution_count": 10,
   "id": "f4cf78ab",
   "metadata": {},
   "outputs": [],
   "source": [
    "#pass a funct to function"
   ]
  },
  {
   "cell_type": "code",
   "execution_count": 19,
   "id": "cdb1ba79",
   "metadata": {},
   "outputs": [],
   "source": [
    "def addml(a,b):\n",
    "    return ml(a,b) + add(a,b)"
   ]
  },
  {
   "cell_type": "code",
   "execution_count": 20,
   "id": "02a3760c",
   "metadata": {},
   "outputs": [
    {
     "data": {
      "text/plain": [
       "65"
      ]
     },
     "execution_count": 20,
     "metadata": {},
     "output_type": "execute_result"
    }
   ],
   "source": [
    "addml(5,10)"
   ]
  },
  {
   "cell_type": "code",
   "execution_count": 23,
   "id": "fcc76e81",
   "metadata": {},
   "outputs": [],
   "source": [
    "e=lambda a,b:a+b+a*b"
   ]
  },
  {
   "cell_type": "code",
   "execution_count": 24,
   "id": "82b44ce0",
   "metadata": {},
   "outputs": [
    {
     "data": {
      "text/plain": [
       "65"
      ]
     },
     "execution_count": 24,
     "metadata": {},
     "output_type": "execute_result"
    }
   ],
   "source": [
    "e(5,10)"
   ]
  },
  {
   "cell_type": "code",
   "execution_count": 61,
   "id": "1e3d3345",
   "metadata": {},
   "outputs": [],
   "source": [
    "listA = [1,2,3,5,4,6,7,8,9,10]"
   ]
  },
  {
   "cell_type": "code",
   "execution_count": 67,
   "id": "4b864529",
   "metadata": {},
   "outputs": [
    {
     "ename": "SyntaxError",
     "evalue": "invalid syntax (3234645535.py, line 1)",
     "output_type": "error",
     "traceback": [
      "\u001b[1;36m  File \u001b[1;32m\"C:\\Users\\Gaurav\\AppData\\Local\\Temp\\ipykernel_9088\\3234645535.py\"\u001b[1;36m, line \u001b[1;32m1\u001b[0m\n\u001b[1;33m    print(map(lambda x: x*x  x % 3 == 0 , listA))\u001b[0m\n\u001b[1;37m                             ^\u001b[0m\n\u001b[1;31mSyntaxError\u001b[0m\u001b[1;31m:\u001b[0m invalid syntax\n"
     ]
    }
   ],
   "source": [
    "\n"
   ]
  },
  {
   "cell_type": "code",
   "execution_count": 1,
   "id": "f713535c",
   "metadata": {},
   "outputs": [
    {
     "ename": "TypeError",
     "evalue": "dict expected at most 1 argument, got 2",
     "output_type": "error",
     "traceback": [
      "\u001b[1;31m---------------------------------------------------------------------------\u001b[0m",
      "\u001b[1;31mTypeError\u001b[0m                                 Traceback (most recent call last)",
      "\u001b[1;32m~\\AppData\\Local\\Temp\\ipykernel_1056\\3966659357.py\u001b[0m in \u001b[0;36m<module>\u001b[1;34m\u001b[0m\n\u001b[1;32m----> 1\u001b[1;33m \u001b[0mdict\u001b[0m\u001b[1;33m(\u001b[0m\u001b[1;36m1\u001b[0m\u001b[1;33m,\u001b[0m\u001b[1;36m2\u001b[0m\u001b[1;33m)\u001b[0m\u001b[1;33m\u001b[0m\u001b[1;33m\u001b[0m\u001b[0m\n\u001b[0m",
      "\u001b[1;31mTypeError\u001b[0m: dict expected at most 1 argument, got 2"
     ]
    }
   ],
   "source": [
    "dict(1)"
   ]
  },
  {
   "cell_type": "code",
   "execution_count": 4,
   "id": "eedaa9db",
   "metadata": {},
   "outputs": [
    {
     "data": {
      "text/plain": [
       "<function __main__.<lambda>(raj, raman)>"
      ]
     },
     "execution_count": 4,
     "metadata": {},
     "output_type": "execute_result"
    }
   ],
   "source": [
    "lambda raj,raman:len(raj+raman)"
   ]
  },
  {
   "cell_type": "code",
   "execution_count": 6,
   "id": "f173fbc5",
   "metadata": {},
   "outputs": [
    {
     "data": {
      "text/plain": [
       "True"
      ]
     },
     "execution_count": 6,
     "metadata": {},
     "output_type": "execute_result"
    }
   ],
   "source": [
    "\"gaurav\"==\"gaurav\""
   ]
  },
  {
   "cell_type": "code",
   "execution_count": null,
   "id": "bf887c0e",
   "metadata": {},
   "outputs": [],
   "source": []
  }
 ],
 "metadata": {
  "kernelspec": {
   "display_name": "Python 3 (ipykernel)",
   "language": "python",
   "name": "python3"
  },
  "language_info": {
   "codemirror_mode": {
    "name": "ipython",
    "version": 3
   },
   "file_extension": ".py",
   "mimetype": "text/x-python",
   "name": "python",
   "nbconvert_exporter": "python",
   "pygments_lexer": "ipython3",
   "version": "3.9.13"
  }
 },
 "nbformat": 4,
 "nbformat_minor": 5
}

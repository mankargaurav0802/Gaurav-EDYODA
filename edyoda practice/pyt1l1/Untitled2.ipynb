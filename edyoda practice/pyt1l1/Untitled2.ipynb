{
 "cells": [
  {
   "cell_type": "code",
   "execution_count": 4,
   "id": "dc9974cc",
   "metadata": {},
   "outputs": [
    {
     "name": "stdout",
     "output_type": "stream",
     "text": [
      "160\n",
      "0.075\n",
      "108000\n",
      "20\n"
     ]
    }
   ],
   "source": [
    "x=90\n",
    "y=40\n",
    "z=30\n",
    "print(x+y+z)\n",
    "print(x/y/z)\n",
    "print(x*y*z)\n",
    "print(x-y-z)"
   ]
  },
  {
   "cell_type": "code",
   "execution_count": null,
   "id": "e54eb5af",
   "metadata": {},
   "outputs": [],
   "source": []
  }
 ],
 "metadata": {
  "kernelspec": {
   "display_name": "Python 3 (ipykernel)",
   "language": "python",
   "name": "python3"
  },
  "language_info": {
   "codemirror_mode": {
    "name": "ipython",
    "version": 3
   },
   "file_extension": ".py",
   "mimetype": "text/x-python",
   "name": "python",
   "nbconvert_exporter": "python",
   "pygments_lexer": "ipython3",
   "version": "3.9.13"
  }
 },
 "nbformat": 4,
 "nbformat_minor": 5
}

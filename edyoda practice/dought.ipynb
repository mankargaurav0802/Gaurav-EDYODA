{
 "cells": [
  {
   "cell_type": "code",
   "execution_count": 31,
   "id": "5c39fa5c",
   "metadata": {},
   "outputs": [],
   "source": [
    "#dought_1 print list in list c\n",
    "nameq_list=[1,4,6,[1,2,3]]"
   ]
  },
  {
   "cell_type": "code",
   "execution_count": 33,
   "id": "eb9dcf4c",
   "metadata": {},
   "outputs": [
    {
     "name": "stdout",
     "output_type": "stream",
     "text": [
      "2\n"
     ]
    }
   ],
   "source": [
    "print(nameq_list[3][1])"
   ]
  },
  {
   "cell_type": "code",
   "execution_count": 12,
   "id": "56cc6f88",
   "metadata": {},
   "outputs": [
    {
     "name": "stdout",
     "output_type": "stream",
     "text": [
      "avg is 110.0\n"
     ]
    }
   ],
   "source": [
    "#for average of 5 num\n",
    "a=10\n",
    "b=20\n",
    "c=30\n",
    "d=40\n",
    "e=50\n",
    "#print((a+b+c+d+e)/5)\n",
    "print(\"avg is {}\".format(a+b+c+d+e/5))"
   ]
  },
  {
   "cell_type": "code",
   "execution_count": null,
   "id": "806724f7",
   "metadata": {},
   "outputs": [],
   "source": []
  }
 ],
 "metadata": {
  "kernelspec": {
   "display_name": "Python 3 (ipykernel)",
   "language": "python",
   "name": "python3"
  },
  "language_info": {
   "codemirror_mode": {
    "name": "ipython",
    "version": 3
   },
   "file_extension": ".py",
   "mimetype": "text/x-python",
   "name": "python",
   "nbconvert_exporter": "python",
   "pygments_lexer": "ipython3",
   "version": "3.9.13"
  }
 },
 "nbformat": 4,
 "nbformat_minor": 5
}

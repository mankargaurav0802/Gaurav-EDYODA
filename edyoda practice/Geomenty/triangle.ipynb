{
 "cells": [
  {
   "cell_type": "code",
   "execution_count": 9,
   "id": "5502c4ef",
   "metadata": {},
   "outputs": [],
   "source": [
    "def area_of_triangle(base,hight):\n",
    "    A = 1/2 * base * hight\n",
    "    return \"base {} hight {} area of triangle = {}\".format(base,hight,A)"
   ]
  },
  {
   "cell_type": "code",
   "execution_count": null,
   "id": "837c3170",
   "metadata": {},
   "outputs": [],
   "source": []
  },
  {
   "cell_type": "code",
   "execution_count": null,
   "id": "4b511768",
   "metadata": {},
   "outputs": [],
   "source": []
  },
  {
   "cell_type": "code",
   "execution_count": null,
   "id": "be51f2e9",
   "metadata": {},
   "outputs": [],
   "source": []
  }
 ],
 "metadata": {
  "kernelspec": {
   "display_name": "Python 3 (ipykernel)",
   "language": "python",
   "name": "python3"
  },
  "language_info": {
   "codemirror_mode": {
    "name": "ipython",
    "version": 3
   },
   "file_extension": ".py",
   "mimetype": "text/x-python",
   "name": "python",
   "nbconvert_exporter": "python",
   "pygments_lexer": "ipython3",
   "version": "3.9.13"
  }
 },
 "nbformat": 4,
 "nbformat_minor": 5
}

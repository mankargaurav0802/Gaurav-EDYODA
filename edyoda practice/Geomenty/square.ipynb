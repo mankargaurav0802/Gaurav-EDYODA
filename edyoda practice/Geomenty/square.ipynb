{
 "cells": [
  {
   "cell_type": "code",
   "execution_count": 1,
   "id": "8b4a25d8",
   "metadata": {},
   "outputs": [],
   "source": [
    "def area_of_square(side):\n",
    "    Area = side * side\n",
    "    return \"if side of square {} then area of square is {}\".format(side,Area)"
   ]
  },
  {
   "cell_type": "code",
   "execution_count": 2,
   "id": "a33dcb3a",
   "metadata": {},
   "outputs": [
    {
     "data": {
      "text/plain": [
       "'if side of square 56 then area of square is 3136'"
      ]
     },
     "execution_count": 2,
     "metadata": {},
     "output_type": "execute_result"
    }
   ],
   "source": [
    "area_of_square(56)"
   ]
  },
  {
   "cell_type": "code",
   "execution_count": null,
   "id": "cbc0ad15",
   "metadata": {},
   "outputs": [],
   "source": [
    "def perimeter_of_square(side):\n",
    "    Perimeter = 4 * side\n",
    "    return \"if side of square {} then perimeter of square {}\".format"
   ]
  },
  {
   "cell_type": "code",
   "execution_count": 6,
   "id": "c4e5d75f",
   "metadata": {},
   "outputs": [
    {
     "name": "stdout",
     "output_type": "stream",
     "text": [
      "gaurav 2500\n",
      "ram 1500\n"
     ]
    }
   ],
   "source": [
    "dict={\"gaurav\" : {\"num\": 989989898,\"add\" : \"daryapyr\", \"sallery\": 2500},\"ram\" : {\"num\": 67578687857,\"add\" : \"daryapyr\", \"sallery\": 1500}}\n",
    "for key,val in dict.items():\n",
    "    print(key,val[\"sallery\"])"
   ]
  },
  {
   "cell_type": "code",
   "execution_count": null,
   "id": "716a31a6",
   "metadata": {},
   "outputs": [],
   "source": []
  }
 ],
 "metadata": {
  "kernelspec": {
   "display_name": "Python 3 (ipykernel)",
   "language": "python",
   "name": "python3"
  },
  "language_info": {
   "codemirror_mode": {
    "name": "ipython",
    "version": 3
   },
   "file_extension": ".py",
   "mimetype": "text/x-python",
   "name": "python",
   "nbconvert_exporter": "python",
   "pygments_lexer": "ipython3",
   "version": "3.9.13"
  },
  "vscode": {
   "interpreter": {
    "hash": "a5f954a518b072afc267ebd6eb29b2da47959f1e543e90f8fa4fe0e403b8accf"
   }
  }
 },
 "nbformat": 4,
 "nbformat_minor": 5
}

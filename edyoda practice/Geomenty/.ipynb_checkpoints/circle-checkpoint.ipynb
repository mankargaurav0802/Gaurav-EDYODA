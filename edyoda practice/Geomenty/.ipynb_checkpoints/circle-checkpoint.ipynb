{
 "cells": [
  {
   "cell_type": "code",
   "execution_count": 1,
   "id": "491b8bbc",
   "metadata": {},
   "outputs": [],
   "source": [
    "def circumferance_of_circle(r):\n",
    "    cc = 2*3.14159265359*r\n",
    "    print(r,cc)"
   ]
  },
  {
   "cell_type": "code",
   "execution_count": 6,
   "id": "24803171",
   "metadata": {},
   "outputs": [
    {
     "name": "stdout",
     "output_type": "stream",
     "text": [
      "5 31.4159265359\n"
     ]
    }
   ],
   "source": [
    "circumferance_of_circle(5)"
   ]
  },
  {
   "cell_type": "code",
   "execution_count": 3,
   "id": "6ac08651",
   "metadata": {},
   "outputs": [],
   "source": [
    "def area_of_circle(radious):\n",
    "    area = 3.14159265359*radious*radious\n",
    "    print(\"area of circle having radious {} is {}\".format(radious,area))"
   ]
  },
  {
   "cell_type": "code",
   "execution_count": 5,
   "id": "3920ffd0",
   "metadata": {},
   "outputs": [
    {
     "data": {
      "text/plain": [
       "'area of circle having radious 50 is 7853.9816339750005'"
      ]
     },
     "execution_count": 5,
     "metadata": {},
     "output_type": "execute_result"
    }
   ],
   "source": [
    "area_of_circle(50)"
   ]
  },
  {
   "cell_type": "raw",
   "id": "b241839e",
   "metadata": {},
   "source": []
  },
  {
   "cell_type": "code",
   "execution_count": null,
   "id": "79843d1e",
   "metadata": {},
   "outputs": [],
   "source": []
  },
  {
   "cell_type": "code",
   "execution_count": 15,
   "id": "3143994a",
   "metadata": {},
   "outputs": [],
   "source": [
    "def dimeter_of_circle(radious):\n",
    "    D = 2*radious\n",
    "    return \"if radious of circe is {} dimater is {}\".format(radious,D)"
   ]
  },
  {
   "cell_type": "code",
   "execution_count": null,
   "id": "88f15816",
   "metadata": {},
   "outputs": [],
   "source": []
  },
  {
   "cell_type": "code",
   "execution_count": 16,
   "id": "7f834f9c",
   "metadata": {},
   "outputs": [],
   "source": [
    "def radious_of_circle(D):\n",
    "    radious = D/2\n",
    "    return \"If dimeter of circle {} then radious is {} \".format(D,radious)"
   ]
  },
  {
   "cell_type": "code",
   "execution_count": null,
   "id": "60acc5ce",
   "metadata": {},
   "outputs": [],
   "source": []
  },
  {
   "cell_type": "code",
   "execution_count": null,
   "id": "6ad8a795",
   "metadata": {},
   "outputs": [],
   "source": []
  },
  {
   "cell_type": "code",
   "execution_count": null,
   "id": "42ccff1b",
   "metadata": {},
   "outputs": [],
   "source": []
  }
 ],
 "metadata": {
  "kernelspec": {
   "display_name": "Python 3 (ipykernel)",
   "language": "python",
   "name": "python3"
  },
  "language_info": {
   "codemirror_mode": {
    "name": "ipython",
    "version": 3
   },
   "file_extension": ".py",
   "mimetype": "text/x-python",
   "name": "python",
   "nbconvert_exporter": "python",
   "pygments_lexer": "ipython3",
   "version": "3.9.13"
  }
 },
 "nbformat": 4,
 "nbformat_minor": 5
}

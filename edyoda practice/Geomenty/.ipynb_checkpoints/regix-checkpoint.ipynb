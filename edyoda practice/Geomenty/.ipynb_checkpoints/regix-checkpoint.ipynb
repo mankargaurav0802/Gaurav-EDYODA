{
 "cells": [
  {
   "cell_type": "code",
   "execution_count": null,
   "id": "e64fb668",
   "metadata": {},
   "outputs": [],
   "source": []
  },
  {
   "cell_type": "code",
   "execution_count": 86,
   "id": "36bed764",
   "metadata": {},
   "outputs": [],
   "source": [
    "import re"
   ]
  },
  {
   "cell_type": "code",
   "execution_count": 87,
   "id": "cd374614",
   "metadata": {},
   "outputs": [],
   "source": [
    "para = \"What is you name ?\\n My name is jafar.\\n What is you age?\\n My age is 24.\\n\""
   ]
  },
  {
   "cell_type": "code",
   "execution_count": 193,
   "id": "9bc03be8",
   "metadata": {},
   "outputs": [
    {
     "name": "stdout",
     "output_type": "stream",
     "text": [
      "['What is you name ?', 'What is you age?']\n"
     ]
    }
   ],
   "source": [
    "print(re.findall(\"[a-zA-Z].*[?]\",para))"
   ]
  },
  {
   "cell_type": "code",
   "execution_count": 398,
   "id": "f235a9f3",
   "metadata": {},
   "outputs": [],
   "source": [
    "news = \"we are facing new problems like global warming. \\nThere also chances of nuclear war. \\nThe porest countr are suffering from food crisess to\""
   ]
  },
  {
   "cell_type": "code",
   "execution_count": 399,
   "id": "aa39a0a0",
   "metadata": {},
   "outputs": [
    {
     "data": {
      "text/plain": [
       "str"
      ]
     },
     "execution_count": 399,
     "metadata": {},
     "output_type": "execute_result"
    }
   ],
   "source": [
    "type(news)"
   ]
  },
  {
   "cell_type": "code",
   "execution_count": 406,
   "id": "1699c2f9",
   "metadata": {},
   "outputs": [
    {
     "data": {
      "text/plain": [
       "[' are ', ' new ', ' war.', '\\nThe ', ' are ']"
      ]
     },
     "execution_count": 406,
     "metadata": {},
     "output_type": "execute_result"
    }
   ],
   "source": [
    "re.findall(\"\\s\\w{3}[\\.|\\s]\",news)"
   ]
  },
  {
   "cell_type": "code",
   "execution_count": 402,
   "id": "2935ad13",
   "metadata": {},
   "outputs": [
    {
     "data": {
      "text/plain": [
       "['facing',\n",
       " 'problems',\n",
       " 'like',\n",
       " 'global',\n",
       " 'warming',\n",
       " 'There',\n",
       " 'also',\n",
       " 'chances',\n",
       " 'nuclear',\n",
       " 'porest',\n",
       " 'countr',\n",
       " 'suffering',\n",
       " 'from',\n",
       " 'food',\n",
       " 'crisess']"
      ]
     },
     "execution_count": 402,
     "metadata": {},
     "output_type": "execute_result"
    }
   ],
   "source": [
    "re.findall(\"[a-zA-Z]{4,}\",news)\n"
   ]
  },
  {
   "cell_type": "code",
   "execution_count": 395,
   "id": "9a3d0214",
   "metadata": {},
   "outputs": [],
   "source": [
    "num = \"hi my name is rahul my  num is 134-3434. my name iks gaurav my no is 2478595987, my num is 348457567\""
   ]
  },
  {
   "cell_type": "code",
   "execution_count": 246,
   "id": "e1130cb4",
   "metadata": {},
   "outputs": [
    {
     "data": {
      "text/plain": [
       "str"
      ]
     },
     "execution_count": 246,
     "metadata": {},
     "output_type": "execute_result"
    }
   ],
   "source": [
    "type(num)"
   ]
  },
  {
   "cell_type": "code",
   "execution_count": 265,
   "id": "4c7c77bd",
   "metadata": {},
   "outputs": [
    {
     "data": {
      "text/plain": [
       "['134-3434', '2478595987', '348457567']"
      ]
     },
     "execution_count": 265,
     "metadata": {},
     "output_type": "execute_result"
    }
   ],
   "source": [
    "re.findall(\"\\d+......\\d\",num)"
   ]
  },
  {
   "cell_type": "code",
   "execution_count": 328,
   "id": "be3e719e",
   "metadata": {},
   "outputs": [],
   "source": [
    "string = \"My website is https://www.example.com, you can also check out http://example2.com, or https://www.example3.net\""
   ]
  },
  {
   "cell_type": "code",
   "execution_count": 329,
   "id": "ac2fd85b",
   "metadata": {},
   "outputs": [
    {
     "data": {
      "text/plain": [
       "str"
      ]
     },
     "execution_count": 329,
     "metadata": {},
     "output_type": "execute_result"
    }
   ],
   "source": [
    "type(string)"
   ]
  },
  {
   "cell_type": "code",
   "execution_count": 369,
   "id": "5ce294ad",
   "metadata": {},
   "outputs": [
    {
     "data": {
      "text/plain": [
       "['/www.example.com', '/example2.com', '/www.example3.net']"
      ]
     },
     "execution_count": 369,
     "metadata": {},
     "output_type": "execute_result"
    }
   ],
   "source": [
    "re.findall(\"[/][\\w.com|.net]+\",string)"
   ]
  },
  {
   "cell_type": "code",
   "execution_count": null,
   "id": "0e6bc4a2",
   "metadata": {},
   "outputs": [],
   "source": []
  },
  {
   "cell_type": "code",
   "execution_count": null,
   "id": "4d93df7b",
   "metadata": {},
   "outputs": [],
   "source": []
  },
  {
   "cell_type": "code",
   "execution_count": null,
   "id": "b4ddefad",
   "metadata": {},
   "outputs": [],
   "source": []
  }
 ],
 "metadata": {
  "kernelspec": {
   "display_name": "Python 3 (ipykernel)",
   "language": "python",
   "name": "python3"
  },
  "language_info": {
   "codemirror_mode": {
    "name": "ipython",
    "version": 3
   },
   "file_extension": ".py",
   "mimetype": "text/x-python",
   "name": "python",
   "nbconvert_exporter": "python",
   "pygments_lexer": "ipython3",
   "version": "3.9.13"
  }
 },
 "nbformat": 4,
 "nbformat_minor": 5
}

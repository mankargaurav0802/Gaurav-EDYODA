{
 "cells": [
  {
   "cell_type": "code",
   "execution_count": null,
   "id": "e64fb668",
   "metadata": {},
   "outputs": [],
   "source": []
  },
  {
   "cell_type": "code",
   "execution_count": 1,
   "id": "36bed764",
   "metadata": {},
   "outputs": [],
   "source": [
    "import re"
   ]
  },
  {
   "cell_type": "code",
   "execution_count": 2,
   "id": "cd374614",
   "metadata": {},
   "outputs": [],
   "source": [
    "para = \"What is you name ?\\n My name is jafar.\\n What is you age?\\n My age is 24.\\n\""
   ]
  },
  {
   "cell_type": "code",
   "execution_count": 3,
   "id": "9bc03be8",
   "metadata": {},
   "outputs": [
    {
     "name": "stdout",
     "output_type": "stream",
     "text": [
      "['What is you name ?', 'What is you age?']\n"
     ]
    }
   ],
   "source": [
    "print(re.findall(\"[a-zA-Z].*[?]\",para))"
   ]
  },
  {
   "cell_type": "code",
   "execution_count": 4,
   "id": "f235a9f3",
   "metadata": {},
   "outputs": [],
   "source": [
    "news = \"we are facing new problems like global warming. \\nThere also chances of nuclear war. \\nThe porest countr are suffering from food crisess to\""
   ]
  },
  {
   "cell_type": "code",
   "execution_count": 5,
   "id": "aa39a0a0",
   "metadata": {},
   "outputs": [
    {
     "data": {
      "text/plain": [
       "str"
      ]
     },
     "execution_count": 5,
     "metadata": {},
     "output_type": "execute_result"
    }
   ],
   "source": [
    "type(news)"
   ]
  },
  {
   "cell_type": "code",
   "execution_count": 6,
   "id": "1699c2f9",
   "metadata": {},
   "outputs": [
    {
     "data": {
      "text/plain": [
       "[' are ', ' new ', ' war.', '\\nThe ', ' are ']"
      ]
     },
     "execution_count": 6,
     "metadata": {},
     "output_type": "execute_result"
    }
   ],
   "source": [
    "re.findall(\"\\s\\w{3}[\\.|\\s]\",news)"
   ]
  },
  {
   "cell_type": "code",
   "execution_count": 39,
   "id": "2935ad13",
   "metadata": {},
   "outputs": [
    {
     "data": {
      "text/plain": [
       "['facing',\n",
       " 'problems',\n",
       " 'like',\n",
       " 'global',\n",
       " 'warming',\n",
       " 'There',\n",
       " 'also',\n",
       " 'chances',\n",
       " 'nuclear',\n",
       " 'porest',\n",
       " 'countr',\n",
       " 'suffering',\n",
       " 'from',\n",
       " 'food',\n",
       " 'crisess']"
      ]
     },
     "execution_count": 39,
     "metadata": {},
     "output_type": "execute_result"
    }
   ],
   "source": [
    "re.findall(\"[a-zA-Z]{4,}\",news)\n"
   ]
  },
  {
   "cell_type": "code",
   "execution_count": 38,
   "id": "9a3d0214",
   "metadata": {},
   "outputs": [],
   "source": [
    "num = \"hi my name is rahul my  num is 134-3434. my name iks gaurav my no is 2478595987, my num is 348457567\""
   ]
  },
  {
   "cell_type": "code",
   "execution_count": 9,
   "id": "e1130cb4",
   "metadata": {},
   "outputs": [
    {
     "data": {
      "text/plain": [
       "str"
      ]
     },
     "execution_count": 9,
     "metadata": {},
     "output_type": "execute_result"
    }
   ],
   "source": [
    "type(num)"
   ]
  },
  {
   "cell_type": "code",
   "execution_count": 10,
   "id": "4c7c77bd",
   "metadata": {},
   "outputs": [
    {
     "data": {
      "text/plain": [
       "['134-3434', '2478595987', '348457567']"
      ]
     },
     "execution_count": 10,
     "metadata": {},
     "output_type": "execute_result"
    }
   ],
   "source": [
    "re.findall(\"\\d+......\\d\",num)"
   ]
  },
  {
   "cell_type": "code",
   "execution_count": 11,
   "id": "be3e719e",
   "metadata": {},
   "outputs": [],
   "source": [
    "string = \"My website is https://www.example.com, you can also check out http://example2.com, or https://www.example3.net\""
   ]
  },
  {
   "cell_type": "code",
   "execution_count": 12,
   "id": "ac2fd85b",
   "metadata": {},
   "outputs": [
    {
     "data": {
      "text/plain": [
       "str"
      ]
     },
     "execution_count": 12,
     "metadata": {},
     "output_type": "execute_result"
    }
   ],
   "source": [
    "type(string)"
   ]
  },
  {
   "cell_type": "code",
   "execution_count": 13,
   "id": "5ce294ad",
   "metadata": {},
   "outputs": [
    {
     "data": {
      "text/plain": [
       "['/www.example.com', '/example2.com', '/www.example3.net']"
      ]
     },
     "execution_count": 13,
     "metadata": {},
     "output_type": "execute_result"
    }
   ],
   "source": [
    "re.findall(\"[/][\\w.com|.net]+\",string)"
   ]
  },
  {
   "cell_type": "code",
   "execution_count": 14,
   "id": "0e6bc4a2",
   "metadata": {},
   "outputs": [],
   "source": [
    "def add(num):\n",
    "    return num+10"
   ]
  },
  {
   "cell_type": "code",
   "execution_count": 15,
   "id": "4d93df7b",
   "metadata": {},
   "outputs": [
    {
     "name": "stdout",
     "output_type": "stream",
     "text": [
      "20\n"
     ]
    }
   ],
   "source": [
    "add(10)"
   ]
  },
  {
   "cell_type": "code",
   "execution_count": 21,
   "id": "b4ddefad",
   "metadata": {},
   "outputs": [],
   "source": [
    "a=lambda num : num * 10"
   ]
  },
  {
   "cell_type": "code",
   "execution_count": 22,
   "id": "9457f682",
   "metadata": {},
   "outputs": [
    {
     "data": {
      "text/plain": [
       "100"
      ]
     },
     "execution_count": 22,
     "metadata": {},
     "output_type": "execute_result"
    }
   ],
   "source": [
    "a(10)"
   ]
  },
  {
   "cell_type": "code",
   "execution_count": 23,
   "id": "0f4fe2ca",
   "metadata": {},
   "outputs": [],
   "source": [
    "def minimum(a,b):\n",
    "    if a<b: \n",
    "        return a\n",
    "    else:\n",
    "        return b"
   ]
  },
  {
   "cell_type": "code",
   "execution_count": 24,
   "id": "39529096",
   "metadata": {},
   "outputs": [
    {
     "data": {
      "text/plain": [
       "10"
      ]
     },
     "execution_count": 24,
     "metadata": {},
     "output_type": "execute_result"
    }
   ],
   "source": [
    "minimum(10,20)"
   ]
  },
  {
   "cell_type": "code",
   "execution_count": 29,
   "id": "06e074d4",
   "metadata": {},
   "outputs": [],
   "source": [
    "c=lambda a,b : a if a<b else b"
   ]
  },
  {
   "cell_type": "code",
   "execution_count": 30,
   "id": "78c539d2",
   "metadata": {},
   "outputs": [
    {
     "data": {
      "text/plain": [
       "10"
      ]
     },
     "execution_count": 30,
     "metadata": {},
     "output_type": "execute_result"
    }
   ],
   "source": [
    "c(10,20)"
   ]
  },
  {
   "cell_type": "code",
   "execution_count": 31,
   "id": "11f444a4",
   "metadata": {},
   "outputs": [],
   "source": [
    "def minimum(a,b):\n",
    "  if a < b:\n",
    "    if b> a:\n",
    "      return b\n",
    "    else:\n",
    "      return a"
   ]
  },
  {
   "cell_type": "code",
   "execution_count": 33,
   "id": "5b7989a9",
   "metadata": {},
   "outputs": [],
   "source": [
    "c=lambda a,b : a if a < b else b if b > a else a"
   ]
  },
  {
   "cell_type": "code",
   "execution_count": 34,
   "id": "d5a9c787",
   "metadata": {},
   "outputs": [],
   "source": [
    "name = \"my name is gaurav\""
   ]
  },
  {
   "cell_type": "code",
   "execution_count": 35,
   "id": "c4d866c7",
   "metadata": {},
   "outputs": [
    {
     "name": "stdout",
     "output_type": "stream",
     "text": [
      "my name is gaurav\n"
     ]
    }
   ],
   "source": [
    "print(name)"
   ]
  },
  {
   "cell_type": "code",
   "execution_count": null,
   "id": "ba73e9c8",
   "metadata": {},
   "outputs": [],
   "source": []
  }
 ],
 "metadata": {
  "kernelspec": {
   "display_name": "Python 3 (ipykernel)",
   "language": "python",
   "name": "python3"
  },
  "language_info": {
   "codemirror_mode": {
    "name": "ipython",
    "version": 3
   },
   "file_extension": ".py",
   "mimetype": "text/x-python",
   "name": "python",
   "nbconvert_exporter": "python",
   "pygments_lexer": "ipython3",
   "version": "3.9.13"
  }
 },
 "nbformat": 4,
 "nbformat_minor": 5
}

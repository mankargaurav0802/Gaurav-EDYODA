{
 "cells": [
  {
   "cell_type": "code",
   "execution_count": 1,
   "id": "4bb552c6",
   "metadata": {},
   "outputs": [],
   "source": [
    "# map is taking element list,str "
   ]
  },
  {
   "cell_type": "code",
   "execution_count": null,
   "id": "a62f3e38",
   "metadata": {},
   "outputs": [],
   "source": [
    "# clearing map lambda function"
   ]
  },
  {
   "cell_type": "code",
   "execution_count": 5,
   "id": "6c01d4c4",
   "metadata": {},
   "outputs": [],
   "source": [
    "list1=[2,3,4,5,6,7]"
   ]
  },
  {
   "cell_type": "code",
   "execution_count": 15,
   "id": "62f43fc7",
   "metadata": {},
   "outputs": [
    {
     "data": {
      "text/plain": [
       "[2.0, 3.0, 4.0, 5.0, 6.0, 7.0]"
      ]
     },
     "execution_count": 15,
     "metadata": {},
     "output_type": "execute_result"
    }
   ],
   "source": [
    "list(map(float, list1))"
   ]
  },
  {
   "cell_type": "code",
   "execution_count": 14,
   "id": "5ecdda71",
   "metadata": {},
   "outputs": [
    {
     "data": {
      "text/plain": [
       "[1.0, 1.5, 2.0, 2.5, 3.0, 3.5]"
      ]
     },
     "execution_count": 14,
     "metadata": {},
     "output_type": "execute_result"
    }
   ],
   "source": [
    "list(map(lambda x: x/2, list1))"
   ]
  },
  {
   "cell_type": "code",
   "execution_count": 30,
   "id": "e8ba5d2e",
   "metadata": {},
   "outputs": [],
   "source": [
    "key=[1,2,3,4,5,6,7,8,9]\n",
    "val=[\"A\",\"B\",\"C\",\"D\",\"E\",\"F\",\"G\",\"H\",\"I\"]"
   ]
  },
  {
   "cell_type": "code",
   "execution_count": 31,
   "id": "ac206c6c",
   "metadata": {},
   "outputs": [
    {
     "data": {
      "text/plain": [
       "{1: 'A', 2: 'B', 3: 'C', 4: 'D', 5: 'E', 6: 'F', 7: 'G', 8: 'H', 9: 'I'}"
      ]
     },
     "execution_count": 31,
     "metadata": {},
     "output_type": "execute_result"
    }
   ],
   "source": [
    "dict(map(lambda x,y:(x,y),key,val))"
   ]
  },
  {
   "cell_type": "code",
   "execution_count": 50,
   "id": "7e293973",
   "metadata": {},
   "outputs": [
    {
     "data": {
      "text/plain": [
       "[2, 2, 4, 4, 6, 6]"
      ]
     },
     "execution_count": 50,
     "metadata": {},
     "output_type": "execute_result"
    }
   ],
   "source": [
    "list(map(lambda x,y: x if x%2==0 else y ,list1,key))"
   ]
  },
  {
   "cell_type": "code",
   "execution_count": 56,
   "id": "8298d58b",
   "metadata": {},
   "outputs": [
    {
     "data": {
      "text/plain": [
       "[2, 4, 6]"
      ]
     },
     "execution_count": 56,
     "metadata": {},
     "output_type": "execute_result"
    }
   ],
   "source": [
    "list(filter(lambda x: x%2==0,list1))"
   ]
  },
  {
   "cell_type": "code",
   "execution_count": null,
   "id": "afebcad1",
   "metadata": {},
   "outputs": [],
   "source": []
  }
 ],
 "metadata": {
  "kernelspec": {
   "display_name": "Python 3 (ipykernel)",
   "language": "python",
   "name": "python3"
  },
  "language_info": {
   "codemirror_mode": {
    "name": "ipython",
    "version": 3
   },
   "file_extension": ".py",
   "mimetype": "text/x-python",
   "name": "python",
   "nbconvert_exporter": "python",
   "pygments_lexer": "ipython3",
   "version": "3.9.13"
  }
 },
 "nbformat": 4,
 "nbformat_minor": 5
}

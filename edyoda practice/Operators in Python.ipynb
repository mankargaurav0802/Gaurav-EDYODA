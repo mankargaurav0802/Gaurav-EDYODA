{
 "cells": [
  {
   "cell_type": "code",
   "execution_count": 7,
   "id": "db6243ff",
   "metadata": {},
   "outputs": [
    {
     "name": "stdout",
     "output_type": "stream",
     "text": [
      "add first number = 8\n",
      "add second number = 4\n",
      "summation 8 + 4 = 12\n",
      "Dividde 8 / 4 = 2\n",
      "multipicatiion 8 * 4 =32\n"
     ]
    }
   ],
   "source": [
    "a=int(input(\"add first number = \"))\n",
    "b=int(input(\"add second number = \"))\n",
    "print(\"summation {0} + {1} = {2}\".format(a,b,a+b))\n",
    "print(\"Dividde {0} / {1} = {2}\".format(a,b,a//b))\n",
    "print(\"multipicatiion {0} * {1} ={2}\".format(a,b,a*b))"
   ]
  },
  {
   "cell_type": "code",
   "execution_count": 18,
   "id": "93b85d36",
   "metadata": {},
   "outputs": [
    {
     "name": "stdout",
     "output_type": "stream",
     "text": [
      "its the odd 1\n",
      "even small than 10 2\n",
      "its the odd 2\n",
      "dividable of 3 3\n",
      "even small than 10 4\n",
      "its the odd 4\n",
      "its the odd 5\n",
      "even small than 10 6\n",
      "dividable of 3 6\n",
      "its the odd 7\n",
      "even small than 10 8\n",
      "its the odd 8\n",
      "dividable of 3 9\n",
      "its the odd 10\n",
      "its the odd 11\n",
      "its the odd 12\n",
      "its the odd 13\n",
      "its the odd 14\n"
     ]
    }
   ],
   "source": [
    "for f in range(1,15):\n",
    "    if f%2==0 and f<10:\n",
    "        print(\"even small than 10\",f)\n",
    "    if f%3==0 and f<10:\n",
    "        print(\"dividable of 3\",f)\n",
    "    else:\n",
    "        print(\"its the odd\",f)"
   ]
  },
  {
   "cell_type": "code",
   "execution_count": 3,
   "id": "62818178",
   "metadata": {},
   "outputs": [
    {
     "name": "stdout",
     "output_type": "stream",
     "text": [
      "10\n",
      "11\n",
      "12\n",
      "13\n",
      "14\n",
      "15\n",
      "16\n",
      "17\n",
      "18\n",
      "19\n"
     ]
    }
   ],
   "source": [
    "for m in range(10,20):\n",
    "    print(m)  "
   ]
  },
  {
   "cell_type": "code",
   "execution_count": 37,
   "id": "9e212c05",
   "metadata": {},
   "outputs": [
    {
     "name": "stdout",
     "output_type": "stream",
     "text": [
      "Addition of a and b = 11\n",
      "Subtraction of a and b = -1\n",
      "Multiplication of a and b = 30\n",
      "Division of a and b = 0.8333333333333334\n",
      "Floor Division of a and b = 0\n"
     ]
    }
   ],
   "source": [
    "a=5\n",
    "b=6\n",
    "print(\"Addition of a and b = {0}\".format(a+b))\n",
    "print(\"Subtraction of a and b = {0}\".format(a-b))\n",
    "print(\"Multiplication of a and b = {0}\".format(a*b))\n",
    "print(\"Division of a and b = {0}\".format(a/b))\n",
    "print(\"Floor Division of a and b = {0}\".format(a//b))"
   ]
  },
  {
   "cell_type": "code",
   "execution_count": 23,
   "id": "cbb17d93",
   "metadata": {},
   "outputs": [
    {
     "name": "stdout",
     "output_type": "stream",
     "text": [
      "sum of g and f = 16\n",
      "sub of g & f = 4\n",
      "multiply of g and f =60\n",
      "dividation of g and f =1.6666666666666667\n",
      "floar division of g and f =1\n"
     ]
    }
   ],
   "source": [
    "g=10\n",
    "f=6\n",
    "print(\"sum of g and f = {0}\".format(g+f))\n",
    "print(\"sub of g & f = {0}\".format(g-f))\n",
    "print(\"multiply of g and f ={0}\".format(g*f))\n",
    "print(\"dividation of g and f ={0}\".format(g/f))\n",
    "print(\"floar division of g and f ={0}\".format(g//f))"
   ]
  },
  {
   "cell_type": "code",
   "execution_count": 5,
   "id": "a03f1198",
   "metadata": {},
   "outputs": [],
   "source": [
    "## If and Else\n",
    "\n",
    "a=5"
   ]
  },
  {
   "cell_type": "code",
   "execution_count": 6,
   "id": "ebb58b1a",
   "metadata": {},
   "outputs": [
    {
     "name": "stdout",
     "output_type": "stream",
     "text": [
      "5\n"
     ]
    }
   ],
   "source": [
    "print(a)"
   ]
  },
  {
   "cell_type": "code",
   "execution_count": 7,
   "id": "967d70b2",
   "metadata": {},
   "outputs": [
    {
     "data": {
      "text/plain": [
       "False"
      ]
     },
     "execution_count": 7,
     "metadata": {},
     "output_type": "execute_result"
    }
   ],
   "source": [
    "a==6"
   ]
  },
  {
   "cell_type": "code",
   "execution_count": 8,
   "id": "9e55ffb0",
   "metadata": {},
   "outputs": [
    {
     "data": {
      "text/plain": [
       "True"
      ]
     },
     "execution_count": 8,
     "metadata": {},
     "output_type": "execute_result"
    }
   ],
   "source": [
    "a==5"
   ]
  },
  {
   "cell_type": "code",
   "execution_count": 9,
   "id": "cb6f5a3f",
   "metadata": {},
   "outputs": [
    {
     "data": {
      "text/plain": [
       "1"
      ]
     },
     "execution_count": 9,
     "metadata": {},
     "output_type": "execute_result"
    }
   ],
   "source": [
    "5%2"
   ]
  },
  {
   "cell_type": "code",
   "execution_count": 16,
   "id": "d9ad7898",
   "metadata": {},
   "outputs": [
    {
     "data": {
      "text/plain": [
       "False"
      ]
     },
     "execution_count": 16,
     "metadata": {},
     "output_type": "execute_result"
    }
   ],
   "source": [
    "5!=5"
   ]
  },
  {
   "cell_type": "code",
   "execution_count": null,
   "id": "0486e6d5",
   "metadata": {},
   "outputs": [],
   "source": []
  },
  {
   "cell_type": "code",
   "execution_count": null,
   "id": "5669da80",
   "metadata": {},
   "outputs": [],
   "source": [
    "LHS==RHS"
   ]
  },
  {
   "cell_type": "code",
   "execution_count": null,
   "id": "a598e478",
   "metadata": {},
   "outputs": [],
   "source": [
    "LHS not equal to RHS\n",
    "LHS!=RHS"
   ]
  },
  {
   "cell_type": "code",
   "execution_count": 14,
   "id": "64905b1d",
   "metadata": {},
   "outputs": [
    {
     "name": "stdout",
     "output_type": "stream",
     "text": [
      "6 is an even number\n"
     ]
    }
   ],
   "source": [
    "if a%2==0:\n",
    "    print(\"{0} is an even number\".format(a))\n",
    "else:\n",
    "    print(\"{0} is an odd number\".format(a))"
   ]
  },
  {
   "cell_type": "code",
   "execution_count": 17,
   "id": "daa52a3e",
   "metadata": {},
   "outputs": [
    {
     "data": {
      "text/plain": [
       "True"
      ]
     },
     "execution_count": 17,
     "metadata": {},
     "output_type": "execute_result"
    }
   ],
   "source": [
    "5==5"
   ]
  },
  {
   "cell_type": "code",
   "execution_count": 18,
   "id": "3bcd2ef3",
   "metadata": {},
   "outputs": [
    {
     "data": {
      "text/plain": [
       "False"
      ]
     },
     "execution_count": 18,
     "metadata": {},
     "output_type": "execute_result"
    }
   ],
   "source": [
    "5==6"
   ]
  },
  {
   "cell_type": "code",
   "execution_count": 19,
   "id": "3265ecf4",
   "metadata": {},
   "outputs": [
    {
     "data": {
      "text/plain": [
       "True"
      ]
     },
     "execution_count": 19,
     "metadata": {},
     "output_type": "execute_result"
    }
   ],
   "source": [
    "6 != 5"
   ]
  },
  {
   "cell_type": "code",
   "execution_count": 20,
   "id": "d10aac99",
   "metadata": {},
   "outputs": [
    {
     "data": {
      "text/plain": [
       "True"
      ]
     },
     "execution_count": 20,
     "metadata": {},
     "output_type": "execute_result"
    }
   ],
   "source": [
    "5%2 != 0\n"
   ]
  },
  {
   "cell_type": "code",
   "execution_count": null,
   "id": "6ae2bbb6",
   "metadata": {},
   "outputs": [],
   "source": [
    "if a%2==0:\n",
    "    print(\"{0} is an even number\".format(a))\n",
    "else:\n",
    "    print(\"{0} is an odd number\".format(a))"
   ]
  },
  {
   "cell_type": "code",
   "execution_count": 25,
   "id": "594387c0",
   "metadata": {},
   "outputs": [
    {
     "name": "stdout",
     "output_type": "stream",
     "text": [
      "565656565656 given number is even\n"
     ]
    }
   ],
   "source": [
    "#565656565656 find it is odd or even number using if else farmula\n",
    "a=565656565656\n",
    "if n%2==0:\n",
    "    print(\"{0} given number is even\".format(a))\n",
    "else\n",
    "    print(\"{0} given number is odd\".format(a))\n"
   ]
  },
  {
   "cell_type": "code",
   "execution_count": 29,
   "id": "c42fe8b4",
   "metadata": {},
   "outputs": [],
   "source": [
    "## Get sum of all the odd numbers from 1 to 100\n",
    "summation = 0\n",
    "for num in range(1,101):\n",
    "    if num%2!=0:\n",
    "     summation = summation+num"
   ]
  },
  {
   "cell_type": "code",
   "execution_count": 22,
   "id": "74838c85",
   "metadata": {},
   "outputs": [
    {
     "data": {
      "text/plain": [
       "2500"
      ]
     },
     "execution_count": 22,
     "metadata": {},
     "output_type": "execute_result"
    }
   ],
   "source": [
    "summation"
   ]
  },
  {
   "cell_type": "code",
   "execution_count": 9,
   "id": "5e25a29e",
   "metadata": {},
   "outputs": [],
   "source": [
    "##get the sum of all the even numbers from 1 to 100\n",
    "addition = 0\n",
    "for num in range (1,101):\n",
    "    if num%2==0:\n",
    "     addition = addition+num"
   ]
  },
  {
   "cell_type": "code",
   "execution_count": 12,
   "id": "1c8cecc5",
   "metadata": {},
   "outputs": [
    {
     "data": {
      "text/plain": [
       "2450"
      ]
     },
     "execution_count": 12,
     "metadata": {},
     "output_type": "execute_result"
    }
   ],
   "source": [
    "addition"
   ]
  },
  {
   "cell_type": "code",
   "execution_count": 24,
   "id": "db694694",
   "metadata": {},
   "outputs": [],
   "source": [
    "summation = 0 \n",
    "for num in [1,2,3,4,5]:\n",
    "    summation = summation+num"
   ]
  },
  {
   "cell_type": "code",
   "execution_count": 25,
   "id": "f9925f03",
   "metadata": {},
   "outputs": [
    {
     "data": {
      "text/plain": [
       "15"
      ]
     },
     "execution_count": 25,
     "metadata": {},
     "output_type": "execute_result"
    }
   ],
   "source": [
    "summation"
   ]
  },
  {
   "cell_type": "code",
   "execution_count": 26,
   "id": "a62aa227",
   "metadata": {},
   "outputs": [
    {
     "data": {
      "text/plain": [
       "15"
      ]
     },
     "execution_count": 26,
     "metadata": {},
     "output_type": "execute_result"
    }
   ],
   "source": [
    "list_1 = [1,2,3,4,5]\n",
    "sum(list_1)"
   ]
  },
  {
   "cell_type": "code",
   "execution_count": 28,
   "id": "ef5dd527",
   "metadata": {},
   "outputs": [
    {
     "data": {
      "text/plain": [
       "22"
      ]
     },
     "execution_count": 28,
     "metadata": {},
     "output_type": "execute_result"
    }
   ],
   "source": [
    "g1=[1,5,6,6,3,1]\n",
    "sum(g1)"
   ]
  },
  {
   "cell_type": "code",
   "execution_count": 28,
   "id": "3c646631",
   "metadata": {},
   "outputs": [],
   "source": [
    "new_product=1\n",
    "for i in range(5):\n",
    "    new_product = new_product+i"
   ]
  },
  {
   "cell_type": "code",
   "execution_count": 29,
   "id": "e47901fe",
   "metadata": {},
   "outputs": [
    {
     "data": {
      "text/plain": [
       "True"
      ]
     },
     "execution_count": 29,
     "metadata": {},
     "output_type": "execute_result"
    }
   ],
   "source": [
    "0%3==0"
   ]
  },
  {
   "cell_type": "code",
   "execution_count": 31,
   "id": "61547a68",
   "metadata": {
    "scrolled": true
   },
   "outputs": [],
   "source": [
    "a=3"
   ]
  },
  {
   "cell_type": "code",
   "execution_count": 32,
   "id": "e1045b76",
   "metadata": {},
   "outputs": [
    {
     "data": {
      "text/plain": [
       "True"
      ]
     },
     "execution_count": 32,
     "metadata": {},
     "output_type": "execute_result"
    }
   ],
   "source": [
    "a==3 or a==5"
   ]
  },
  {
   "cell_type": "code",
   "execution_count": 35,
   "id": "2db59ea7",
   "metadata": {},
   "outputs": [
    {
     "name": "stdout",
     "output_type": "stream",
     "text": [
      "3\n",
      "5\n",
      "6\n",
      "9\n",
      "10\n",
      "12\n",
      "18\n",
      "20\n",
      "21\n",
      "24\n",
      "25\n",
      "27\n",
      "33\n",
      "35\n",
      "36\n",
      "39\n",
      "40\n",
      "42\n",
      "48\n",
      "50\n",
      "51\n",
      "54\n",
      "55\n",
      "57\n",
      "63\n",
      "65\n",
      "66\n",
      "69\n",
      "70\n",
      "72\n",
      "78\n",
      "80\n",
      "81\n",
      "84\n",
      "85\n",
      "87\n",
      "93\n",
      "95\n",
      "96\n",
      "99\n",
      "100\n"
     ]
    }
   ],
   "source": [
    "for num in range(1,101):\n",
    "    if (num%15!=0) and (num%3==0 or num%5==0):\n",
    "        print(num)\n",
    "        \n",
    "    \n",
    "    \n",
    "        "
   ]
  },
  {
   "cell_type": "code",
   "execution_count": null,
   "id": "5680fcba",
   "metadata": {},
   "outputs": [],
   "source": [
    "not (num%3==0 and num%5==0)= num%3!=0 or num%5!=0\n"
   ]
  },
  {
   "cell_type": "code",
   "execution_count": 31,
   "id": "577358be",
   "metadata": {},
   "outputs": [
    {
     "name": "stdout",
     "output_type": "stream",
     "text": [
      "[1, 2, 3, 4, 6, 7, 8]\n"
     ]
    }
   ],
   "source": [
    "# Python program to print duplicates from\n",
    "# a list of integers\n",
    "list_2=[1,2,3,4,5,6,7,8,1,2,3,4,6,7,8]\n",
    " \n",
    "uniqueList = []\n",
    "duplicateList = []\n",
    " \n",
    "for i in list_2:\n",
    "    if i not in uniqueList:\n",
    "        uniqueList.append(i)\n",
    "    elif i not in duplicateList:\n",
    "        duplicateList.append(i)\n",
    " \n",
    "print(duplicateList)"
   ]
  },
  {
   "cell_type": "code",
   "execution_count": 45,
   "id": "a1d6e9c3",
   "metadata": {},
   "outputs": [],
   "source": [
    "xor_result=0\n",
    "for num in [1,2,3,4,5,6,7,8,1,2,3,4,6,7,8]:\n",
    "    xor_result=xor_result^num"
   ]
  },
  {
   "cell_type": "code",
   "execution_count": 46,
   "id": "48506ae2",
   "metadata": {},
   "outputs": [
    {
     "data": {
      "text/plain": [
       "5"
      ]
     },
     "execution_count": 46,
     "metadata": {},
     "output_type": "execute_result"
    }
   ],
   "source": [
    "xor_result"
   ]
  },
  {
   "cell_type": "code",
   "execution_count": null,
   "id": "6daddd63",
   "metadata": {},
   "outputs": [],
   "source": [
    "for num iin range(1,10)\n",
    "if num%num=1"
   ]
  },
  {
   "cell_type": "code",
   "execution_count": 47,
   "id": "72ba38a6",
   "metadata": {},
   "outputs": [
    {
     "name": "stdout",
     "output_type": "stream",
     "text": [
      "0.3\n"
     ]
    }
   ],
   "source": [
    "a=0.1\n",
    "b=0.2\n",
    "c=0.3\n",
    "a+b==c\n",
    "print(c)"
   ]
  },
  {
   "cell_type": "code",
   "execution_count": null,
   "id": "ae03436d",
   "metadata": {},
   "outputs": [],
   "source": []
  }
 ],
 "metadata": {
  "kernelspec": {
   "display_name": "Python 3 (ipykernel)",
   "language": "python",
   "name": "python3"
  },
  "language_info": {
   "codemirror_mode": {
    "name": "ipython",
    "version": 3
   },
   "file_extension": ".py",
   "mimetype": "text/x-python",
   "name": "python",
   "nbconvert_exporter": "python",
   "pygments_lexer": "ipython3",
   "version": "3.9.13"
  }
 },
 "nbformat": 4,
 "nbformat_minor": 5
}

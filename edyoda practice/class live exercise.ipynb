{
 "cells": [
  {
   "cell_type": "code",
   "execution_count": null,
   "id": "87ca8e61",
   "metadata": {},
   "outputs": [],
   "source": [
    "## Python program to print even length words in a string\n",
    "given_str = input()\n",
    "Output:\n",
    "Edyoda\n",
    "at\n",
    "Priyanka\n",
    "gaurav study at edyoda data scinc"
   ]
  },
  {
   "cell_type": "code",
   "execution_count": 9,
   "id": "113b90f9",
   "metadata": {},
   "outputs": [
    {
     "name": "stdout",
     "output_type": "stream",
     "text": [
      "['gaurav', 'study', 'at', 'edyoda', 'data', 'scinc']\n"
     ]
    }
   ],
   "source": [
    "a=\"gaurav study at edyoda data scinc\"\n",
    "list_1=a.split()\n",
    "print(list_1)"
   ]
  },
  {
   "cell_type": "code",
   "execution_count": 42,
   "id": "54058afa",
   "metadata": {},
   "outputs": [
    {
     "name": "stdout",
     "output_type": "stream",
     "text": [
      "32 gaurav study at edyoda data scinc\n"
     ]
    }
   ],
   "source": [
    "c=len(a)-5:\n",
    "    print(\"{0}\".format(len(a)-1),c)\n"
   ]
  },
  {
   "cell_type": "code",
   "execution_count": 25,
   "id": "3b6f2b97",
   "metadata": {},
   "outputs": [
    {
     "name": "stdout",
     "output_type": "stream",
     "text": [
      "gaurav study at edyoda data scinc\n"
     ]
    }
   ],
   "source": [
    "print(a)"
   ]
  },
  {
   "cell_type": "code",
   "execution_count": 10,
   "id": "ab683ad3",
   "metadata": {},
   "outputs": [
    {
     "name": "stdout",
     "output_type": "stream",
     "text": [
      "+\n",
      "++\n",
      "+++\n",
      "++++\n",
      "+++++\n"
     ]
    }
   ],
   "source": [
    "for t in range(0,5):\n",
    "    for h in range(0,t+1):\n",
    "        print(\"+\",end=\"\")\n",
    "    print()"
   ]
  },
  {
   "cell_type": "code",
   "execution_count": 43,
   "id": "affc1a6c",
   "metadata": {},
   "outputs": [
    {
     "name": "stdout",
     "output_type": "stream",
     "text": [
      "\n",
      "+\n",
      "++\n",
      "+++\n",
      "++++\n",
      "+++++\n",
      "++++++\n",
      "+++++++\n",
      "++++++++\n",
      "+++++++++\n"
     ]
    }
   ],
   "source": [
    "for n in range(0,10):\n",
    "        for h in range(0,n):\n",
    "            print(\"+\",end=\"\")\n",
    "        print()\n",
    "         "
   ]
  },
  {
   "cell_type": "code",
   "execution_count": null,
   "id": "8e17d9dc",
   "metadata": {},
   "outputs": [],
   "source": [
    "Write a program to calculate the electricity bill (accept number of unit from user) according to the following criteria :\n",
    "    Unit                                                     Price  \n",
    "First 100 units                                               no charge\n",
    "Next 100 units                                              Rs 5 per unit\n",
    "After 200 units                                             Rs 10 per unit\n",
    "(For example if input unit is 350 than total bill amount is Rs2000)\n",
    "\n",
    "100->0 = 0\n",
    "100->5*100=500\n",
    "150->150*10= 1500\n",
    "Rs 2000"
   ]
  },
  {
   "cell_type": "code",
   "execution_count": 24,
   "id": "fa28b341",
   "metadata": {},
   "outputs": [
    {
     "name": "stdout",
     "output_type": "stream",
     "text": [
      "enter your unit350\n",
      "-150\n",
      "2000\n"
     ]
    }
   ],
   "source": [
    "a=int(input(\"enter your unit\"))\n",
    "if a<100:\n",
    "    print(a)\n",
    "if a>100:\n",
    "    print(a-100*5)\n",
    "if a>200:\n",
    "    print(a-100-a*5+a*10)"
   ]
  },
  {
   "cell_type": "code",
   "execution_count": 14,
   "id": "ee170361",
   "metadata": {},
   "outputs": [
    {
     "data": {
      "text/plain": [
       "2000"
      ]
     },
     "execution_count": 14,
     "metadata": {},
     "output_type": "execute_result"
    }
   ],
   "source": [
    "100*0+100*5+150*10"
   ]
  },
  {
   "cell_type": "code",
   "execution_count": 20,
   "id": "39167c1e",
   "metadata": {},
   "outputs": [
    {
     "data": {
      "text/plain": [
       "350"
      ]
     },
     "execution_count": 20,
     "metadata": {},
     "output_type": "execute_result"
    }
   ],
   "source": [
    "100+50*5"
   ]
  },
  {
   "cell_type": "code",
   "execution_count": null,
   "id": "4344715e",
   "metadata": {},
   "outputs": [],
   "source": [
    "Write a program to accept percentage from the user and display the grade according to the following criteria:\n",
    "         Marks                                    Grade\n",
    "         > 90                                         A\n",
    "         > 80 and <= 90                        \t\t\t\tB\n",
    "         >= 60 and <= 80                      \t\t\t\tC\n",
    "    \t\t below 60                                  \t  D\n",
    "\n"
   ]
  },
  {
   "cell_type": "code",
   "execution_count": 35,
   "id": "972ba183",
   "metadata": {},
   "outputs": [
    {
     "name": "stdout",
     "output_type": "stream",
     "text": [
      "Enter your marks = 70\n",
      "Your grade is  C\n"
     ]
    }
   ],
   "source": [
    "marks=int(input(\"Enter your marks = \"))\n",
    "if marks in range(90,100):\n",
    "    print(\"Your grade is A\")\n",
    "if marks in range(80,90):\n",
    "    print(\"Your grade is  B\")\n",
    "if marks in range(60,80):\n",
    "    print(\"Your grade is  C\")\n",
    "if marks<60:\n",
    "    print(\"Your grade is  D\")\n"
   ]
  },
  {
   "cell_type": "code",
   "execution_count": null,
   "id": "da431e7e",
   "metadata": {},
   "outputs": [],
   "source": [
    "string=‘we Are Learning’\n",
    "a=string.capitalize()\n",
    "b=string.title()\n",
    "print(a, b, sep=‘-’)\n",
    "\n",
    "which one of the following is the output of above function?\n",
    "\n",
    "a) We Are Learning-We Are Learning\n",
    "b) We are learning-We Are Learning\n",
    "c) We Are Learning-We are learning\n",
    "d) We are learning-We are learning"
   ]
  },
  {
   "cell_type": "code",
   "execution_count": 47,
   "id": "93f9b9c4",
   "metadata": {},
   "outputs": [
    {
     "name": "stdout",
     "output_type": "stream",
     "text": [
      "We are learning-We Are Learning\n"
     ]
    }
   ],
   "source": [
    "a=\"we are learning\"\n",
    "b=a.capitalize()\n",
    "c=a.title()\n",
    "print(b,c,sep=\"-\")"
   ]
  },
  {
   "cell_type": "code",
   "execution_count": 46,
   "id": "0c54c363",
   "metadata": {},
   "outputs": [
    {
     "ename": "AttributeError",
     "evalue": "'str' object has no attribute 'capatilize'",
     "output_type": "error",
     "traceback": [
      "\u001b[1;31m---------------------------------------------------------------------------\u001b[0m",
      "\u001b[1;31mAttributeError\u001b[0m                            Traceback (most recent call last)",
      "\u001b[1;32m~\\AppData\\Local\\Temp\\ipykernel_2624\\2035058867.py\u001b[0m in \u001b[0;36m<module>\u001b[1;34m\u001b[0m\n\u001b[0;32m      1\u001b[0m \u001b[0ma\u001b[0m\u001b[1;33m=\u001b[0m\u001b[1;34m\"we are learning\"\u001b[0m\u001b[1;33m\u001b[0m\u001b[1;33m\u001b[0m\u001b[0m\n\u001b[1;32m----> 2\u001b[1;33m \u001b[0ma\u001b[0m\u001b[1;33m.\u001b[0m\u001b[0mcapatilize\u001b[0m\u001b[1;33m(\u001b[0m\u001b[1;33m)\u001b[0m\u001b[1;33m\u001b[0m\u001b[1;33m\u001b[0m\u001b[0m\n\u001b[0m",
      "\u001b[1;31mAttributeError\u001b[0m: 'str' object has no attribute 'capatilize'"
     ]
    }
   ],
   "source": [
    "a=\"we are learning\"\n",
    "a.capatilize()\n"
   ]
  },
  {
   "cell_type": "code",
   "execution_count": null,
   "id": "8b2ae8c1",
   "metadata": {},
   "outputs": [],
   "source": []
  }
 ],
 "metadata": {
  "kernelspec": {
   "display_name": "Python 3 (ipykernel)",
   "language": "python",
   "name": "python3"
  },
  "language_info": {
   "codemirror_mode": {
    "name": "ipython",
    "version": 3
   },
   "file_extension": ".py",
   "mimetype": "text/x-python",
   "name": "python",
   "nbconvert_exporter": "python",
   "pygments_lexer": "ipython3",
   "version": "3.9.13"
  }
 },
 "nbformat": 4,
 "nbformat_minor": 5
}
